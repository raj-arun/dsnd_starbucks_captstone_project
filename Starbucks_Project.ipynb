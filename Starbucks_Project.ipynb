{
 "cells": [
  {
   "cell_type": "markdown",
   "metadata": {},
   "source": [
    "# Starbucks Capstone Challenge\n",
    "\n",
    "### Introduction\n",
    "\n",
    "This data set contains simulated data that mimics customer behavior on the Starbucks rewards mobile app. Once every few days, Starbucks sends out an offer to users of the mobile app. An offer can be merely an advertisement for a drink or an actual offer such as a discount or BOGO (buy one get one free). Some users might not receive any offer during certain weeks. \n",
    "\n",
    "Not all users receive the same offer, and that is the challenge to solve with this data set.\n",
    "\n",
    "Your task is to combine transaction, demographic and offer data to determine which demographic groups respond best to which offer type. This data set is a simplified version of the real Starbucks app because the underlying simulator only has one product whereas Starbucks actually sells dozens of products.\n",
    "\n",
    "Every offer has a validity period before the offer expires. As an example, a BOGO offer might be valid for only 5 days. You'll see in the data set that informational offers have a validity period even though these ads are merely providing information about a product; for example, if an informational offer has 7 days of validity, you can assume the customer is feeling the influence of the offer for 7 days after receiving the advertisement.\n",
    "\n",
    "You'll be given transactional data showing user purchases made on the app including the timestamp of purchase and the amount of money spent on a purchase. This transactional data also has a record for each offer that a user receives as well as a record for when a user actually views the offer. There are also records for when a user completes an offer. \n",
    "\n",
    "Keep in mind as well that someone using the app might make a purchase through the app without having received an offer or seen an offer.\n",
    "\n",
    "### Example\n",
    "\n",
    "To give an example, a user could receive a discount offer buy 10 dollars get 2 off on Monday. The offer is valid for 10 days from receipt. If the customer accumulates at least 10 dollars in purchases during the validity period, the customer completes the offer.\n",
    "\n",
    "However, there are a few things to watch out for in this data set. Customers do not opt into the offers that they receive; in other words, a user can receive an offer, never actually view the offer, and still complete the offer. For example, a user might receive the \"buy 10 dollars get 2 dollars off offer\", but the user never opens the offer during the 10 day validity period. The customer spends 15 dollars during those ten days. There will be an offer completion record in the data set; however, the customer was not influenced by the offer because the customer never viewed the offer.\n",
    "\n",
    "### Cleaning\n",
    "\n",
    "This makes data cleaning especially important and tricky.\n",
    "\n",
    "You'll also want to take into account that some demographic groups will make purchases even if they don't receive an offer. From a business perspective, if a customer is going to make a 10 dollar purchase without an offer anyway, you wouldn't want to send a buy 10 dollars get 2 dollars off offer. You'll want to try to assess what a certain demographic group will buy when not receiving any offers.\n",
    "\n",
    "### Final Advice\n",
    "\n",
    "Because this is a capstone project, you are free to analyze the data any way you see fit. For example, you could build a machine learning model that predicts how much someone will spend based on demographics and offer type. Or you could build a model that predicts whether or not someone will respond to an offer. Or, you don't need to build a machine learning model at all. You could develop a set of heuristics that determine what offer you should send to each customer (i.e., 75 percent of women customers who were 35 years old responded to offer A vs 40 percent from the same demographic to offer B, so send offer A)."
   ]
  },
  {
   "cell_type": "markdown",
   "metadata": {},
   "source": [
    "# Data Sets\n",
    "\n",
    "The data is contained in three files:\n",
    "\n",
    "* portfolio.json - containing offer ids and meta data about each offer (duration, type, etc.)\n",
    "* profile.json - demographic data for each customer\n",
    "* transcript.json - records for transactions, offers received, offers viewed, and offers completed\n",
    "\n",
    "Here is the schema and explanation of each variable in the files:\n",
    "\n",
    "**portfolio.json**\n",
    "* id (string) - offer id\n",
    "* offer_type (string) - type of offer ie BOGO, discount, informational\n",
    "* difficulty (int) - minimum required spend to complete an offer\n",
    "* reward (int) - reward given for completing an offer\n",
    "* duration (int) - time for offer to be open, in days\n",
    "* channels (list of strings)\n",
    "\n",
    "**profile.json**\n",
    "* age (int) - age of the customer \n",
    "* became_member_on (int) - date when customer created an app account\n",
    "* gender (str) - gender of the customer (note some entries contain 'O' for other rather than M or F)\n",
    "* id (str) - customer id\n",
    "* income (float) - customer's income\n",
    "\n",
    "**transcript.json**\n",
    "* event (str) - record description (ie transaction, offer received, offer viewed, etc.)\n",
    "* person (str) - customer id\n",
    "* time (int) - time in hours since start of test. The data begins at time t=0\n",
    "* value - (dict of strings) - either an offer id or transaction amount depending on the record\n",
    "\n",
    "**Note:** If you are using the workspace, you will need to go to the terminal and run the command `conda update pandas` before reading in the files. This is because the version of pandas in the workspace cannot read in the transcript.json file correctly, but the newest version of pandas can. You can access the termnal from the orange icon in the top left of this notebook.  \n",
    "\n",
    "You can see how to access the terminal and how the install works using the two images below.  First you need to access the terminal:\n",
    "\n",
    "<img src=\"pic1.png\"/>\n",
    "\n",
    "Then you will want to run the above command:\n",
    "\n",
    "<img src=\"pic2.png\"/>\n",
    "\n",
    "Finally, when you enter back into the notebook (use the jupyter icon again), you should be able to run the below cell without any errors."
   ]
  },
  {
   "cell_type": "code",
   "execution_count": 1,
   "metadata": {},
   "outputs": [],
   "source": [
    "# import the necessary libraries\n",
    "import pandas as pd\n",
    "import numpy as np\n",
    "import matplotlib.pyplot as plt\n",
    "import seaborn as sns\n",
    "import plotly as py\n",
    "import plotly.graph_objs as go\n",
    "import math\n",
    "import json\n",
    "import re\n",
    "\n",
    "from sklearn.preprocessing import LabelBinarizer, MinMaxScaler, MultiLabelBinarizer\n",
    "from sklearn.metrics import accuracy_score, f1_score\n",
    "from sklearn.ensemble import RandomForestClassifier\n",
    "from sklearn.linear_model import LogisticRegression\n",
    "from sklearn.metrics import fbeta_score, make_scorer, confusion_matrix, classification_report\n",
    "from sklearn.model_selection import GridSearchCV, RandomizedSearchCV, train_test_split\n",
    "from sklearn.svm import SVC\n",
    "\n",
    "% matplotlib inline"
   ]
  },
  {
   "cell_type": "code",
   "execution_count": 3,
   "metadata": {},
   "outputs": [],
   "source": [
    "# read in the json files\n",
    "portfolio = pd.read_json('data/portfolio.json', orient='records', lines=True)\n",
    "profile = pd.read_json('data/profile.json', orient='records', lines=True)\n",
    "transcript = pd.read_json('data/transcript.json', orient='records', lines=True)"
   ]
  },
  {
   "cell_type": "code",
   "execution_count": 4,
   "metadata": {},
   "outputs": [
    {
     "data": {
      "text/html": [
       "<div>\n",
       "<style scoped>\n",
       "    .dataframe tbody tr th:only-of-type {\n",
       "        vertical-align: middle;\n",
       "    }\n",
       "\n",
       "    .dataframe tbody tr th {\n",
       "        vertical-align: top;\n",
       "    }\n",
       "\n",
       "    .dataframe thead th {\n",
       "        text-align: right;\n",
       "    }\n",
       "</style>\n",
       "<table border=\"1\" class=\"dataframe\">\n",
       "  <thead>\n",
       "    <tr style=\"text-align: right;\">\n",
       "      <th></th>\n",
       "      <th>channels</th>\n",
       "      <th>difficulty</th>\n",
       "      <th>duration</th>\n",
       "      <th>id</th>\n",
       "      <th>offer_type</th>\n",
       "      <th>reward</th>\n",
       "    </tr>\n",
       "  </thead>\n",
       "  <tbody>\n",
       "    <tr>\n",
       "      <th>0</th>\n",
       "      <td>[email, mobile, social]</td>\n",
       "      <td>10</td>\n",
       "      <td>7</td>\n",
       "      <td>ae264e3637204a6fb9bb56bc8210ddfd</td>\n",
       "      <td>bogo</td>\n",
       "      <td>10</td>\n",
       "    </tr>\n",
       "    <tr>\n",
       "      <th>1</th>\n",
       "      <td>[web, email, mobile, social]</td>\n",
       "      <td>10</td>\n",
       "      <td>5</td>\n",
       "      <td>4d5c57ea9a6940dd891ad53e9dbe8da0</td>\n",
       "      <td>bogo</td>\n",
       "      <td>10</td>\n",
       "    </tr>\n",
       "    <tr>\n",
       "      <th>2</th>\n",
       "      <td>[web, email, mobile]</td>\n",
       "      <td>0</td>\n",
       "      <td>4</td>\n",
       "      <td>3f207df678b143eea3cee63160fa8bed</td>\n",
       "      <td>informational</td>\n",
       "      <td>0</td>\n",
       "    </tr>\n",
       "    <tr>\n",
       "      <th>3</th>\n",
       "      <td>[web, email, mobile]</td>\n",
       "      <td>5</td>\n",
       "      <td>7</td>\n",
       "      <td>9b98b8c7a33c4b65b9aebfe6a799e6d9</td>\n",
       "      <td>bogo</td>\n",
       "      <td>5</td>\n",
       "    </tr>\n",
       "    <tr>\n",
       "      <th>4</th>\n",
       "      <td>[web, email]</td>\n",
       "      <td>20</td>\n",
       "      <td>10</td>\n",
       "      <td>0b1e1539f2cc45b7b9fa7c272da2e1d7</td>\n",
       "      <td>discount</td>\n",
       "      <td>5</td>\n",
       "    </tr>\n",
       "  </tbody>\n",
       "</table>\n",
       "</div>"
      ],
      "text/plain": [
       "                       channels  difficulty  duration  \\\n",
       "0       [email, mobile, social]          10         7   \n",
       "1  [web, email, mobile, social]          10         5   \n",
       "2          [web, email, mobile]           0         4   \n",
       "3          [web, email, mobile]           5         7   \n",
       "4                  [web, email]          20        10   \n",
       "\n",
       "                                 id     offer_type  reward  \n",
       "0  ae264e3637204a6fb9bb56bc8210ddfd           bogo      10  \n",
       "1  4d5c57ea9a6940dd891ad53e9dbe8da0           bogo      10  \n",
       "2  3f207df678b143eea3cee63160fa8bed  informational       0  \n",
       "3  9b98b8c7a33c4b65b9aebfe6a799e6d9           bogo       5  \n",
       "4  0b1e1539f2cc45b7b9fa7c272da2e1d7       discount       5  "
      ]
     },
     "execution_count": 4,
     "metadata": {},
     "output_type": "execute_result"
    }
   ],
   "source": [
    "# lets check out few records in the portfolio df\n",
    "portfolio.head()"
   ]
  },
  {
   "cell_type": "code",
   "execution_count": 5,
   "metadata": {},
   "outputs": [
    {
     "data": {
      "text/plain": [
       "(10, 6)"
      ]
     },
     "execution_count": 5,
     "metadata": {},
     "output_type": "execute_result"
    }
   ],
   "source": [
    "portfolio.shape"
   ]
  },
  {
   "cell_type": "markdown",
   "metadata": {},
   "source": [
    "**Based on the data in the portfolia data set:**\n",
    "  - Channels variable is multi-label (can split using MultiLabelBinarizer)\n",
    "  - Rename 'id' variable to 'offer_id'\n",
    "  - One Hot Encode the 'offer_type' variable\n",
    "  \n",
    "There are only 10 records."
   ]
  },
  {
   "cell_type": "code",
   "execution_count": 10,
   "metadata": {},
   "outputs": [
    {
     "data": {
      "text/html": [
       "<div>\n",
       "<style scoped>\n",
       "    .dataframe tbody tr th:only-of-type {\n",
       "        vertical-align: middle;\n",
       "    }\n",
       "\n",
       "    .dataframe tbody tr th {\n",
       "        vertical-align: top;\n",
       "    }\n",
       "\n",
       "    .dataframe thead th {\n",
       "        text-align: right;\n",
       "    }\n",
       "</style>\n",
       "<table border=\"1\" class=\"dataframe\">\n",
       "  <thead>\n",
       "    <tr style=\"text-align: right;\">\n",
       "      <th></th>\n",
       "      <th>email</th>\n",
       "      <th>mobile</th>\n",
       "      <th>social</th>\n",
       "      <th>web</th>\n",
       "    </tr>\n",
       "  </thead>\n",
       "  <tbody>\n",
       "    <tr>\n",
       "      <th>0</th>\n",
       "      <td>1</td>\n",
       "      <td>1</td>\n",
       "      <td>1</td>\n",
       "      <td>0</td>\n",
       "    </tr>\n",
       "    <tr>\n",
       "      <th>1</th>\n",
       "      <td>1</td>\n",
       "      <td>1</td>\n",
       "      <td>1</td>\n",
       "      <td>1</td>\n",
       "    </tr>\n",
       "    <tr>\n",
       "      <th>2</th>\n",
       "      <td>1</td>\n",
       "      <td>1</td>\n",
       "      <td>0</td>\n",
       "      <td>1</td>\n",
       "    </tr>\n",
       "    <tr>\n",
       "      <th>3</th>\n",
       "      <td>1</td>\n",
       "      <td>1</td>\n",
       "      <td>0</td>\n",
       "      <td>1</td>\n",
       "    </tr>\n",
       "    <tr>\n",
       "      <th>4</th>\n",
       "      <td>1</td>\n",
       "      <td>0</td>\n",
       "      <td>0</td>\n",
       "      <td>1</td>\n",
       "    </tr>\n",
       "    <tr>\n",
       "      <th>5</th>\n",
       "      <td>1</td>\n",
       "      <td>1</td>\n",
       "      <td>1</td>\n",
       "      <td>1</td>\n",
       "    </tr>\n",
       "    <tr>\n",
       "      <th>6</th>\n",
       "      <td>1</td>\n",
       "      <td>1</td>\n",
       "      <td>1</td>\n",
       "      <td>1</td>\n",
       "    </tr>\n",
       "    <tr>\n",
       "      <th>7</th>\n",
       "      <td>1</td>\n",
       "      <td>1</td>\n",
       "      <td>1</td>\n",
       "      <td>0</td>\n",
       "    </tr>\n",
       "    <tr>\n",
       "      <th>8</th>\n",
       "      <td>1</td>\n",
       "      <td>1</td>\n",
       "      <td>1</td>\n",
       "      <td>1</td>\n",
       "    </tr>\n",
       "    <tr>\n",
       "      <th>9</th>\n",
       "      <td>1</td>\n",
       "      <td>1</td>\n",
       "      <td>0</td>\n",
       "      <td>1</td>\n",
       "    </tr>\n",
       "  </tbody>\n",
       "</table>\n",
       "</div>"
      ],
      "text/plain": [
       "   email  mobile  social  web\n",
       "0      1       1       1    0\n",
       "1      1       1       1    1\n",
       "2      1       1       0    1\n",
       "3      1       1       0    1\n",
       "4      1       0       0    1\n",
       "5      1       1       1    1\n",
       "6      1       1       1    1\n",
       "7      1       1       1    0\n",
       "8      1       1       1    1\n",
       "9      1       1       0    1"
      ]
     },
     "execution_count": 10,
     "metadata": {},
     "output_type": "execute_result"
    }
   ],
   "source": [
    "# Lets create a new df with the Channels data split into binary values \n",
    "# https://scikit-learn.org/stable/modules/generated/sklearn.preprocessing.MultiLabelBinarizer.html\n",
    "binarizer_obj = MultiLabelBinarizer()\n",
    "binarizer_obj.fit(portfolio['channels'])\n",
    "\n",
    "offer_channels_df = pd.DataFrame(binarizer_obj.transform(portfolio['channels']),columns=binarizer_obj.classes_)\n",
    "\n",
    "offer_channels_df"
   ]
  },
  {
   "cell_type": "code",
   "execution_count": 6,
   "metadata": {},
   "outputs": [
    {
     "data": {
      "text/html": [
       "<div>\n",
       "<style scoped>\n",
       "    .dataframe tbody tr th:only-of-type {\n",
       "        vertical-align: middle;\n",
       "    }\n",
       "\n",
       "    .dataframe tbody tr th {\n",
       "        vertical-align: top;\n",
       "    }\n",
       "\n",
       "    .dataframe thead th {\n",
       "        text-align: right;\n",
       "    }\n",
       "</style>\n",
       "<table border=\"1\" class=\"dataframe\">\n",
       "  <thead>\n",
       "    <tr style=\"text-align: right;\">\n",
       "      <th></th>\n",
       "      <th>channels</th>\n",
       "      <th>difficulty</th>\n",
       "      <th>duration</th>\n",
       "      <th>offer_id</th>\n",
       "      <th>offer_type</th>\n",
       "      <th>reward</th>\n",
       "    </tr>\n",
       "  </thead>\n",
       "  <tbody>\n",
       "    <tr>\n",
       "      <th>0</th>\n",
       "      <td>[email, mobile, social]</td>\n",
       "      <td>10</td>\n",
       "      <td>7</td>\n",
       "      <td>ae264e3637204a6fb9bb56bc8210ddfd</td>\n",
       "      <td>bogo</td>\n",
       "      <td>10</td>\n",
       "    </tr>\n",
       "    <tr>\n",
       "      <th>1</th>\n",
       "      <td>[web, email, mobile, social]</td>\n",
       "      <td>10</td>\n",
       "      <td>5</td>\n",
       "      <td>4d5c57ea9a6940dd891ad53e9dbe8da0</td>\n",
       "      <td>bogo</td>\n",
       "      <td>10</td>\n",
       "    </tr>\n",
       "    <tr>\n",
       "      <th>2</th>\n",
       "      <td>[web, email, mobile]</td>\n",
       "      <td>0</td>\n",
       "      <td>4</td>\n",
       "      <td>3f207df678b143eea3cee63160fa8bed</td>\n",
       "      <td>informational</td>\n",
       "      <td>0</td>\n",
       "    </tr>\n",
       "    <tr>\n",
       "      <th>3</th>\n",
       "      <td>[web, email, mobile]</td>\n",
       "      <td>5</td>\n",
       "      <td>7</td>\n",
       "      <td>9b98b8c7a33c4b65b9aebfe6a799e6d9</td>\n",
       "      <td>bogo</td>\n",
       "      <td>5</td>\n",
       "    </tr>\n",
       "    <tr>\n",
       "      <th>4</th>\n",
       "      <td>[web, email]</td>\n",
       "      <td>20</td>\n",
       "      <td>10</td>\n",
       "      <td>0b1e1539f2cc45b7b9fa7c272da2e1d7</td>\n",
       "      <td>discount</td>\n",
       "      <td>5</td>\n",
       "    </tr>\n",
       "  </tbody>\n",
       "</table>\n",
       "</div>"
      ],
      "text/plain": [
       "                       channels  difficulty  duration  \\\n",
       "0       [email, mobile, social]          10         7   \n",
       "1  [web, email, mobile, social]          10         5   \n",
       "2          [web, email, mobile]           0         4   \n",
       "3          [web, email, mobile]           5         7   \n",
       "4                  [web, email]          20        10   \n",
       "\n",
       "                           offer_id     offer_type  reward  \n",
       "0  ae264e3637204a6fb9bb56bc8210ddfd           bogo      10  \n",
       "1  4d5c57ea9a6940dd891ad53e9dbe8da0           bogo      10  \n",
       "2  3f207df678b143eea3cee63160fa8bed  informational       0  \n",
       "3  9b98b8c7a33c4b65b9aebfe6a799e6d9           bogo       5  \n",
       "4  0b1e1539f2cc45b7b9fa7c272da2e1d7       discount       5  "
      ]
     },
     "execution_count": 6,
     "metadata": {},
     "output_type": "execute_result"
    }
   ],
   "source": [
    "# Lets raneme the id variable to \"offer_id\"\n",
    "portfolio.rename(columns={\"id\": \"offer_id\"}, inplace=True)\n",
    "portfolio.head()"
   ]
  },
  {
   "cell_type": "code",
   "execution_count": 11,
   "metadata": {},
   "outputs": [
    {
     "data": {
      "text/html": [
       "<div>\n",
       "<style scoped>\n",
       "    .dataframe tbody tr th:only-of-type {\n",
       "        vertical-align: middle;\n",
       "    }\n",
       "\n",
       "    .dataframe tbody tr th {\n",
       "        vertical-align: top;\n",
       "    }\n",
       "\n",
       "    .dataframe thead th {\n",
       "        text-align: right;\n",
       "    }\n",
       "</style>\n",
       "<table border=\"1\" class=\"dataframe\">\n",
       "  <thead>\n",
       "    <tr style=\"text-align: right;\">\n",
       "      <th></th>\n",
       "      <th>bogo</th>\n",
       "      <th>discount</th>\n",
       "      <th>informational</th>\n",
       "    </tr>\n",
       "  </thead>\n",
       "  <tbody>\n",
       "    <tr>\n",
       "      <th>0</th>\n",
       "      <td>1</td>\n",
       "      <td>0</td>\n",
       "      <td>0</td>\n",
       "    </tr>\n",
       "    <tr>\n",
       "      <th>1</th>\n",
       "      <td>1</td>\n",
       "      <td>0</td>\n",
       "      <td>0</td>\n",
       "    </tr>\n",
       "    <tr>\n",
       "      <th>2</th>\n",
       "      <td>0</td>\n",
       "      <td>0</td>\n",
       "      <td>1</td>\n",
       "    </tr>\n",
       "    <tr>\n",
       "      <th>3</th>\n",
       "      <td>1</td>\n",
       "      <td>0</td>\n",
       "      <td>0</td>\n",
       "    </tr>\n",
       "    <tr>\n",
       "      <th>4</th>\n",
       "      <td>0</td>\n",
       "      <td>1</td>\n",
       "      <td>0</td>\n",
       "    </tr>\n",
       "  </tbody>\n",
       "</table>\n",
       "</div>"
      ],
      "text/plain": [
       "   bogo  discount  informational\n",
       "0     1         0              0\n",
       "1     1         0              0\n",
       "2     0         0              1\n",
       "3     1         0              0\n",
       "4     0         1              0"
      ]
     },
     "execution_count": 11,
     "metadata": {},
     "output_type": "execute_result"
    }
   ],
   "source": [
    "#Lets one hot encode the offert_type column\n",
    "# http://pandas.pydata.org/pandas-docs/stable/reference/api/pandas.get_dummies.html\n",
    "offer_type_df = pd.get_dummies(portfolio['offer_type'])\n",
    "offer_type_df.head()"
   ]
  },
  {
   "cell_type": "code",
   "execution_count": 12,
   "metadata": {},
   "outputs": [
    {
     "data": {
      "text/html": [
       "<div>\n",
       "<style scoped>\n",
       "    .dataframe tbody tr th:only-of-type {\n",
       "        vertical-align: middle;\n",
       "    }\n",
       "\n",
       "    .dataframe tbody tr th {\n",
       "        vertical-align: top;\n",
       "    }\n",
       "\n",
       "    .dataframe thead th {\n",
       "        text-align: right;\n",
       "    }\n",
       "</style>\n",
       "<table border=\"1\" class=\"dataframe\">\n",
       "  <thead>\n",
       "    <tr style=\"text-align: right;\">\n",
       "      <th></th>\n",
       "      <th>channels</th>\n",
       "      <th>difficulty</th>\n",
       "      <th>duration</th>\n",
       "      <th>offer_id</th>\n",
       "      <th>offer_type</th>\n",
       "      <th>reward</th>\n",
       "      <th>bogo</th>\n",
       "      <th>discount</th>\n",
       "      <th>informational</th>\n",
       "      <th>email</th>\n",
       "      <th>mobile</th>\n",
       "      <th>social</th>\n",
       "      <th>web</th>\n",
       "    </tr>\n",
       "  </thead>\n",
       "  <tbody>\n",
       "    <tr>\n",
       "      <th>0</th>\n",
       "      <td>[email, mobile, social]</td>\n",
       "      <td>10</td>\n",
       "      <td>7</td>\n",
       "      <td>ae264e3637204a6fb9bb56bc8210ddfd</td>\n",
       "      <td>bogo</td>\n",
       "      <td>10</td>\n",
       "      <td>1</td>\n",
       "      <td>0</td>\n",
       "      <td>0</td>\n",
       "      <td>1</td>\n",
       "      <td>1</td>\n",
       "      <td>1</td>\n",
       "      <td>0</td>\n",
       "    </tr>\n",
       "    <tr>\n",
       "      <th>1</th>\n",
       "      <td>[web, email, mobile, social]</td>\n",
       "      <td>10</td>\n",
       "      <td>5</td>\n",
       "      <td>4d5c57ea9a6940dd891ad53e9dbe8da0</td>\n",
       "      <td>bogo</td>\n",
       "      <td>10</td>\n",
       "      <td>1</td>\n",
       "      <td>0</td>\n",
       "      <td>0</td>\n",
       "      <td>1</td>\n",
       "      <td>1</td>\n",
       "      <td>1</td>\n",
       "      <td>1</td>\n",
       "    </tr>\n",
       "    <tr>\n",
       "      <th>2</th>\n",
       "      <td>[web, email, mobile]</td>\n",
       "      <td>0</td>\n",
       "      <td>4</td>\n",
       "      <td>3f207df678b143eea3cee63160fa8bed</td>\n",
       "      <td>informational</td>\n",
       "      <td>0</td>\n",
       "      <td>0</td>\n",
       "      <td>0</td>\n",
       "      <td>1</td>\n",
       "      <td>1</td>\n",
       "      <td>1</td>\n",
       "      <td>0</td>\n",
       "      <td>1</td>\n",
       "    </tr>\n",
       "    <tr>\n",
       "      <th>3</th>\n",
       "      <td>[web, email, mobile]</td>\n",
       "      <td>5</td>\n",
       "      <td>7</td>\n",
       "      <td>9b98b8c7a33c4b65b9aebfe6a799e6d9</td>\n",
       "      <td>bogo</td>\n",
       "      <td>5</td>\n",
       "      <td>1</td>\n",
       "      <td>0</td>\n",
       "      <td>0</td>\n",
       "      <td>1</td>\n",
       "      <td>1</td>\n",
       "      <td>0</td>\n",
       "      <td>1</td>\n",
       "    </tr>\n",
       "    <tr>\n",
       "      <th>4</th>\n",
       "      <td>[web, email]</td>\n",
       "      <td>20</td>\n",
       "      <td>10</td>\n",
       "      <td>0b1e1539f2cc45b7b9fa7c272da2e1d7</td>\n",
       "      <td>discount</td>\n",
       "      <td>5</td>\n",
       "      <td>0</td>\n",
       "      <td>1</td>\n",
       "      <td>0</td>\n",
       "      <td>1</td>\n",
       "      <td>0</td>\n",
       "      <td>0</td>\n",
       "      <td>1</td>\n",
       "    </tr>\n",
       "  </tbody>\n",
       "</table>\n",
       "</div>"
      ],
      "text/plain": [
       "                       channels  difficulty  duration  \\\n",
       "0       [email, mobile, social]          10         7   \n",
       "1  [web, email, mobile, social]          10         5   \n",
       "2          [web, email, mobile]           0         4   \n",
       "3          [web, email, mobile]           5         7   \n",
       "4                  [web, email]          20        10   \n",
       "\n",
       "                           offer_id     offer_type  reward  bogo  discount  \\\n",
       "0  ae264e3637204a6fb9bb56bc8210ddfd           bogo      10     1         0   \n",
       "1  4d5c57ea9a6940dd891ad53e9dbe8da0           bogo      10     1         0   \n",
       "2  3f207df678b143eea3cee63160fa8bed  informational       0     0         0   \n",
       "3  9b98b8c7a33c4b65b9aebfe6a799e6d9           bogo       5     1         0   \n",
       "4  0b1e1539f2cc45b7b9fa7c272da2e1d7       discount       5     0         1   \n",
       "\n",
       "   informational  email  mobile  social  web  \n",
       "0              0      1       1       1    0  \n",
       "1              0      1       1       1    1  \n",
       "2              1      1       1       0    1  \n",
       "3              0      1       1       0    1  \n",
       "4              0      1       0       0    1  "
      ]
     },
     "execution_count": 12,
     "metadata": {},
     "output_type": "execute_result"
    }
   ],
   "source": [
    "#lets concantenate all the data frames together to create a new df\n",
    "portfolio = pd.concat([portfolio, offer_type_df, offer_channels_df], axis=1)\n",
    "\n",
    "# remove duplicate columns\n",
    "#portfolio.drop(columns=['offer_type', 'channels'], inplace=True)\n",
    "\n",
    "portfolio.head()"
   ]
  },
  {
   "cell_type": "code",
   "execution_count": 13,
   "metadata": {},
   "outputs": [
    {
     "data": {
      "text/html": [
       "<div>\n",
       "<style scoped>\n",
       "    .dataframe tbody tr th:only-of-type {\n",
       "        vertical-align: middle;\n",
       "    }\n",
       "\n",
       "    .dataframe tbody tr th {\n",
       "        vertical-align: top;\n",
       "    }\n",
       "\n",
       "    .dataframe thead th {\n",
       "        text-align: right;\n",
       "    }\n",
       "</style>\n",
       "<table border=\"1\" class=\"dataframe\">\n",
       "  <thead>\n",
       "    <tr style=\"text-align: right;\">\n",
       "      <th></th>\n",
       "      <th>offer_id</th>\n",
       "      <th>difficulty</th>\n",
       "      <th>duration</th>\n",
       "      <th>reward</th>\n",
       "      <th>offer_type</th>\n",
       "      <th>bogo</th>\n",
       "      <th>discount</th>\n",
       "      <th>informational</th>\n",
       "      <th>channels</th>\n",
       "      <th>email</th>\n",
       "      <th>mobile</th>\n",
       "      <th>social</th>\n",
       "      <th>web</th>\n",
       "    </tr>\n",
       "  </thead>\n",
       "  <tbody>\n",
       "    <tr>\n",
       "      <th>0</th>\n",
       "      <td>ae264e3637204a6fb9bb56bc8210ddfd</td>\n",
       "      <td>10</td>\n",
       "      <td>7</td>\n",
       "      <td>10</td>\n",
       "      <td>bogo</td>\n",
       "      <td>1</td>\n",
       "      <td>0</td>\n",
       "      <td>0</td>\n",
       "      <td>[email, mobile, social]</td>\n",
       "      <td>1</td>\n",
       "      <td>1</td>\n",
       "      <td>1</td>\n",
       "      <td>0</td>\n",
       "    </tr>\n",
       "    <tr>\n",
       "      <th>1</th>\n",
       "      <td>4d5c57ea9a6940dd891ad53e9dbe8da0</td>\n",
       "      <td>10</td>\n",
       "      <td>5</td>\n",
       "      <td>10</td>\n",
       "      <td>bogo</td>\n",
       "      <td>1</td>\n",
       "      <td>0</td>\n",
       "      <td>0</td>\n",
       "      <td>[web, email, mobile, social]</td>\n",
       "      <td>1</td>\n",
       "      <td>1</td>\n",
       "      <td>1</td>\n",
       "      <td>1</td>\n",
       "    </tr>\n",
       "    <tr>\n",
       "      <th>2</th>\n",
       "      <td>3f207df678b143eea3cee63160fa8bed</td>\n",
       "      <td>0</td>\n",
       "      <td>4</td>\n",
       "      <td>0</td>\n",
       "      <td>informational</td>\n",
       "      <td>0</td>\n",
       "      <td>0</td>\n",
       "      <td>1</td>\n",
       "      <td>[web, email, mobile]</td>\n",
       "      <td>1</td>\n",
       "      <td>1</td>\n",
       "      <td>0</td>\n",
       "      <td>1</td>\n",
       "    </tr>\n",
       "    <tr>\n",
       "      <th>3</th>\n",
       "      <td>9b98b8c7a33c4b65b9aebfe6a799e6d9</td>\n",
       "      <td>5</td>\n",
       "      <td>7</td>\n",
       "      <td>5</td>\n",
       "      <td>bogo</td>\n",
       "      <td>1</td>\n",
       "      <td>0</td>\n",
       "      <td>0</td>\n",
       "      <td>[web, email, mobile]</td>\n",
       "      <td>1</td>\n",
       "      <td>1</td>\n",
       "      <td>0</td>\n",
       "      <td>1</td>\n",
       "    </tr>\n",
       "    <tr>\n",
       "      <th>4</th>\n",
       "      <td>0b1e1539f2cc45b7b9fa7c272da2e1d7</td>\n",
       "      <td>20</td>\n",
       "      <td>10</td>\n",
       "      <td>5</td>\n",
       "      <td>discount</td>\n",
       "      <td>0</td>\n",
       "      <td>1</td>\n",
       "      <td>0</td>\n",
       "      <td>[web, email]</td>\n",
       "      <td>1</td>\n",
       "      <td>0</td>\n",
       "      <td>0</td>\n",
       "      <td>1</td>\n",
       "    </tr>\n",
       "  </tbody>\n",
       "</table>\n",
       "</div>"
      ],
      "text/plain": [
       "                           offer_id  difficulty  duration  reward  \\\n",
       "0  ae264e3637204a6fb9bb56bc8210ddfd          10         7      10   \n",
       "1  4d5c57ea9a6940dd891ad53e9dbe8da0          10         5      10   \n",
       "2  3f207df678b143eea3cee63160fa8bed           0         4       0   \n",
       "3  9b98b8c7a33c4b65b9aebfe6a799e6d9           5         7       5   \n",
       "4  0b1e1539f2cc45b7b9fa7c272da2e1d7          20        10       5   \n",
       "\n",
       "      offer_type  bogo  discount  informational                      channels  \\\n",
       "0           bogo     1         0              0       [email, mobile, social]   \n",
       "1           bogo     1         0              0  [web, email, mobile, social]   \n",
       "2  informational     0         0              1          [web, email, mobile]   \n",
       "3           bogo     1         0              0          [web, email, mobile]   \n",
       "4       discount     0         1              0                  [web, email]   \n",
       "\n",
       "   email  mobile  social  web  \n",
       "0      1       1       1    0  \n",
       "1      1       1       1    1  \n",
       "2      1       1       0    1  \n",
       "3      1       1       0    1  \n",
       "4      1       0       0    1  "
      ]
     },
     "execution_count": 13,
     "metadata": {},
     "output_type": "execute_result"
    }
   ],
   "source": [
    "# lets re-order the columns\n",
    "\n",
    "portfolio_df = portfolio[ ['offer_id','difficulty','duration','reward','offer_type','bogo','discount',\n",
    "                         'informational','channels','email','mobile','social','web'] ]\n",
    "\n",
    "portfolio_df.head()"
   ]
  },
  {
   "cell_type": "markdown",
   "metadata": {},
   "source": [
    "#### Profile Data\n",
    "\n",
    "Lets take a look at the profile and perform EDA"
   ]
  },
  {
   "cell_type": "code",
   "execution_count": 14,
   "metadata": {},
   "outputs": [
    {
     "data": {
      "text/html": [
       "<div>\n",
       "<style scoped>\n",
       "    .dataframe tbody tr th:only-of-type {\n",
       "        vertical-align: middle;\n",
       "    }\n",
       "\n",
       "    .dataframe tbody tr th {\n",
       "        vertical-align: top;\n",
       "    }\n",
       "\n",
       "    .dataframe thead th {\n",
       "        text-align: right;\n",
       "    }\n",
       "</style>\n",
       "<table border=\"1\" class=\"dataframe\">\n",
       "  <thead>\n",
       "    <tr style=\"text-align: right;\">\n",
       "      <th></th>\n",
       "      <th>age</th>\n",
       "      <th>became_member_on</th>\n",
       "      <th>gender</th>\n",
       "      <th>id</th>\n",
       "      <th>income</th>\n",
       "    </tr>\n",
       "  </thead>\n",
       "  <tbody>\n",
       "    <tr>\n",
       "      <th>0</th>\n",
       "      <td>118</td>\n",
       "      <td>20170212</td>\n",
       "      <td>None</td>\n",
       "      <td>68be06ca386d4c31939f3a4f0e3dd783</td>\n",
       "      <td>NaN</td>\n",
       "    </tr>\n",
       "    <tr>\n",
       "      <th>1</th>\n",
       "      <td>55</td>\n",
       "      <td>20170715</td>\n",
       "      <td>F</td>\n",
       "      <td>0610b486422d4921ae7d2bf64640c50b</td>\n",
       "      <td>112000.0</td>\n",
       "    </tr>\n",
       "    <tr>\n",
       "      <th>2</th>\n",
       "      <td>118</td>\n",
       "      <td>20180712</td>\n",
       "      <td>None</td>\n",
       "      <td>38fe809add3b4fcf9315a9694bb96ff5</td>\n",
       "      <td>NaN</td>\n",
       "    </tr>\n",
       "    <tr>\n",
       "      <th>3</th>\n",
       "      <td>75</td>\n",
       "      <td>20170509</td>\n",
       "      <td>F</td>\n",
       "      <td>78afa995795e4d85b5d9ceeca43f5fef</td>\n",
       "      <td>100000.0</td>\n",
       "    </tr>\n",
       "    <tr>\n",
       "      <th>4</th>\n",
       "      <td>118</td>\n",
       "      <td>20170804</td>\n",
       "      <td>None</td>\n",
       "      <td>a03223e636434f42ac4c3df47e8bac43</td>\n",
       "      <td>NaN</td>\n",
       "    </tr>\n",
       "  </tbody>\n",
       "</table>\n",
       "</div>"
      ],
      "text/plain": [
       "   age  became_member_on gender                                id    income\n",
       "0  118          20170212   None  68be06ca386d4c31939f3a4f0e3dd783       NaN\n",
       "1   55          20170715      F  0610b486422d4921ae7d2bf64640c50b  112000.0\n",
       "2  118          20180712   None  38fe809add3b4fcf9315a9694bb96ff5       NaN\n",
       "3   75          20170509      F  78afa995795e4d85b5d9ceeca43f5fef  100000.0\n",
       "4  118          20170804   None  a03223e636434f42ac4c3df47e8bac43       NaN"
      ]
     },
     "execution_count": 14,
     "metadata": {},
     "output_type": "execute_result"
    }
   ],
   "source": [
    "# lets check out some data in the profile df\n",
    "profile.head()"
   ]
  },
  {
   "cell_type": "code",
   "execution_count": 15,
   "metadata": {},
   "outputs": [
    {
     "data": {
      "text/plain": [
       "(17000, 5)"
      ]
     },
     "execution_count": 15,
     "metadata": {},
     "output_type": "execute_result"
    }
   ],
   "source": [
    "profile.shape"
   ]
  },
  {
   "cell_type": "code",
   "execution_count": 16,
   "metadata": {},
   "outputs": [],
   "source": [
    "# Interesting to see rows with age as 118. Lets take a look at those\n",
    "age_outlier_df = profile[profile.age == 118]"
   ]
  },
  {
   "cell_type": "code",
   "execution_count": 17,
   "metadata": {},
   "outputs": [
    {
     "name": "stdout",
     "output_type": "stream",
     "text": [
      "Unique Gender Values :  0\n",
      "Unique Age Values :  1\n",
      "Unique income Values :  0\n"
     ]
    }
   ],
   "source": [
    "print(\"Unique Gender Values : \",age_outlier_df.gender.nunique())\n",
    "print(\"Unique Age Values : \",age_outlier_df.age.nunique())\n",
    "print(\"Unique income Values : \",age_outlier_df.income.nunique())"
   ]
  },
  {
   "cell_type": "markdown",
   "metadata": {},
   "source": [
    "### Outlier values in Profile Data Frame\n",
    "\n",
    "  - There are many records with age value as 118\n",
    "  - On closer examination you will notice that these records have no gender and income values\n",
    "  - My assumption is that Date of Birth is not a mandatory field in the app. And anyone who doesnt have an age is given a default age by the app.\n",
    "\n",
    "##### I am keeping this data in a separate data frame and removing these values from the profile data frame"
   ]
  },
  {
   "cell_type": "code",
   "execution_count": 18,
   "metadata": {},
   "outputs": [
    {
     "data": {
      "text/plain": [
       "(2175, 5)"
      ]
     },
     "execution_count": 18,
     "metadata": {},
     "output_type": "execute_result"
    }
   ],
   "source": [
    "age_outlier_df.shape"
   ]
  },
  {
   "cell_type": "code",
   "execution_count": 19,
   "metadata": {},
   "outputs": [],
   "source": [
    "# remove the records with age values of 118. This should give us a total of 14825 records\n",
    "profile = profile[profile.age < 118]"
   ]
  },
  {
   "cell_type": "code",
   "execution_count": 20,
   "metadata": {},
   "outputs": [
    {
     "data": {
      "text/plain": [
       "(14825, 5)"
      ]
     },
     "execution_count": 20,
     "metadata": {},
     "output_type": "execute_result"
    }
   ],
   "source": [
    "profile.shape"
   ]
  },
  {
   "cell_type": "markdown",
   "metadata": {},
   "source": [
    "#### Lets do the following for the profile data\n",
    "  - Change the date format of the became_member_on column\n",
    "  - Lets get the year from the date. A new column \"membershipstart\" will be added\n",
    "  - Lets hot encode the membership years\n",
    "  - Lets create an age range from the ages column\n",
    "  - Lets hot encode the age range values\n",
    "  - Lets one hot encode the gender column\n",
    "  - rename the id column to customer_id\n",
    "  - remove any null values"
   ]
  },
  {
   "cell_type": "code",
   "execution_count": 21,
   "metadata": {},
   "outputs": [],
   "source": [
    "# The date when the customer became a member is in YYYYMMDD format. Lets convert into a date format\n",
    "profile.became_member_on = pd.to_datetime(profile.became_member_on, format = '%Y%m%d')"
   ]
  },
  {
   "cell_type": "code",
   "execution_count": 22,
   "metadata": {},
   "outputs": [
    {
     "data": {
      "text/html": [
       "<div>\n",
       "<style scoped>\n",
       "    .dataframe tbody tr th:only-of-type {\n",
       "        vertical-align: middle;\n",
       "    }\n",
       "\n",
       "    .dataframe tbody tr th {\n",
       "        vertical-align: top;\n",
       "    }\n",
       "\n",
       "    .dataframe thead th {\n",
       "        text-align: right;\n",
       "    }\n",
       "</style>\n",
       "<table border=\"1\" class=\"dataframe\">\n",
       "  <thead>\n",
       "    <tr style=\"text-align: right;\">\n",
       "      <th></th>\n",
       "      <th>age</th>\n",
       "      <th>became_member_on</th>\n",
       "      <th>gender</th>\n",
       "      <th>id</th>\n",
       "      <th>income</th>\n",
       "    </tr>\n",
       "  </thead>\n",
       "  <tbody>\n",
       "    <tr>\n",
       "      <th>1</th>\n",
       "      <td>55</td>\n",
       "      <td>2017-07-15</td>\n",
       "      <td>F</td>\n",
       "      <td>0610b486422d4921ae7d2bf64640c50b</td>\n",
       "      <td>112000.0</td>\n",
       "    </tr>\n",
       "    <tr>\n",
       "      <th>3</th>\n",
       "      <td>75</td>\n",
       "      <td>2017-05-09</td>\n",
       "      <td>F</td>\n",
       "      <td>78afa995795e4d85b5d9ceeca43f5fef</td>\n",
       "      <td>100000.0</td>\n",
       "    </tr>\n",
       "    <tr>\n",
       "      <th>5</th>\n",
       "      <td>68</td>\n",
       "      <td>2018-04-26</td>\n",
       "      <td>M</td>\n",
       "      <td>e2127556f4f64592b11af22de27a7932</td>\n",
       "      <td>70000.0</td>\n",
       "    </tr>\n",
       "    <tr>\n",
       "      <th>8</th>\n",
       "      <td>65</td>\n",
       "      <td>2018-02-09</td>\n",
       "      <td>M</td>\n",
       "      <td>389bc3fa690240e798340f5a15918d5c</td>\n",
       "      <td>53000.0</td>\n",
       "    </tr>\n",
       "    <tr>\n",
       "      <th>12</th>\n",
       "      <td>58</td>\n",
       "      <td>2017-11-11</td>\n",
       "      <td>M</td>\n",
       "      <td>2eeac8d8feae4a8cad5a6af0499a211d</td>\n",
       "      <td>51000.0</td>\n",
       "    </tr>\n",
       "  </tbody>\n",
       "</table>\n",
       "</div>"
      ],
      "text/plain": [
       "    age became_member_on gender                                id    income\n",
       "1    55       2017-07-15      F  0610b486422d4921ae7d2bf64640c50b  112000.0\n",
       "3    75       2017-05-09      F  78afa995795e4d85b5d9ceeca43f5fef  100000.0\n",
       "5    68       2018-04-26      M  e2127556f4f64592b11af22de27a7932   70000.0\n",
       "8    65       2018-02-09      M  389bc3fa690240e798340f5a15918d5c   53000.0\n",
       "12   58       2017-11-11      M  2eeac8d8feae4a8cad5a6af0499a211d   51000.0"
      ]
     },
     "execution_count": 22,
     "metadata": {},
     "output_type": "execute_result"
    }
   ],
   "source": [
    "profile.head()"
   ]
  },
  {
   "cell_type": "code",
   "execution_count": 23,
   "metadata": {},
   "outputs": [
    {
     "data": {
      "text/html": [
       "<div>\n",
       "<style scoped>\n",
       "    .dataframe tbody tr th:only-of-type {\n",
       "        vertical-align: middle;\n",
       "    }\n",
       "\n",
       "    .dataframe tbody tr th {\n",
       "        vertical-align: top;\n",
       "    }\n",
       "\n",
       "    .dataframe thead th {\n",
       "        text-align: right;\n",
       "    }\n",
       "</style>\n",
       "<table border=\"1\" class=\"dataframe\">\n",
       "  <thead>\n",
       "    <tr style=\"text-align: right;\">\n",
       "      <th></th>\n",
       "      <th>age</th>\n",
       "      <th>became_member_on</th>\n",
       "      <th>gender</th>\n",
       "      <th>id</th>\n",
       "      <th>income</th>\n",
       "      <th>membershipstart</th>\n",
       "    </tr>\n",
       "  </thead>\n",
       "  <tbody>\n",
       "    <tr>\n",
       "      <th>1</th>\n",
       "      <td>55</td>\n",
       "      <td>2017-07-15</td>\n",
       "      <td>F</td>\n",
       "      <td>0610b486422d4921ae7d2bf64640c50b</td>\n",
       "      <td>112000.0</td>\n",
       "      <td>2017</td>\n",
       "    </tr>\n",
       "    <tr>\n",
       "      <th>3</th>\n",
       "      <td>75</td>\n",
       "      <td>2017-05-09</td>\n",
       "      <td>F</td>\n",
       "      <td>78afa995795e4d85b5d9ceeca43f5fef</td>\n",
       "      <td>100000.0</td>\n",
       "      <td>2017</td>\n",
       "    </tr>\n",
       "    <tr>\n",
       "      <th>5</th>\n",
       "      <td>68</td>\n",
       "      <td>2018-04-26</td>\n",
       "      <td>M</td>\n",
       "      <td>e2127556f4f64592b11af22de27a7932</td>\n",
       "      <td>70000.0</td>\n",
       "      <td>2018</td>\n",
       "    </tr>\n",
       "    <tr>\n",
       "      <th>8</th>\n",
       "      <td>65</td>\n",
       "      <td>2018-02-09</td>\n",
       "      <td>M</td>\n",
       "      <td>389bc3fa690240e798340f5a15918d5c</td>\n",
       "      <td>53000.0</td>\n",
       "      <td>2018</td>\n",
       "    </tr>\n",
       "    <tr>\n",
       "      <th>12</th>\n",
       "      <td>58</td>\n",
       "      <td>2017-11-11</td>\n",
       "      <td>M</td>\n",
       "      <td>2eeac8d8feae4a8cad5a6af0499a211d</td>\n",
       "      <td>51000.0</td>\n",
       "      <td>2017</td>\n",
       "    </tr>\n",
       "  </tbody>\n",
       "</table>\n",
       "</div>"
      ],
      "text/plain": [
       "    age became_member_on gender                                id    income  \\\n",
       "1    55       2017-07-15      F  0610b486422d4921ae7d2bf64640c50b  112000.0   \n",
       "3    75       2017-05-09      F  78afa995795e4d85b5d9ceeca43f5fef  100000.0   \n",
       "5    68       2018-04-26      M  e2127556f4f64592b11af22de27a7932   70000.0   \n",
       "8    65       2018-02-09      M  389bc3fa690240e798340f5a15918d5c   53000.0   \n",
       "12   58       2017-11-11      M  2eeac8d8feae4a8cad5a6af0499a211d   51000.0   \n",
       "\n",
       "    membershipstart  \n",
       "1              2017  \n",
       "3              2017  \n",
       "5              2018  \n",
       "8              2018  \n",
       "12             2017  "
      ]
     },
     "execution_count": 23,
     "metadata": {},
     "output_type": "execute_result"
    }
   ],
   "source": [
    "profile['membershipstart'] = profile['became_member_on'].apply(lambda x: x.year)\n",
    "profile.head()"
   ]
  },
  {
   "cell_type": "code",
   "execution_count": 24,
   "metadata": {},
   "outputs": [
    {
     "data": {
      "text/plain": [
       "age                 0\n",
       "became_member_on    0\n",
       "gender              0\n",
       "id                  0\n",
       "income              0\n",
       "membershipstart     0\n",
       "dtype: int64"
      ]
     },
     "execution_count": 24,
     "metadata": {},
     "output_type": "execute_result"
    }
   ],
   "source": [
    "# lets check for any nan values\n",
    "profile.isna().sum(axis=0)\n",
    "\n",
    "#seems there are no nan values. Hurray!!"
   ]
  },
  {
   "cell_type": "code",
   "execution_count": 25,
   "metadata": {},
   "outputs": [
    {
     "data": {
      "image/png": "[encoded data removed]",
      "text/plain": [
       "<matplotlib.figure.Figure at 0x7f807dcd8eb8>"
      ]
     },
     "metadata": {
      "needs_background": "light"
     },
     "output_type": "display_data"
    }
   ],
   "source": [
    "## It would have been easier to plot the age distribution to see the anamoly. Better late than never. So here you go!!\n",
    "ax = sns.distplot(profile.age,color=\"g\")"
   ]
  },
  {
   "cell_type": "code",
   "execution_count": 26,
   "metadata": {},
   "outputs": [
    {
     "data": {
      "image/png": "[encoded data removed]",
      "text/plain": [
       "<matplotlib.figure.Figure at 0x7f807dc9eb70>"
      ]
     },
     "metadata": {
      "needs_background": "light"
     },
     "output_type": "display_data"
    }
   ],
   "source": [
    "## Lets check the gender distribution\n",
    "profile.groupby('gender')['age'].count().plot(x='gender',y='count',kind=\"bar\",title=\"Gender Distribution\");"
   ]
  },
  {
   "cell_type": "code",
   "execution_count": 27,
   "metadata": {},
   "outputs": [],
   "source": [
    "age_df = profile.groupby('gender',as_index=False).count()"
   ]
  },
  {
   "cell_type": "code",
   "execution_count": 29,
   "metadata": {},
   "outputs": [
    {
     "data": {
      "text/plain": [
       "gender\n",
       "F    41.342327\n",
       "M    57.227656\n",
       "O     1.430017\n",
       "dtype: float64"
      ]
     },
     "execution_count": 29,
     "metadata": {},
     "output_type": "execute_result"
    }
   ],
   "source": [
    "#Lets check the distribution of users by gender\n",
    "(profile.groupby('gender').size() / profile.shape[0]) * 100"
   ]
  },
  {
   "cell_type": "markdown",
   "metadata": {},
   "source": [
    "**There are 212 records with gender as \"O\". Lets remove that.** We have to make sure records belongning to these customers are also removed from the transcript data set."
   ]
  },
  {
   "cell_type": "code",
   "execution_count": 30,
   "metadata": {},
   "outputs": [
    {
     "data": {
      "text/plain": [
       "gender\n",
       "F    41.942106\n",
       "M    58.057894\n",
       "dtype: float64"
      ]
     },
     "execution_count": 30,
     "metadata": {},
     "output_type": "execute_result"
    }
   ],
   "source": [
    "profile = profile[profile['gender'] != 'O']\n",
    "profile = profile.reset_index(drop=True)\n",
    "(profile.groupby('gender').size() / profile.shape[0]) * 100"
   ]
  },
  {
   "cell_type": "code",
   "execution_count": 31,
   "metadata": {},
   "outputs": [
    {
     "data": {
      "text/html": [
       "<div>\n",
       "<style scoped>\n",
       "    .dataframe tbody tr th:only-of-type {\n",
       "        vertical-align: middle;\n",
       "    }\n",
       "\n",
       "    .dataframe tbody tr th {\n",
       "        vertical-align: top;\n",
       "    }\n",
       "\n",
       "    .dataframe thead th {\n",
       "        text-align: right;\n",
       "    }\n",
       "</style>\n",
       "<table border=\"1\" class=\"dataframe\">\n",
       "  <thead>\n",
       "    <tr style=\"text-align: right;\">\n",
       "      <th></th>\n",
       "      <th>age</th>\n",
       "      <th>became_member_on</th>\n",
       "      <th>gender</th>\n",
       "      <th>customer_id</th>\n",
       "      <th>income</th>\n",
       "      <th>membershipstart</th>\n",
       "    </tr>\n",
       "  </thead>\n",
       "  <tbody>\n",
       "    <tr>\n",
       "      <th>0</th>\n",
       "      <td>55</td>\n",
       "      <td>2017-07-15</td>\n",
       "      <td>F</td>\n",
       "      <td>0610b486422d4921ae7d2bf64640c50b</td>\n",
       "      <td>112000.0</td>\n",
       "      <td>2017</td>\n",
       "    </tr>\n",
       "    <tr>\n",
       "      <th>1</th>\n",
       "      <td>75</td>\n",
       "      <td>2017-05-09</td>\n",
       "      <td>F</td>\n",
       "      <td>78afa995795e4d85b5d9ceeca43f5fef</td>\n",
       "      <td>100000.0</td>\n",
       "      <td>2017</td>\n",
       "    </tr>\n",
       "    <tr>\n",
       "      <th>2</th>\n",
       "      <td>68</td>\n",
       "      <td>2018-04-26</td>\n",
       "      <td>M</td>\n",
       "      <td>e2127556f4f64592b11af22de27a7932</td>\n",
       "      <td>70000.0</td>\n",
       "      <td>2018</td>\n",
       "    </tr>\n",
       "    <tr>\n",
       "      <th>3</th>\n",
       "      <td>65</td>\n",
       "      <td>2018-02-09</td>\n",
       "      <td>M</td>\n",
       "      <td>389bc3fa690240e798340f5a15918d5c</td>\n",
       "      <td>53000.0</td>\n",
       "      <td>2018</td>\n",
       "    </tr>\n",
       "    <tr>\n",
       "      <th>4</th>\n",
       "      <td>58</td>\n",
       "      <td>2017-11-11</td>\n",
       "      <td>M</td>\n",
       "      <td>2eeac8d8feae4a8cad5a6af0499a211d</td>\n",
       "      <td>51000.0</td>\n",
       "      <td>2017</td>\n",
       "    </tr>\n",
       "  </tbody>\n",
       "</table>\n",
       "</div>"
      ],
      "text/plain": [
       "   age became_member_on gender                       customer_id    income  \\\n",
       "0   55       2017-07-15      F  0610b486422d4921ae7d2bf64640c50b  112000.0   \n",
       "1   75       2017-05-09      F  78afa995795e4d85b5d9ceeca43f5fef  100000.0   \n",
       "2   68       2018-04-26      M  e2127556f4f64592b11af22de27a7932   70000.0   \n",
       "3   65       2018-02-09      M  389bc3fa690240e798340f5a15918d5c   53000.0   \n",
       "4   58       2017-11-11      M  2eeac8d8feae4a8cad5a6af0499a211d   51000.0   \n",
       "\n",
       "   membershipstart  \n",
       "0             2017  \n",
       "1             2017  \n",
       "2             2018  \n",
       "3             2018  \n",
       "4             2017  "
      ]
     },
     "execution_count": 31,
     "metadata": {},
     "output_type": "execute_result"
    }
   ],
   "source": [
    "# lets rename the id column to customer_id\n",
    "profile.rename(columns={\"id\": \"customer_id\"}, inplace=True)\n",
    "profile.head()"
   ]
  },
  {
   "cell_type": "code",
   "execution_count": 32,
   "metadata": {},
   "outputs": [
    {
     "data": {
      "image/png": "[encoded data removed]",
      "text/plain": [
       "<matplotlib.figure.Figure at 0x7f807dc52710>"
      ]
     },
     "metadata": {
      "needs_background": "light"
     },
     "output_type": "display_data"
    }
   ],
   "source": [
    "## Lets check the income distribution\n",
    "ax = sns.distplot(profile.income,color=\"r\")"
   ]
  },
  {
   "cell_type": "code",
   "execution_count": 33,
   "metadata": {},
   "outputs": [
    {
     "data": {
      "image/png": "[encoded data removed]",
      "text/plain": [
       "<matplotlib.figure.Figure at 0x7f80b4087f60>"
      ]
     },
     "metadata": {
      "needs_background": "light"
     },
     "output_type": "display_data"
    }
   ],
   "source": [
    "# Lets look at memberships by year\n",
    "fig, ax = plt.subplots(figsize=(10,6))\n",
    "profile.groupby('membershipstart')['age'].count().plot(ax=ax , kind=\"bar\")\n",
    "ax.set_xlabel(\"Year\")\n",
    "ax.set_ylabel(\"No of Registrations\")\n",
    "ax.set_title(\"Memberships By Year\");"
   ]
  },
  {
   "cell_type": "code",
   "execution_count": 34,
   "metadata": {},
   "outputs": [
    {
     "data": {
      "image/png": "[encoded data removed]",
      "text/plain": [
       "<matplotlib.figure.Figure at 0x7f807dc4a9e8>"
      ]
     },
     "metadata": {
      "needs_background": "light"
     },
     "output_type": "display_data"
    }
   ],
   "source": [
    "# Memberships by Year by Gender\n",
    "fig, ax = plt.subplots(figsize=(10,6))\n",
    "profile.groupby(['membershipstart','gender'])['age'].count().unstack().plot(ax=ax ,kind=\"bar\")\n",
    "ax.set_xlabel(\"Year\")\n",
    "ax.set_ylabel(\"No of Registrations\")\n",
    "ax.set_title(\"Memberships By Year by Gender\");"
   ]
  },
  {
   "cell_type": "code",
   "execution_count": 35,
   "metadata": {},
   "outputs": [],
   "source": [
    "# lets check out the customers based on gender more closely\n",
    "female_customers = profile[profile.gender == 'F']\n",
    "male_customers = profile[profile.gender == 'M']"
   ]
  },
  {
   "cell_type": "code",
   "execution_count": 38,
   "metadata": {},
   "outputs": [
    {
     "data": {
      "image/png": "[encoded data removed]",
      "text/plain": [
       "<matplotlib.figure.Figure at 0x7f807da8c5c0>"
      ]
     },
     "metadata": {},
     "output_type": "display_data"
    }
   ],
   "source": [
    "# lets do a combined income distribution of the two data sets so that it is easy to analyse side by side\n",
    "current_palette = sns.color_palette()\n",
    "\n",
    "sns.set(font_scale=1.5)\n",
    "sns.set_style('white')\n",
    "\n",
    "fig, ax = plt.subplots(figsize=(15, 6),\n",
    "                       nrows=1,\n",
    "                       ncols=2,\n",
    "                       sharex=True,\n",
    "                       sharey=True)\n",
    "\n",
    "plt.sca(ax[0])\n",
    "sns.distplot(male_customers['income'] * 1E-3,\n",
    "             color=current_palette[1])\n",
    "plt.xlabel('Income [000]')\n",
    "plt.ylabel('P(Income)')\n",
    "plt.title('Male Customer Income')\n",
    "\n",
    "plt.sca(ax[1])\n",
    "sns.distplot(female_customers['income'] * 1E-3,\n",
    "             color=current_palette[0])\n",
    "plt.xlabel('Income [000]')\n",
    "plt.ylabel('P(Income)')\n",
    "plt.title('Female Customer Income')\n",
    "plt.tight_layout()"
   ]
  },
  {
   "cell_type": "markdown",
   "metadata": {},
   "source": [
    "#### Income Analysis Based on Gender\n",
    "From the above charts it seems that the minimum and maximum income for both male and female customers is approximately the same. However, male customer income is slightly biased towards lower values compared to female customer income."
   ]
  },
  {
   "cell_type": "code",
   "execution_count": 39,
   "metadata": {
    "scrolled": true
   },
   "outputs": [
    {
     "data": {
      "text/html": [
       "<div>\n",
       "<style scoped>\n",
       "    .dataframe tbody tr th:only-of-type {\n",
       "        vertical-align: middle;\n",
       "    }\n",
       "\n",
       "    .dataframe tbody tr th {\n",
       "        vertical-align: top;\n",
       "    }\n",
       "\n",
       "    .dataframe thead th {\n",
       "        text-align: right;\n",
       "    }\n",
       "</style>\n",
       "<table border=\"1\" class=\"dataframe\">\n",
       "  <thead>\n",
       "    <tr style=\"text-align: right;\">\n",
       "      <th></th>\n",
       "      <th>age</th>\n",
       "      <th>became_member_on</th>\n",
       "      <th>gender</th>\n",
       "      <th>customer_id</th>\n",
       "      <th>income</th>\n",
       "      <th>membershipstart</th>\n",
       "      <th>agerange</th>\n",
       "    </tr>\n",
       "  </thead>\n",
       "  <tbody>\n",
       "    <tr>\n",
       "      <th>0</th>\n",
       "      <td>55</td>\n",
       "      <td>2017-07-15</td>\n",
       "      <td>F</td>\n",
       "      <td>0610b486422d4921ae7d2bf64640c50b</td>\n",
       "      <td>112000.0</td>\n",
       "      <td>2017</td>\n",
       "      <td>50 - 60</td>\n",
       "    </tr>\n",
       "    <tr>\n",
       "      <th>1</th>\n",
       "      <td>75</td>\n",
       "      <td>2017-05-09</td>\n",
       "      <td>F</td>\n",
       "      <td>78afa995795e4d85b5d9ceeca43f5fef</td>\n",
       "      <td>100000.0</td>\n",
       "      <td>2017</td>\n",
       "      <td>70 - 80</td>\n",
       "    </tr>\n",
       "    <tr>\n",
       "      <th>2</th>\n",
       "      <td>68</td>\n",
       "      <td>2018-04-26</td>\n",
       "      <td>M</td>\n",
       "      <td>e2127556f4f64592b11af22de27a7932</td>\n",
       "      <td>70000.0</td>\n",
       "      <td>2018</td>\n",
       "      <td>60 - 70</td>\n",
       "    </tr>\n",
       "    <tr>\n",
       "      <th>3</th>\n",
       "      <td>65</td>\n",
       "      <td>2018-02-09</td>\n",
       "      <td>M</td>\n",
       "      <td>389bc3fa690240e798340f5a15918d5c</td>\n",
       "      <td>53000.0</td>\n",
       "      <td>2018</td>\n",
       "      <td>60 - 70</td>\n",
       "    </tr>\n",
       "    <tr>\n",
       "      <th>4</th>\n",
       "      <td>58</td>\n",
       "      <td>2017-11-11</td>\n",
       "      <td>M</td>\n",
       "      <td>2eeac8d8feae4a8cad5a6af0499a211d</td>\n",
       "      <td>51000.0</td>\n",
       "      <td>2017</td>\n",
       "      <td>50 - 60</td>\n",
       "    </tr>\n",
       "  </tbody>\n",
       "</table>\n",
       "</div>"
      ],
      "text/plain": [
       "   age became_member_on gender                       customer_id    income  \\\n",
       "0   55       2017-07-15      F  0610b486422d4921ae7d2bf64640c50b  112000.0   \n",
       "1   75       2017-05-09      F  78afa995795e4d85b5d9ceeca43f5fef  100000.0   \n",
       "2   68       2018-04-26      M  e2127556f4f64592b11af22de27a7932   70000.0   \n",
       "3   65       2018-02-09      M  389bc3fa690240e798340f5a15918d5c   53000.0   \n",
       "4   58       2017-11-11      M  2eeac8d8feae4a8cad5a6af0499a211d   51000.0   \n",
       "\n",
       "   membershipstart agerange  \n",
       "0             2017  50 - 60  \n",
       "1             2017  70 - 80  \n",
       "2             2018  60 - 70  \n",
       "3             2018  60 - 70  \n",
       "4             2017  50 - 60  "
      ]
     },
     "execution_count": 39,
     "metadata": {},
     "output_type": "execute_result"
    }
   ],
   "source": [
    "# One hot encode a customer's age range\n",
    "min_age = np.int(np.floor(np.min(profile['age'])/10)*10)\n",
    "max_age = np.int(np.ceil(np.max(profile['age'])/10)*10)\n",
    "\n",
    "profile['agerange'] =   pd.cut(profile['age'],(range(min_age,max_age + 10, 10)),\\\n",
    "           right=False)\n",
    "\n",
    "profile['agerange'] = profile['agerange'].astype('str')\n",
    "\n",
    "# remove the \",\", \"[\" and \")\" from the age range values\n",
    "profile.agerange = profile.agerange.str.replace(',',' -')\n",
    "profile.agerange = profile.agerange.str.replace('[','')\n",
    "profile.agerange = profile.agerange.str.replace(')','')\n",
    "\n",
    "#check the data\n",
    "profile.head()"
   ]
  },
  {
   "cell_type": "code",
   "execution_count": 40,
   "metadata": {},
   "outputs": [
    {
     "data": {
      "text/plain": [
       "['50 - 60',\n",
       " '70 - 80',\n",
       " '60 - 70',\n",
       " '20 - 30',\n",
       " '40 - 50',\n",
       " '30 - 40',\n",
       " '90 - 100',\n",
       " '80 - 90',\n",
       " '10 - 20',\n",
       " '100 - 110']"
      ]
     },
     "execution_count": 40,
     "metadata": {},
     "output_type": "execute_result"
    }
   ],
   "source": [
    "profile.agerange.unique().tolist()\n",
    "\n",
    "# cleaned up data looks good"
   ]
  },
  {
   "cell_type": "code",
   "execution_count": 41,
   "metadata": {},
   "outputs": [
    {
     "data": {
      "image/png": "[encoded data removed]",
      "text/plain": [
       "<matplotlib.figure.Figure at 0x7f807dac5780>"
      ]
     },
     "metadata": {},
     "output_type": "display_data"
    }
   ],
   "source": [
    "fig, ax = plt.subplots(figsize=(10,6))\n",
    "profile.groupby(['agerange','gender'])['age'].count().unstack().plot(ax=ax ,kind=\"bar\")\n",
    "ax.set_xlabel(\"Year\")\n",
    "ax.set_ylabel(\"No of Registrations\")\n",
    "ax.set_title(\"Memberships By Age Range by Gender\");"
   ]
  },
  {
   "cell_type": "markdown",
   "metadata": {},
   "source": [
    "**The most members are in the 50 - 60 age range, followed by 60 -70 and 40 - 50 age ranges.**"
   ]
  },
  {
   "cell_type": "code",
   "execution_count": 42,
   "metadata": {},
   "outputs": [
    {
     "data": {
      "image/png": "[encoded data removed]",
      "text/plain": [
       "<matplotlib.figure.Figure at 0x7f807d8412b0>"
      ]
     },
     "metadata": {},
     "output_type": "display_data"
    }
   ],
   "source": [
    "fig, ax = plt.subplots(figsize=(15,6))\n",
    "profile.groupby(['membershipstart','agerange'])['age'].count().unstack().plot(ax=ax ,kind=\"bar\")\n",
    "ax.set_xlabel(\"Year\")\n",
    "ax.set_ylabel(\"No of Registrations\")\n",
    "ax.set_title(\"Memberships By Age Range by Year\");"
   ]
  },
  {
   "cell_type": "markdown",
   "metadata": {},
   "source": [
    "**2017 saw the most number of registrations**"
   ]
  },
  {
   "cell_type": "code",
   "execution_count": 43,
   "metadata": {
    "scrolled": true
   },
   "outputs": [],
   "source": [
    "# One Hot Encode Data\n",
    "cols = ['customerid','gender','income']\n",
    "\n",
    "#one hot encode membership start year\n",
    "membershipyear_df = pd.get_dummies(profile['membershipstart'])\n",
    "cols.extend(membershipyear_df.columns.values)\n",
    "\n",
    "# One hot encode Age range values\n",
    "agerange_df = pd.get_dummies(profile['agerange'])\n",
    "cols.extend(agerange_df.columns.values)\n",
    "\n",
    "# Transform a customer's gender from a character to a number\n",
    "binarizerobj = LabelBinarizer()\n",
    "profile['gender_value'] = binarizerobj.fit_transform(profile['gender'])"
   ]
  },
  {
   "cell_type": "code",
   "execution_count": 44,
   "metadata": {},
   "outputs": [
    {
     "data": {
      "text/plain": [
       "{'F': 0, 'M': 1}"
      ]
     },
     "execution_count": 44,
     "metadata": {},
     "output_type": "execute_result"
    }
   ],
   "source": [
    "# Check the gender mapping\n",
    "gender_map = {}\n",
    "for g in binarizerobj.classes_:\n",
    "    gender_map[g] = binarizerobj.transform([g])[0,0]\n",
    "gender_map    "
   ]
  },
  {
   "cell_type": "code",
   "execution_count": 45,
   "metadata": {},
   "outputs": [],
   "source": [
    "# Appened the one hot encoded columns to the original data frame\n",
    "profile = pd.concat([profile,\n",
    "                     agerange_df,\n",
    "                     membershipyear_df], axis=1)\n"
   ]
  },
  {
   "cell_type": "code",
   "execution_count": null,
   "metadata": {},
   "outputs": [],
   "source": [
    "\n",
    "# Remove depcreated columns\n",
    "profile = profile.drop(columns=['age',\n",
    "                                'agerange',\n",
    "                                'became_member_on',\n",
    "                                'membershipstart'])"
   ]
  },
  {
   "cell_type": "code",
   "execution_count": 46,
   "metadata": {},
   "outputs": [
    {
     "data": {
      "text/html": [
       "<div>\n",
       "<style scoped>\n",
       "    .dataframe tbody tr th:only-of-type {\n",
       "        vertical-align: middle;\n",
       "    }\n",
       "\n",
       "    .dataframe tbody tr th {\n",
       "        vertical-align: top;\n",
       "    }\n",
       "\n",
       "    .dataframe thead th {\n",
       "        text-align: right;\n",
       "    }\n",
       "</style>\n",
       "<table border=\"1\" class=\"dataframe\">\n",
       "  <thead>\n",
       "    <tr style=\"text-align: right;\">\n",
       "      <th></th>\n",
       "      <th>age</th>\n",
       "      <th>became_member_on</th>\n",
       "      <th>gender</th>\n",
       "      <th>customer_id</th>\n",
       "      <th>income</th>\n",
       "      <th>membershipstart</th>\n",
       "      <th>agerange</th>\n",
       "      <th>gender_value</th>\n",
       "      <th>10 - 20</th>\n",
       "      <th>100 - 110</th>\n",
       "      <th>...</th>\n",
       "      <th>60 - 70</th>\n",
       "      <th>70 - 80</th>\n",
       "      <th>80 - 90</th>\n",
       "      <th>90 - 100</th>\n",
       "      <th>2013</th>\n",
       "      <th>2014</th>\n",
       "      <th>2015</th>\n",
       "      <th>2016</th>\n",
       "      <th>2017</th>\n",
       "      <th>2018</th>\n",
       "    </tr>\n",
       "  </thead>\n",
       "  <tbody>\n",
       "    <tr>\n",
       "      <th>0</th>\n",
       "      <td>55</td>\n",
       "      <td>2017-07-15</td>\n",
       "      <td>F</td>\n",
       "      <td>0610b486422d4921ae7d2bf64640c50b</td>\n",
       "      <td>112000.0</td>\n",
       "      <td>2017</td>\n",
       "      <td>50 - 60</td>\n",
       "      <td>0</td>\n",
       "      <td>0</td>\n",
       "      <td>0</td>\n",
       "      <td>...</td>\n",
       "      <td>0</td>\n",
       "      <td>0</td>\n",
       "      <td>0</td>\n",
       "      <td>0</td>\n",
       "      <td>0</td>\n",
       "      <td>0</td>\n",
       "      <td>0</td>\n",
       "      <td>0</td>\n",
       "      <td>1</td>\n",
       "      <td>0</td>\n",
       "    </tr>\n",
       "    <tr>\n",
       "      <th>1</th>\n",
       "      <td>75</td>\n",
       "      <td>2017-05-09</td>\n",
       "      <td>F</td>\n",
       "      <td>78afa995795e4d85b5d9ceeca43f5fef</td>\n",
       "      <td>100000.0</td>\n",
       "      <td>2017</td>\n",
       "      <td>70 - 80</td>\n",
       "      <td>0</td>\n",
       "      <td>0</td>\n",
       "      <td>0</td>\n",
       "      <td>...</td>\n",
       "      <td>0</td>\n",
       "      <td>1</td>\n",
       "      <td>0</td>\n",
       "      <td>0</td>\n",
       "      <td>0</td>\n",
       "      <td>0</td>\n",
       "      <td>0</td>\n",
       "      <td>0</td>\n",
       "      <td>1</td>\n",
       "      <td>0</td>\n",
       "    </tr>\n",
       "    <tr>\n",
       "      <th>2</th>\n",
       "      <td>68</td>\n",
       "      <td>2018-04-26</td>\n",
       "      <td>M</td>\n",
       "      <td>e2127556f4f64592b11af22de27a7932</td>\n",
       "      <td>70000.0</td>\n",
       "      <td>2018</td>\n",
       "      <td>60 - 70</td>\n",
       "      <td>1</td>\n",
       "      <td>0</td>\n",
       "      <td>0</td>\n",
       "      <td>...</td>\n",
       "      <td>1</td>\n",
       "      <td>0</td>\n",
       "      <td>0</td>\n",
       "      <td>0</td>\n",
       "      <td>0</td>\n",
       "      <td>0</td>\n",
       "      <td>0</td>\n",
       "      <td>0</td>\n",
       "      <td>0</td>\n",
       "      <td>1</td>\n",
       "    </tr>\n",
       "    <tr>\n",
       "      <th>3</th>\n",
       "      <td>65</td>\n",
       "      <td>2018-02-09</td>\n",
       "      <td>M</td>\n",
       "      <td>389bc3fa690240e798340f5a15918d5c</td>\n",
       "      <td>53000.0</td>\n",
       "      <td>2018</td>\n",
       "      <td>60 - 70</td>\n",
       "      <td>1</td>\n",
       "      <td>0</td>\n",
       "      <td>0</td>\n",
       "      <td>...</td>\n",
       "      <td>1</td>\n",
       "      <td>0</td>\n",
       "      <td>0</td>\n",
       "      <td>0</td>\n",
       "      <td>0</td>\n",
       "      <td>0</td>\n",
       "      <td>0</td>\n",
       "      <td>0</td>\n",
       "      <td>0</td>\n",
       "      <td>1</td>\n",
       "    </tr>\n",
       "    <tr>\n",
       "      <th>4</th>\n",
       "      <td>58</td>\n",
       "      <td>2017-11-11</td>\n",
       "      <td>M</td>\n",
       "      <td>2eeac8d8feae4a8cad5a6af0499a211d</td>\n",
       "      <td>51000.0</td>\n",
       "      <td>2017</td>\n",
       "      <td>50 - 60</td>\n",
       "      <td>1</td>\n",
       "      <td>0</td>\n",
       "      <td>0</td>\n",
       "      <td>...</td>\n",
       "      <td>0</td>\n",
       "      <td>0</td>\n",
       "      <td>0</td>\n",
       "      <td>0</td>\n",
       "      <td>0</td>\n",
       "      <td>0</td>\n",
       "      <td>0</td>\n",
       "      <td>0</td>\n",
       "      <td>1</td>\n",
       "      <td>0</td>\n",
       "    </tr>\n",
       "  </tbody>\n",
       "</table>\n",
       "<p>5 rows × 24 columns</p>\n",
       "</div>"
      ],
      "text/plain": [
       "   age became_member_on gender                       customer_id    income  \\\n",
       "0   55       2017-07-15      F  0610b486422d4921ae7d2bf64640c50b  112000.0   \n",
       "1   75       2017-05-09      F  78afa995795e4d85b5d9ceeca43f5fef  100000.0   \n",
       "2   68       2018-04-26      M  e2127556f4f64592b11af22de27a7932   70000.0   \n",
       "3   65       2018-02-09      M  389bc3fa690240e798340f5a15918d5c   53000.0   \n",
       "4   58       2017-11-11      M  2eeac8d8feae4a8cad5a6af0499a211d   51000.0   \n",
       "\n",
       "   membershipstart agerange  gender_value  10 - 20  100 - 110  ...   60 - 70  \\\n",
       "0             2017  50 - 60             0        0          0  ...         0   \n",
       "1             2017  70 - 80             0        0          0  ...         0   \n",
       "2             2018  60 - 70             1        0          0  ...         1   \n",
       "3             2018  60 - 70             1        0          0  ...         1   \n",
       "4             2017  50 - 60             1        0          0  ...         0   \n",
       "\n",
       "   70 - 80  80 - 90  90 - 100  2013  2014  2015  2016  2017  2018  \n",
       "0        0        0         0     0     0     0     0     1     0  \n",
       "1        1        0         0     0     0     0     0     1     0  \n",
       "2        0        0         0     0     0     0     0     0     1  \n",
       "3        0        0         0     0     0     0     0     0     1  \n",
       "4        0        0         0     0     0     0     0     1     0  \n",
       "\n",
       "[5 rows x 24 columns]"
      ]
     },
     "execution_count": 46,
     "metadata": {},
     "output_type": "execute_result"
    }
   ],
   "source": [
    "profile.head()"
   ]
  },
  {
   "cell_type": "code",
   "execution_count": 47,
   "metadata": {},
   "outputs": [
    {
     "data": {
      "text/html": [
       "<div>\n",
       "<style scoped>\n",
       "    .dataframe tbody tr th:only-of-type {\n",
       "        vertical-align: middle;\n",
       "    }\n",
       "\n",
       "    .dataframe tbody tr th {\n",
       "        vertical-align: top;\n",
       "    }\n",
       "\n",
       "    .dataframe thead th {\n",
       "        text-align: right;\n",
       "    }\n",
       "</style>\n",
       "<table border=\"1\" class=\"dataframe\">\n",
       "  <thead>\n",
       "    <tr style=\"text-align: right;\">\n",
       "      <th></th>\n",
       "      <th>event</th>\n",
       "      <th>person</th>\n",
       "      <th>time</th>\n",
       "      <th>value</th>\n",
       "    </tr>\n",
       "  </thead>\n",
       "  <tbody>\n",
       "    <tr>\n",
       "      <th>0</th>\n",
       "      <td>offer received</td>\n",
       "      <td>78afa995795e4d85b5d9ceeca43f5fef</td>\n",
       "      <td>0</td>\n",
       "      <td>{'offer id': '9b98b8c7a33c4b65b9aebfe6a799e6d9'}</td>\n",
       "    </tr>\n",
       "    <tr>\n",
       "      <th>1</th>\n",
       "      <td>offer received</td>\n",
       "      <td>a03223e636434f42ac4c3df47e8bac43</td>\n",
       "      <td>0</td>\n",
       "      <td>{'offer id': '0b1e1539f2cc45b7b9fa7c272da2e1d7'}</td>\n",
       "    </tr>\n",
       "    <tr>\n",
       "      <th>2</th>\n",
       "      <td>offer received</td>\n",
       "      <td>e2127556f4f64592b11af22de27a7932</td>\n",
       "      <td>0</td>\n",
       "      <td>{'offer id': '2906b810c7d4411798c6938adc9daaa5'}</td>\n",
       "    </tr>\n",
       "    <tr>\n",
       "      <th>3</th>\n",
       "      <td>offer received</td>\n",
       "      <td>8ec6ce2a7e7949b1bf142def7d0e0586</td>\n",
       "      <td>0</td>\n",
       "      <td>{'offer id': 'fafdcd668e3743c1bb461111dcafc2a4'}</td>\n",
       "    </tr>\n",
       "    <tr>\n",
       "      <th>4</th>\n",
       "      <td>offer received</td>\n",
       "      <td>68617ca6246f4fbc85e91a2a49552598</td>\n",
       "      <td>0</td>\n",
       "      <td>{'offer id': '4d5c57ea9a6940dd891ad53e9dbe8da0'}</td>\n",
       "    </tr>\n",
       "  </tbody>\n",
       "</table>\n",
       "</div>"
      ],
      "text/plain": [
       "            event                            person  time  \\\n",
       "0  offer received  78afa995795e4d85b5d9ceeca43f5fef     0   \n",
       "1  offer received  a03223e636434f42ac4c3df47e8bac43     0   \n",
       "2  offer received  e2127556f4f64592b11af22de27a7932     0   \n",
       "3  offer received  8ec6ce2a7e7949b1bf142def7d0e0586     0   \n",
       "4  offer received  68617ca6246f4fbc85e91a2a49552598     0   \n",
       "\n",
       "                                              value  \n",
       "0  {'offer id': '9b98b8c7a33c4b65b9aebfe6a799e6d9'}  \n",
       "1  {'offer id': '0b1e1539f2cc45b7b9fa7c272da2e1d7'}  \n",
       "2  {'offer id': '2906b810c7d4411798c6938adc9daaa5'}  \n",
       "3  {'offer id': 'fafdcd668e3743c1bb461111dcafc2a4'}  \n",
       "4  {'offer id': '4d5c57ea9a6940dd891ad53e9dbe8da0'}  "
      ]
     },
     "execution_count": 47,
     "metadata": {},
     "output_type": "execute_result"
    }
   ],
   "source": [
    "# lets check out some data from the transcript df\n",
    "transcript.head()"
   ]
  },
  {
   "cell_type": "code",
   "execution_count": 48,
   "metadata": {},
   "outputs": [
    {
     "data": {
      "text/html": [
       "<div>\n",
       "<style scoped>\n",
       "    .dataframe tbody tr th:only-of-type {\n",
       "        vertical-align: middle;\n",
       "    }\n",
       "\n",
       "    .dataframe tbody tr th {\n",
       "        vertical-align: top;\n",
       "    }\n",
       "\n",
       "    .dataframe thead th {\n",
       "        text-align: right;\n",
       "    }\n",
       "</style>\n",
       "<table border=\"1\" class=\"dataframe\">\n",
       "  <thead>\n",
       "    <tr style=\"text-align: right;\">\n",
       "      <th></th>\n",
       "      <th>event</th>\n",
       "      <th>count</th>\n",
       "    </tr>\n",
       "  </thead>\n",
       "  <tbody>\n",
       "    <tr>\n",
       "      <th>0</th>\n",
       "      <td>transaction</td>\n",
       "      <td>138953</td>\n",
       "    </tr>\n",
       "    <tr>\n",
       "      <th>1</th>\n",
       "      <td>offer received</td>\n",
       "      <td>76277</td>\n",
       "    </tr>\n",
       "    <tr>\n",
       "      <th>2</th>\n",
       "      <td>offer viewed</td>\n",
       "      <td>57725</td>\n",
       "    </tr>\n",
       "    <tr>\n",
       "      <th>3</th>\n",
       "      <td>offer completed</td>\n",
       "      <td>33579</td>\n",
       "    </tr>\n",
       "  </tbody>\n",
       "</table>\n",
       "</div>"
      ],
      "text/plain": [
       "             event   count\n",
       "0      transaction  138953\n",
       "1   offer received   76277\n",
       "2     offer viewed   57725\n",
       "3  offer completed   33579"
      ]
     },
     "execution_count": 48,
     "metadata": {},
     "output_type": "execute_result"
    }
   ],
   "source": [
    "# Lets see event count distribution\n",
    "event_counts = transcript['event'].value_counts()\n",
    "event_counts = pd.DataFrame(list(zip(event_counts.index.values, event_counts)),\n",
    "                            columns=['event', 'count'])\n",
    "event_counts"
   ]
  },
  {
   "cell_type": "code",
   "execution_count": 49,
   "metadata": {},
   "outputs": [
    {
     "name": "stdout",
     "output_type": "stream",
     "text": [
      "['transaction', 'offer received', 'offer viewed', 'offer completed']\n",
      "[138953, 76277, 57725, 33579]\n"
     ]
    }
   ],
   "source": [
    "print(event_counts.event.tolist())\n",
    "print(event_counts['count'].tolist())"
   ]
  },
  {
   "cell_type": "code",
   "execution_count": 50,
   "metadata": {},
   "outputs": [
    {
     "name": "stdout",
     "output_type": "stream",
     "text": [
      "Percentage of customer transaction events: 45.3 %\n",
      "Percentage of customer offer events: 54.7 %\n"
     ]
    }
   ],
   "source": [
    "total_transactions = event_counts['count'].sum()\n",
    "\n",
    "percentage_transactions = 100 * event_counts.iloc[0]['count'] / total_transactions\n",
    "percentage_offers = 100 * event_counts.iloc[1:]['count'].sum() / total_transactions\n",
    "\n",
    "print(\"Percentage of customer transaction events: %.1f %%\" % (percentage_transactions))\n",
    "print(\"Percentage of customer offer events: %.1f %%\" % (percentage_offers))"
   ]
  },
  {
   "cell_type": "markdown",
   "metadata": {},
   "source": [
    "#### Transcript Data\n",
    "  - Lets change the person column name to customer_id\n",
    "  - change time in hours to days\n",
    "  - change time column name to days"
   ]
  },
  {
   "cell_type": "code",
   "execution_count": 52,
   "metadata": {},
   "outputs": [
    {
     "data": {
      "text/html": [
       "<div>\n",
       "<style scoped>\n",
       "    .dataframe tbody tr th:only-of-type {\n",
       "        vertical-align: middle;\n",
       "    }\n",
       "\n",
       "    .dataframe tbody tr th {\n",
       "        vertical-align: top;\n",
       "    }\n",
       "\n",
       "    .dataframe thead th {\n",
       "        text-align: right;\n",
       "    }\n",
       "</style>\n",
       "<table border=\"1\" class=\"dataframe\">\n",
       "  <thead>\n",
       "    <tr style=\"text-align: right;\">\n",
       "      <th></th>\n",
       "      <th>event</th>\n",
       "      <th>customer_id</th>\n",
       "      <th>time</th>\n",
       "      <th>value</th>\n",
       "    </tr>\n",
       "  </thead>\n",
       "  <tbody>\n",
       "    <tr>\n",
       "      <th>0</th>\n",
       "      <td>offer received</td>\n",
       "      <td>78afa995795e4d85b5d9ceeca43f5fef</td>\n",
       "      <td>0</td>\n",
       "      <td>{'offer id': '9b98b8c7a33c4b65b9aebfe6a799e6d9'}</td>\n",
       "    </tr>\n",
       "    <tr>\n",
       "      <th>1</th>\n",
       "      <td>offer received</td>\n",
       "      <td>a03223e636434f42ac4c3df47e8bac43</td>\n",
       "      <td>0</td>\n",
       "      <td>{'offer id': '0b1e1539f2cc45b7b9fa7c272da2e1d7'}</td>\n",
       "    </tr>\n",
       "    <tr>\n",
       "      <th>2</th>\n",
       "      <td>offer received</td>\n",
       "      <td>e2127556f4f64592b11af22de27a7932</td>\n",
       "      <td>0</td>\n",
       "      <td>{'offer id': '2906b810c7d4411798c6938adc9daaa5'}</td>\n",
       "    </tr>\n",
       "    <tr>\n",
       "      <th>3</th>\n",
       "      <td>offer received</td>\n",
       "      <td>8ec6ce2a7e7949b1bf142def7d0e0586</td>\n",
       "      <td>0</td>\n",
       "      <td>{'offer id': 'fafdcd668e3743c1bb461111dcafc2a4'}</td>\n",
       "    </tr>\n",
       "    <tr>\n",
       "      <th>4</th>\n",
       "      <td>offer received</td>\n",
       "      <td>68617ca6246f4fbc85e91a2a49552598</td>\n",
       "      <td>0</td>\n",
       "      <td>{'offer id': '4d5c57ea9a6940dd891ad53e9dbe8da0'}</td>\n",
       "    </tr>\n",
       "  </tbody>\n",
       "</table>\n",
       "</div>"
      ],
      "text/plain": [
       "            event                       customer_id  time  \\\n",
       "0  offer received  78afa995795e4d85b5d9ceeca43f5fef     0   \n",
       "1  offer received  a03223e636434f42ac4c3df47e8bac43     0   \n",
       "2  offer received  e2127556f4f64592b11af22de27a7932     0   \n",
       "3  offer received  8ec6ce2a7e7949b1bf142def7d0e0586     0   \n",
       "4  offer received  68617ca6246f4fbc85e91a2a49552598     0   \n",
       "\n",
       "                                              value  \n",
       "0  {'offer id': '9b98b8c7a33c4b65b9aebfe6a799e6d9'}  \n",
       "1  {'offer id': '0b1e1539f2cc45b7b9fa7c272da2e1d7'}  \n",
       "2  {'offer id': '2906b810c7d4411798c6938adc9daaa5'}  \n",
       "3  {'offer id': 'fafdcd668e3743c1bb461111dcafc2a4'}  \n",
       "4  {'offer id': '4d5c57ea9a6940dd891ad53e9dbe8da0'}  "
      ]
     },
     "execution_count": 52,
     "metadata": {},
     "output_type": "execute_result"
    }
   ],
   "source": [
    "transcript.rename(columns={\"person\": \"customer_id\"}, inplace=True)\n",
    "transcript.head()"
   ]
  },
  {
   "cell_type": "code",
   "execution_count": 53,
   "metadata": {},
   "outputs": [
    {
     "name": "stdout",
     "output_type": "stream",
     "text": [
      "Percentage of transactions removed: 12.31 %\n"
     ]
    }
   ],
   "source": [
    "# Remove customer id's that are not in the customer profile DataFrame\n",
    "select_data = transcript['customer_id'].isin(profile['customer_id'])\n",
    "transcript = transcript[select_data]\n",
    "\n",
    "percent_removed = 100 * (1 - select_data.sum() / select_data.shape[0])\n",
    "print(\"Percentage of transactions removed: %.2f %%\" % percent_removed)"
   ]
  },
  {
   "cell_type": "code",
   "execution_count": 54,
   "metadata": {},
   "outputs": [],
   "source": [
    "transcript['time'] /= 24.0\n",
    "transcript.rename(columns={\"time\": \"days\"}, inplace=True)"
   ]
  },
  {
   "cell_type": "code",
   "execution_count": 55,
   "metadata": {},
   "outputs": [
    {
     "data": {
      "text/html": [
       "<div>\n",
       "<style scoped>\n",
       "    .dataframe tbody tr th:only-of-type {\n",
       "        vertical-align: middle;\n",
       "    }\n",
       "\n",
       "    .dataframe tbody tr th {\n",
       "        vertical-align: top;\n",
       "    }\n",
       "\n",
       "    .dataframe thead th {\n",
       "        text-align: right;\n",
       "    }\n",
       "</style>\n",
       "<table border=\"1\" class=\"dataframe\">\n",
       "  <thead>\n",
       "    <tr style=\"text-align: right;\">\n",
       "      <th></th>\n",
       "      <th>event</th>\n",
       "      <th>customer_id</th>\n",
       "      <th>days</th>\n",
       "      <th>value</th>\n",
       "    </tr>\n",
       "  </thead>\n",
       "  <tbody>\n",
       "    <tr>\n",
       "      <th>0</th>\n",
       "      <td>offer received</td>\n",
       "      <td>78afa995795e4d85b5d9ceeca43f5fef</td>\n",
       "      <td>0.0</td>\n",
       "      <td>{'offer id': '9b98b8c7a33c4b65b9aebfe6a799e6d9'}</td>\n",
       "    </tr>\n",
       "    <tr>\n",
       "      <th>2</th>\n",
       "      <td>offer received</td>\n",
       "      <td>e2127556f4f64592b11af22de27a7932</td>\n",
       "      <td>0.0</td>\n",
       "      <td>{'offer id': '2906b810c7d4411798c6938adc9daaa5'}</td>\n",
       "    </tr>\n",
       "    <tr>\n",
       "      <th>5</th>\n",
       "      <td>offer received</td>\n",
       "      <td>389bc3fa690240e798340f5a15918d5c</td>\n",
       "      <td>0.0</td>\n",
       "      <td>{'offer id': 'f19421c1d4aa40978ebb69ca19b0e20d'}</td>\n",
       "    </tr>\n",
       "    <tr>\n",
       "      <th>7</th>\n",
       "      <td>offer received</td>\n",
       "      <td>2eeac8d8feae4a8cad5a6af0499a211d</td>\n",
       "      <td>0.0</td>\n",
       "      <td>{'offer id': '3f207df678b143eea3cee63160fa8bed'}</td>\n",
       "    </tr>\n",
       "    <tr>\n",
       "      <th>8</th>\n",
       "      <td>offer received</td>\n",
       "      <td>aa4862eba776480b8bb9c68455b8c2e1</td>\n",
       "      <td>0.0</td>\n",
       "      <td>{'offer id': '0b1e1539f2cc45b7b9fa7c272da2e1d7'}</td>\n",
       "    </tr>\n",
       "  </tbody>\n",
       "</table>\n",
       "</div>"
      ],
      "text/plain": [
       "            event                       customer_id  days  \\\n",
       "0  offer received  78afa995795e4d85b5d9ceeca43f5fef   0.0   \n",
       "2  offer received  e2127556f4f64592b11af22de27a7932   0.0   \n",
       "5  offer received  389bc3fa690240e798340f5a15918d5c   0.0   \n",
       "7  offer received  2eeac8d8feae4a8cad5a6af0499a211d   0.0   \n",
       "8  offer received  aa4862eba776480b8bb9c68455b8c2e1   0.0   \n",
       "\n",
       "                                              value  \n",
       "0  {'offer id': '9b98b8c7a33c4b65b9aebfe6a799e6d9'}  \n",
       "2  {'offer id': '2906b810c7d4411798c6938adc9daaa5'}  \n",
       "5  {'offer id': 'f19421c1d4aa40978ebb69ca19b0e20d'}  \n",
       "7  {'offer id': '3f207df678b143eea3cee63160fa8bed'}  \n",
       "8  {'offer id': '0b1e1539f2cc45b7b9fa7c272da2e1d7'}  "
      ]
     },
     "execution_count": 55,
     "metadata": {},
     "output_type": "execute_result"
    }
   ],
   "source": [
    "transcript.head()"
   ]
  },
  {
   "cell_type": "code",
   "execution_count": 67,
   "metadata": {
    "scrolled": true
   },
   "outputs": [],
   "source": [
    "# Select customer offers\n",
    "pattern_obj = re.compile('^offer (?:received|viewed|completed)')\n",
    "h_is_offer = lambda elem: pattern_obj.match(elem) != None\n",
    "is_offer = transcript['event'].apply(h_is_offer)\n",
    "\n",
    "offers_data = transcript[is_offer].copy()\n",
    "offers_data = offers_data.reset_index(drop=True)"
   ]
  },
  {
   "cell_type": "code",
   "execution_count": 68,
   "metadata": {},
   "outputs": [],
   "source": [
    "cols = ['offer_id', 'customer_id', 'days']"
   ]
  },
  {
   "cell_type": "code",
   "execution_count": 69,
   "metadata": {},
   "outputs": [
    {
     "data": {
      "text/html": [
       "<div>\n",
       "<style scoped>\n",
       "    .dataframe tbody tr th:only-of-type {\n",
       "        vertical-align: middle;\n",
       "    }\n",
       "\n",
       "    .dataframe tbody tr th {\n",
       "        vertical-align: top;\n",
       "    }\n",
       "\n",
       "    .dataframe thead th {\n",
       "        text-align: right;\n",
       "    }\n",
       "</style>\n",
       "<table border=\"1\" class=\"dataframe\">\n",
       "  <thead>\n",
       "    <tr style=\"text-align: right;\">\n",
       "      <th></th>\n",
       "      <th>event</th>\n",
       "      <th>customer_id</th>\n",
       "      <th>days</th>\n",
       "      <th>value</th>\n",
       "      <th>offer_id</th>\n",
       "    </tr>\n",
       "  </thead>\n",
       "  <tbody>\n",
       "    <tr>\n",
       "      <th>0</th>\n",
       "      <td>offer received</td>\n",
       "      <td>78afa995795e4d85b5d9ceeca43f5fef</td>\n",
       "      <td>0.0</td>\n",
       "      <td>{'offer id': '9b98b8c7a33c4b65b9aebfe6a799e6d9'}</td>\n",
       "      <td>9b98b8c7a33c4b65b9aebfe6a799e6d9</td>\n",
       "    </tr>\n",
       "    <tr>\n",
       "      <th>1</th>\n",
       "      <td>offer received</td>\n",
       "      <td>e2127556f4f64592b11af22de27a7932</td>\n",
       "      <td>0.0</td>\n",
       "      <td>{'offer id': '2906b810c7d4411798c6938adc9daaa5'}</td>\n",
       "      <td>2906b810c7d4411798c6938adc9daaa5</td>\n",
       "    </tr>\n",
       "    <tr>\n",
       "      <th>2</th>\n",
       "      <td>offer received</td>\n",
       "      <td>389bc3fa690240e798340f5a15918d5c</td>\n",
       "      <td>0.0</td>\n",
       "      <td>{'offer id': 'f19421c1d4aa40978ebb69ca19b0e20d'}</td>\n",
       "      <td>f19421c1d4aa40978ebb69ca19b0e20d</td>\n",
       "    </tr>\n",
       "    <tr>\n",
       "      <th>3</th>\n",
       "      <td>offer received</td>\n",
       "      <td>2eeac8d8feae4a8cad5a6af0499a211d</td>\n",
       "      <td>0.0</td>\n",
       "      <td>{'offer id': '3f207df678b143eea3cee63160fa8bed'}</td>\n",
       "      <td>3f207df678b143eea3cee63160fa8bed</td>\n",
       "    </tr>\n",
       "    <tr>\n",
       "      <th>4</th>\n",
       "      <td>offer received</td>\n",
       "      <td>aa4862eba776480b8bb9c68455b8c2e1</td>\n",
       "      <td>0.0</td>\n",
       "      <td>{'offer id': '0b1e1539f2cc45b7b9fa7c272da2e1d7'}</td>\n",
       "      <td>0b1e1539f2cc45b7b9fa7c272da2e1d7</td>\n",
       "    </tr>\n",
       "  </tbody>\n",
       "</table>\n",
       "</div>"
      ],
      "text/plain": [
       "            event                       customer_id  days  \\\n",
       "0  offer received  78afa995795e4d85b5d9ceeca43f5fef   0.0   \n",
       "1  offer received  e2127556f4f64592b11af22de27a7932   0.0   \n",
       "2  offer received  389bc3fa690240e798340f5a15918d5c   0.0   \n",
       "3  offer received  2eeac8d8feae4a8cad5a6af0499a211d   0.0   \n",
       "4  offer received  aa4862eba776480b8bb9c68455b8c2e1   0.0   \n",
       "\n",
       "                                              value  \\\n",
       "0  {'offer id': '9b98b8c7a33c4b65b9aebfe6a799e6d9'}   \n",
       "1  {'offer id': '2906b810c7d4411798c6938adc9daaa5'}   \n",
       "2  {'offer id': 'f19421c1d4aa40978ebb69ca19b0e20d'}   \n",
       "3  {'offer id': '3f207df678b143eea3cee63160fa8bed'}   \n",
       "4  {'offer id': '0b1e1539f2cc45b7b9fa7c272da2e1d7'}   \n",
       "\n",
       "                           offer_id  \n",
       "0  9b98b8c7a33c4b65b9aebfe6a799e6d9  \n",
       "1  2906b810c7d4411798c6938adc9daaa5  \n",
       "2  f19421c1d4aa40978ebb69ca19b0e20d  \n",
       "3  3f207df678b143eea3cee63160fa8bed  \n",
       "4  0b1e1539f2cc45b7b9fa7c272da2e1d7  "
      ]
     },
     "execution_count": 69,
     "metadata": {},
     "output_type": "execute_result"
    }
   ],
   "source": [
    "offers_data['offer_id'] = offers_data['value'].apply(lambda elem: list(elem.values())[0])\n",
    "offers_data.head()"
   ]
  },
  {
   "cell_type": "markdown",
   "metadata": {},
   "source": [
    "#### Perform the following\n",
    "  - Offer received column value to be changed to received\n",
    "  - Offer viewed column to be changed to viewed"
   ]
  },
  {
   "cell_type": "code",
   "execution_count": 70,
   "metadata": {},
   "outputs": [],
   "source": [
    "# Transform a column that describes a customer offer event\n",
    "# https://docs.python.org/3/library/re.html\n",
    "pattern_obj = re.compile('^offer ([a-z]+$)')\n",
    "h_transform = lambda elem: pattern_obj.match(elem).groups(1)[0]\n",
    "offers_data['event'] = offers_data['event'].apply(h_transform)"
   ]
  },
  {
   "cell_type": "code",
   "execution_count": 71,
   "metadata": {},
   "outputs": [
    {
     "data": {
      "text/plain": [
       "event\n",
       "completed    31943\n",
       "received     65585\n",
       "viewed       49087\n",
       "dtype: int64"
      ]
     },
     "execution_count": 71,
     "metadata": {},
     "output_type": "execute_result"
    }
   ],
   "source": [
    "offers_data.groupby('event').size()"
   ]
  },
  {
   "cell_type": "code",
   "execution_count": 72,
   "metadata": {},
   "outputs": [
    {
     "data": {
      "text/html": [
       "<div>\n",
       "<style scoped>\n",
       "    .dataframe tbody tr th:only-of-type {\n",
       "        vertical-align: middle;\n",
       "    }\n",
       "\n",
       "    .dataframe tbody tr th {\n",
       "        vertical-align: top;\n",
       "    }\n",
       "\n",
       "    .dataframe thead th {\n",
       "        text-align: right;\n",
       "    }\n",
       "</style>\n",
       "<table border=\"1\" class=\"dataframe\">\n",
       "  <thead>\n",
       "    <tr style=\"text-align: right;\">\n",
       "      <th></th>\n",
       "      <th>completed</th>\n",
       "      <th>received</th>\n",
       "      <th>viewed</th>\n",
       "    </tr>\n",
       "  </thead>\n",
       "  <tbody>\n",
       "    <tr>\n",
       "      <th>0</th>\n",
       "      <td>0</td>\n",
       "      <td>1</td>\n",
       "      <td>0</td>\n",
       "    </tr>\n",
       "    <tr>\n",
       "      <th>1</th>\n",
       "      <td>0</td>\n",
       "      <td>1</td>\n",
       "      <td>0</td>\n",
       "    </tr>\n",
       "    <tr>\n",
       "      <th>2</th>\n",
       "      <td>0</td>\n",
       "      <td>1</td>\n",
       "      <td>0</td>\n",
       "    </tr>\n",
       "    <tr>\n",
       "      <th>3</th>\n",
       "      <td>0</td>\n",
       "      <td>1</td>\n",
       "      <td>0</td>\n",
       "    </tr>\n",
       "    <tr>\n",
       "      <th>4</th>\n",
       "      <td>0</td>\n",
       "      <td>1</td>\n",
       "      <td>0</td>\n",
       "    </tr>\n",
       "  </tbody>\n",
       "</table>\n",
       "</div>"
      ],
      "text/plain": [
       "   completed  received  viewed\n",
       "0          0         1       0\n",
       "1          0         1       0\n",
       "2          0         1       0\n",
       "3          0         1       0\n",
       "4          0         1       0"
      ]
     },
     "execution_count": 72,
     "metadata": {},
     "output_type": "execute_result"
    }
   ],
   "source": [
    "# One hot encode customer offer events\n",
    "event_df = pd.get_dummies(offers_data['event'])\n",
    "event_df.head()"
   ]
  },
  {
   "cell_type": "code",
   "execution_count": 73,
   "metadata": {},
   "outputs": [
    {
     "data": {
      "text/plain": [
       "['offer_id', 'customer_id', 'days', 'completed', 'received', 'viewed']"
      ]
     },
     "execution_count": 73,
     "metadata": {},
     "output_type": "execute_result"
    }
   ],
   "source": [
    "cols.extend(event_df.columns.values)\n",
    "cols"
   ]
  },
  {
   "cell_type": "code",
   "execution_count": 74,
   "metadata": {},
   "outputs": [
    {
     "data": {
      "text/html": [
       "<div>\n",
       "<style scoped>\n",
       "    .dataframe tbody tr th:only-of-type {\n",
       "        vertical-align: middle;\n",
       "    }\n",
       "\n",
       "    .dataframe tbody tr th {\n",
       "        vertical-align: top;\n",
       "    }\n",
       "\n",
       "    .dataframe thead th {\n",
       "        text-align: right;\n",
       "    }\n",
       "</style>\n",
       "<table border=\"1\" class=\"dataframe\">\n",
       "  <thead>\n",
       "    <tr style=\"text-align: right;\">\n",
       "      <th></th>\n",
       "      <th>offer_id</th>\n",
       "      <th>customer_id</th>\n",
       "      <th>days</th>\n",
       "      <th>completed</th>\n",
       "      <th>received</th>\n",
       "      <th>viewed</th>\n",
       "    </tr>\n",
       "  </thead>\n",
       "  <tbody>\n",
       "    <tr>\n",
       "      <th>0</th>\n",
       "      <td>9b98b8c7a33c4b65b9aebfe6a799e6d9</td>\n",
       "      <td>78afa995795e4d85b5d9ceeca43f5fef</td>\n",
       "      <td>0.0</td>\n",
       "      <td>0</td>\n",
       "      <td>1</td>\n",
       "      <td>0</td>\n",
       "    </tr>\n",
       "    <tr>\n",
       "      <th>1</th>\n",
       "      <td>2906b810c7d4411798c6938adc9daaa5</td>\n",
       "      <td>e2127556f4f64592b11af22de27a7932</td>\n",
       "      <td>0.0</td>\n",
       "      <td>0</td>\n",
       "      <td>1</td>\n",
       "      <td>0</td>\n",
       "    </tr>\n",
       "    <tr>\n",
       "      <th>2</th>\n",
       "      <td>f19421c1d4aa40978ebb69ca19b0e20d</td>\n",
       "      <td>389bc3fa690240e798340f5a15918d5c</td>\n",
       "      <td>0.0</td>\n",
       "      <td>0</td>\n",
       "      <td>1</td>\n",
       "      <td>0</td>\n",
       "    </tr>\n",
       "    <tr>\n",
       "      <th>3</th>\n",
       "      <td>3f207df678b143eea3cee63160fa8bed</td>\n",
       "      <td>2eeac8d8feae4a8cad5a6af0499a211d</td>\n",
       "      <td>0.0</td>\n",
       "      <td>0</td>\n",
       "      <td>1</td>\n",
       "      <td>0</td>\n",
       "    </tr>\n",
       "    <tr>\n",
       "      <th>4</th>\n",
       "      <td>0b1e1539f2cc45b7b9fa7c272da2e1d7</td>\n",
       "      <td>aa4862eba776480b8bb9c68455b8c2e1</td>\n",
       "      <td>0.0</td>\n",
       "      <td>0</td>\n",
       "      <td>1</td>\n",
       "      <td>0</td>\n",
       "    </tr>\n",
       "  </tbody>\n",
       "</table>\n",
       "</div>"
      ],
      "text/plain": [
       "                           offer_id                       customer_id  days  \\\n",
       "0  9b98b8c7a33c4b65b9aebfe6a799e6d9  78afa995795e4d85b5d9ceeca43f5fef   0.0   \n",
       "1  2906b810c7d4411798c6938adc9daaa5  e2127556f4f64592b11af22de27a7932   0.0   \n",
       "2  f19421c1d4aa40978ebb69ca19b0e20d  389bc3fa690240e798340f5a15918d5c   0.0   \n",
       "3  3f207df678b143eea3cee63160fa8bed  2eeac8d8feae4a8cad5a6af0499a211d   0.0   \n",
       "4  0b1e1539f2cc45b7b9fa7c272da2e1d7  aa4862eba776480b8bb9c68455b8c2e1   0.0   \n",
       "\n",
       "   completed  received  viewed  \n",
       "0          0         1       0  \n",
       "1          0         1       0  \n",
       "2          0         1       0  \n",
       "3          0         1       0  \n",
       "4          0         1       0  "
      ]
     },
     "execution_count": 74,
     "metadata": {},
     "output_type": "execute_result"
    }
   ],
   "source": [
    "# Create a DataFrame that describes customer offer events\n",
    "offers_data = pd.concat([offers_data, event_df], axis=1)\n",
    "offers_data.drop(columns=['event', 'value'])\n",
    "offers_data = offers_data[cols]\n",
    "offers_data.head()"
   ]
  },
  {
   "cell_type": "markdown",
   "metadata": {},
   "source": [
    "#### Transactions performed by users\n",
    "The actual transactions performed by the users are also available in the transcript df.\n",
    "  - Lets create a new data frame to capture these records. \n",
    "  - We will create a new column called \"amount\" to capture the actual amount for each transaction from the \"value\" column.\n",
    "  - Drop duplicate columns from the data frame (value, event)"
   ]
  },
  {
   "cell_type": "code",
   "execution_count": 75,
   "metadata": {},
   "outputs": [
    {
     "data": {
      "text/html": [
       "<div>\n",
       "<style scoped>\n",
       "    .dataframe tbody tr th:only-of-type {\n",
       "        vertical-align: middle;\n",
       "    }\n",
       "\n",
       "    .dataframe tbody tr th {\n",
       "        vertical-align: top;\n",
       "    }\n",
       "\n",
       "    .dataframe thead th {\n",
       "        text-align: right;\n",
       "    }\n",
       "</style>\n",
       "<table border=\"1\" class=\"dataframe\">\n",
       "  <thead>\n",
       "    <tr style=\"text-align: right;\">\n",
       "      <th></th>\n",
       "      <th>event</th>\n",
       "      <th>customer_id</th>\n",
       "      <th>days</th>\n",
       "      <th>value</th>\n",
       "    </tr>\n",
       "  </thead>\n",
       "  <tbody>\n",
       "    <tr>\n",
       "      <th>0</th>\n",
       "      <td>transaction</td>\n",
       "      <td>02c083884c7d45b39cc68e1314fec56c</td>\n",
       "      <td>0.0</td>\n",
       "      <td>{'amount': 0.8300000000000001}</td>\n",
       "    </tr>\n",
       "    <tr>\n",
       "      <th>1</th>\n",
       "      <td>transaction</td>\n",
       "      <td>9fa9ae8f57894cc9a3b8a9bbe0fc1b2f</td>\n",
       "      <td>0.0</td>\n",
       "      <td>{'amount': 34.56}</td>\n",
       "    </tr>\n",
       "    <tr>\n",
       "      <th>2</th>\n",
       "      <td>transaction</td>\n",
       "      <td>54890f68699049c2a04d415abc25e717</td>\n",
       "      <td>0.0</td>\n",
       "      <td>{'amount': 13.23}</td>\n",
       "    </tr>\n",
       "    <tr>\n",
       "      <th>3</th>\n",
       "      <td>transaction</td>\n",
       "      <td>b2f1cd155b864803ad8334cdf13c4bd2</td>\n",
       "      <td>0.0</td>\n",
       "      <td>{'amount': 19.51}</td>\n",
       "    </tr>\n",
       "    <tr>\n",
       "      <th>4</th>\n",
       "      <td>transaction</td>\n",
       "      <td>fe97aa22dd3e48c8b143116a8403dd52</td>\n",
       "      <td>0.0</td>\n",
       "      <td>{'amount': 18.97}</td>\n",
       "    </tr>\n",
       "  </tbody>\n",
       "</table>\n",
       "</div>"
      ],
      "text/plain": [
       "         event                       customer_id  days  \\\n",
       "0  transaction  02c083884c7d45b39cc68e1314fec56c   0.0   \n",
       "1  transaction  9fa9ae8f57894cc9a3b8a9bbe0fc1b2f   0.0   \n",
       "2  transaction  54890f68699049c2a04d415abc25e717   0.0   \n",
       "3  transaction  b2f1cd155b864803ad8334cdf13c4bd2   0.0   \n",
       "4  transaction  fe97aa22dd3e48c8b143116a8403dd52   0.0   \n",
       "\n",
       "                            value  \n",
       "0  {'amount': 0.8300000000000001}  \n",
       "1               {'amount': 34.56}  \n",
       "2               {'amount': 13.23}  \n",
       "3               {'amount': 19.51}  \n",
       "4               {'amount': 18.97}  "
      ]
     },
     "execution_count": 75,
     "metadata": {},
     "output_type": "execute_result"
    }
   ],
   "source": [
    "# Select customer transaction events\n",
    "transactions = transcript[is_offer == False]\n",
    "transactions = transactions.reset_index(drop=True)\n",
    "transactions.head()"
   ]
  },
  {
   "cell_type": "code",
   "execution_count": 76,
   "metadata": {},
   "outputs": [
    {
     "data": {
      "text/html": [
       "<div>\n",
       "<style scoped>\n",
       "    .dataframe tbody tr th:only-of-type {\n",
       "        vertical-align: middle;\n",
       "    }\n",
       "\n",
       "    .dataframe tbody tr th {\n",
       "        vertical-align: top;\n",
       "    }\n",
       "\n",
       "    .dataframe thead th {\n",
       "        text-align: right;\n",
       "    }\n",
       "</style>\n",
       "<table border=\"1\" class=\"dataframe\">\n",
       "  <thead>\n",
       "    <tr style=\"text-align: right;\">\n",
       "      <th></th>\n",
       "      <th>event</th>\n",
       "      <th>customer_id</th>\n",
       "      <th>days</th>\n",
       "      <th>value</th>\n",
       "      <th>amount</th>\n",
       "    </tr>\n",
       "  </thead>\n",
       "  <tbody>\n",
       "    <tr>\n",
       "      <th>0</th>\n",
       "      <td>transaction</td>\n",
       "      <td>02c083884c7d45b39cc68e1314fec56c</td>\n",
       "      <td>0.0</td>\n",
       "      <td>{'amount': 0.8300000000000001}</td>\n",
       "      <td>0.83</td>\n",
       "    </tr>\n",
       "    <tr>\n",
       "      <th>1</th>\n",
       "      <td>transaction</td>\n",
       "      <td>9fa9ae8f57894cc9a3b8a9bbe0fc1b2f</td>\n",
       "      <td>0.0</td>\n",
       "      <td>{'amount': 34.56}</td>\n",
       "      <td>34.56</td>\n",
       "    </tr>\n",
       "    <tr>\n",
       "      <th>2</th>\n",
       "      <td>transaction</td>\n",
       "      <td>54890f68699049c2a04d415abc25e717</td>\n",
       "      <td>0.0</td>\n",
       "      <td>{'amount': 13.23}</td>\n",
       "      <td>13.23</td>\n",
       "    </tr>\n",
       "    <tr>\n",
       "      <th>3</th>\n",
       "      <td>transaction</td>\n",
       "      <td>b2f1cd155b864803ad8334cdf13c4bd2</td>\n",
       "      <td>0.0</td>\n",
       "      <td>{'amount': 19.51}</td>\n",
       "      <td>19.51</td>\n",
       "    </tr>\n",
       "    <tr>\n",
       "      <th>4</th>\n",
       "      <td>transaction</td>\n",
       "      <td>fe97aa22dd3e48c8b143116a8403dd52</td>\n",
       "      <td>0.0</td>\n",
       "      <td>{'amount': 18.97}</td>\n",
       "      <td>18.97</td>\n",
       "    </tr>\n",
       "  </tbody>\n",
       "</table>\n",
       "</div>"
      ],
      "text/plain": [
       "         event                       customer_id  days  \\\n",
       "0  transaction  02c083884c7d45b39cc68e1314fec56c   0.0   \n",
       "1  transaction  9fa9ae8f57894cc9a3b8a9bbe0fc1b2f   0.0   \n",
       "2  transaction  54890f68699049c2a04d415abc25e717   0.0   \n",
       "3  transaction  b2f1cd155b864803ad8334cdf13c4bd2   0.0   \n",
       "4  transaction  fe97aa22dd3e48c8b143116a8403dd52   0.0   \n",
       "\n",
       "                            value  amount  \n",
       "0  {'amount': 0.8300000000000001}    0.83  \n",
       "1               {'amount': 34.56}   34.56  \n",
       "2               {'amount': 13.23}   13.23  \n",
       "3               {'amount': 19.51}   19.51  \n",
       "4               {'amount': 18.97}   18.97  "
      ]
     },
     "execution_count": 76,
     "metadata": {},
     "output_type": "execute_result"
    }
   ],
   "source": [
    "# Transform customer transaction event values\n",
    "transactions['amount'] = transactions['value'].apply(lambda elem: list(elem.values())[0])\n",
    "transactions.head()"
   ]
  },
  {
   "cell_type": "code",
   "execution_count": 77,
   "metadata": {},
   "outputs": [
    {
     "data": {
      "text/html": [
       "<div>\n",
       "<style scoped>\n",
       "    .dataframe tbody tr th:only-of-type {\n",
       "        vertical-align: middle;\n",
       "    }\n",
       "\n",
       "    .dataframe tbody tr th {\n",
       "        vertical-align: top;\n",
       "    }\n",
       "\n",
       "    .dataframe thead th {\n",
       "        text-align: right;\n",
       "    }\n",
       "</style>\n",
       "<table border=\"1\" class=\"dataframe\">\n",
       "  <thead>\n",
       "    <tr style=\"text-align: right;\">\n",
       "      <th></th>\n",
       "      <th>customer_id</th>\n",
       "      <th>days</th>\n",
       "      <th>amount</th>\n",
       "    </tr>\n",
       "  </thead>\n",
       "  <tbody>\n",
       "    <tr>\n",
       "      <th>0</th>\n",
       "      <td>02c083884c7d45b39cc68e1314fec56c</td>\n",
       "      <td>0.0</td>\n",
       "      <td>0.83</td>\n",
       "    </tr>\n",
       "    <tr>\n",
       "      <th>1</th>\n",
       "      <td>9fa9ae8f57894cc9a3b8a9bbe0fc1b2f</td>\n",
       "      <td>0.0</td>\n",
       "      <td>34.56</td>\n",
       "    </tr>\n",
       "    <tr>\n",
       "      <th>2</th>\n",
       "      <td>54890f68699049c2a04d415abc25e717</td>\n",
       "      <td>0.0</td>\n",
       "      <td>13.23</td>\n",
       "    </tr>\n",
       "    <tr>\n",
       "      <th>3</th>\n",
       "      <td>b2f1cd155b864803ad8334cdf13c4bd2</td>\n",
       "      <td>0.0</td>\n",
       "      <td>19.51</td>\n",
       "    </tr>\n",
       "    <tr>\n",
       "      <th>4</th>\n",
       "      <td>fe97aa22dd3e48c8b143116a8403dd52</td>\n",
       "      <td>0.0</td>\n",
       "      <td>18.97</td>\n",
       "    </tr>\n",
       "  </tbody>\n",
       "</table>\n",
       "</div>"
      ],
      "text/plain": [
       "                        customer_id  days  amount\n",
       "0  02c083884c7d45b39cc68e1314fec56c   0.0    0.83\n",
       "1  9fa9ae8f57894cc9a3b8a9bbe0fc1b2f   0.0   34.56\n",
       "2  54890f68699049c2a04d415abc25e717   0.0   13.23\n",
       "3  b2f1cd155b864803ad8334cdf13c4bd2   0.0   19.51\n",
       "4  fe97aa22dd3e48c8b143116a8403dd52   0.0   18.97"
      ]
     },
     "execution_count": 77,
     "metadata": {},
     "output_type": "execute_result"
    }
   ],
   "source": [
    "# Create a DataFrame that describes customer transactions\n",
    "transactions = transactions.drop(columns=['event', 'value'])\n",
    "cols = ['customer_id', 'days', 'amount']\n",
    "transactions = transactions[cols]\n",
    "transactions.head()"
   ]
  },
  {
   "cell_type": "markdown",
   "metadata": {},
   "source": [
    "**Before we head further lets take a look at the data frames we have**.\n",
    "\n",
    "  - **profile** : DataFrame that contains demographic data for each customer\n",
    "  - **offer_data** : Contains offer ids and meta data (duration, difficulty, type)\n",
    "  - **transactions** : DataFrame that describes customer transactions\n",
    "  - **portfolio** : DataFrame that describes customer offer data"
   ]
  },
  {
   "cell_type": "markdown",
   "metadata": {},
   "source": [
    "**For each customer, we will do the following:**\n",
    "\n",
    "  - Select a customer profile\n",
    "  - Select offer data for the specific customer\n",
    "  - Select transactions for the specific customer\n",
    "  - Identify when a customer receives, views, and completes an offer\n",
    "  - Iterate through each offer that the selected customer receives\n",
    "      - Get the time period (start date, end date) for the offer\n",
    "      - select customer transactions that fall within the valid offer time window\n",
    "      - Identify when a customer completes an offer\n",
    "      - Identify when a customer views an offer\n",
    "      - Determine whether the current offer was successful. For an offer to be successful a customer has to view and complete it\n",
    "      - Select customer transactions that occurred within the current offer valid time period\n",
    "      \n",
    "Once all customer transactions have been evaluated, create a new pandas DataFrame."
   ]
  },
  {
   "cell_type": "code",
   "execution_count": 104,
   "metadata": {},
   "outputs": [],
   "source": [
    "def combine_records(customer_id, portfolio, profile, offer_data, transactions):\n",
    "    \"\"\" \n",
    "    Creates a list of dictionaries that describes the effectiveness of\n",
    "    offers to a specific customer\n",
    "    INPUT:\n",
    "        customer_id: Customer Id\n",
    "        portfolio: DataFrame containing offer ids and meta data about each offer (duration, type, etc.)\n",
    "        offer_data: DataFrame that describes customer offer data\n",
    "        transactions: DataFrame that describes customer transactions\n",
    "    \n",
    "    OUTPUT:\n",
    "        rows: customer information, offer infomration and whether the offer was successful\n",
    "    \"\"\"\n",
    "    \n",
    "    # Select a customer's profile from the profile data frame\n",
    "    customer = profile[profile['customer_id'] == customer_id]\n",
    "\n",
    "    # Select offer data for a specific customer\n",
    "    valid_offer_data = offer_data['customer_id'] == customer_id\n",
    "    customer_offers = offer_data[valid_offer_data]\n",
    "    customer_offers = customer_offers.drop(columns='customer_id')\n",
    "    customer_offers = customer_offers.reset_index(drop=True)\n",
    "\n",
    "    # Select transactions for a specific customer\n",
    "    valid_transaction = transactions['customer_id'] == customer_id\n",
    "    customer_transactions = transactions[valid_transaction]\n",
    "    customer_transactions = customer_transactions.drop(columns='customer_id')\n",
    "    customer_transactions = customer_transactions.reset_index(drop=True)    \n",
    "\n",
    "    # select received offer data\n",
    "    # drop event type columns\n",
    "    received = customer_offers[customer_offers['received'] == 1]\n",
    "    received = received.drop(columns=['completed','received','viewed'])\n",
    "    received = received.reset_index(drop=True)\n",
    "\n",
    "    # select viewed offer data\n",
    "    # drop event type columns\n",
    "    viewed = customer_offers[customer_offers['viewed'] == 1]\n",
    "    viewed = viewed.drop(columns=['completed','received','viewed'])\n",
    "    viewed = viewed.reset_index(drop=True)\n",
    "\n",
    "    # select completed offer data\n",
    "    # drop event type columns\n",
    "    completed = customer_offers[customer_offers['completed'] == 1]\n",
    "    completed = completed.drop(columns=['completed','received','viewed'])\n",
    "    completed = completed.reset_index(drop=True)    \n",
    "    \n",
    "    #Process each offer data\n",
    "    rows = []\n",
    "    for idx in range(received.shape[0]):\n",
    "\n",
    "        # Initialize the current offer id\n",
    "        cur_offer_id = received.iloc[idx]['offer_id']\n",
    "\n",
    "        # Get the current offer row and the days\n",
    "        cur_offer = portfolio.loc[portfolio['offer_id'] == cur_offer_id]\n",
    "        durationdays = cur_offer['duration'].values[0]\n",
    "\n",
    "        # Get the time period when an offer is valid, (start time and end time)\n",
    "        cur_offer_startime = received.iloc[idx]['days']\n",
    "        cur_offer_endtime = received.iloc[idx]['days'] + durationdays\n",
    "\n",
    "        # Initialize an array to hold customer transcations that fall within the valid offer time period\n",
    "        # https://docs.scipy.org/doc/numpy/reference/generated/numpy.logical_and.html\n",
    "        valid_transaction = np.logical_and(customer_transactions['days'] >= \\\n",
    "                           cur_offer_startime,\n",
    "                           customer_transactions['days'] <=\n",
    "                           cur_offer_endtime)\n",
    "\n",
    "        # Initialize a array with information about when a customer completes an offer\n",
    "        select_offer_completed = np.logical_and(completed['days'] >= cur_offer_startime, \\\n",
    "                           completed['days'] <= cur_offer_endtime)\n",
    "\n",
    "        # Initialize a array with information about when a customer views an offer\n",
    "        select_offer_viewed = np.logical_and(viewed['days'] >= cur_offer_startime, \\\n",
    "                           viewed['days'] <= cur_offer_endtime)\n",
    "\n",
    "        # Determine whether the current offer was successful\n",
    "        cur_offer_successful = select_offer_completed.sum() > 0 and select_offer_viewed.sum() > 0\n",
    "\n",
    "        # Select customer transcations that occurred within the current offer's valid time period\n",
    "        cur_offer_transactions = customer_transactions[valid_transaction]\n",
    "\n",
    "        # Initialize a dictionary with the current customer offer\n",
    "        cur_row = {'offer_id': cur_offer_id,\n",
    "                   'customer_id': customer_id,\n",
    "                   'time': cur_offer_startime,\n",
    "                   'offer_successful': int(cur_offer_successful),\n",
    "                   'total_amount': cur_offer_transactions['amount'].sum()}\n",
    "        \n",
    "        cur_row.update(cur_offer.iloc[0,0:].to_dict())\n",
    "        cur_row.update(customer.iloc[0,0:].to_dict())\n",
    "        rows.append(cur_row)\n",
    "        \n",
    "    return rows    "
   ]
  },
  {
   "cell_type": "code",
   "execution_count": 79,
   "metadata": {},
   "outputs": [],
   "source": [
    "clean_data = []\n",
    "customerid_list = offer_data['customer_id'].unique()\n",
    "#customerid_list"
   ]
  },
  {
   "cell_type": "code",
   "execution_count": 105,
   "metadata": {},
   "outputs": [
    {
     "data": {
      "text/html": [
       "<div>\n",
       "<style scoped>\n",
       "    .dataframe tbody tr th:only-of-type {\n",
       "        vertical-align: middle;\n",
       "    }\n",
       "\n",
       "    .dataframe tbody tr th {\n",
       "        vertical-align: top;\n",
       "    }\n",
       "\n",
       "    .dataframe thead th {\n",
       "        text-align: right;\n",
       "    }\n",
       "</style>\n",
       "<table border=\"1\" class=\"dataframe\">\n",
       "  <thead>\n",
       "    <tr style=\"text-align: right;\">\n",
       "      <th></th>\n",
       "      <th>age</th>\n",
       "      <th>offer_id</th>\n",
       "      <th>customer_id</th>\n",
       "      <th>total_amount</th>\n",
       "      <th>agerange</th>\n",
       "      <th>gender</th>\n",
       "      <th>offer_successful</th>\n",
       "      <th>duration</th>\n",
       "      <th>time</th>\n",
       "      <th>offer_type</th>\n",
       "      <th>income</th>\n",
       "    </tr>\n",
       "  </thead>\n",
       "  <tbody>\n",
       "    <tr>\n",
       "      <th>0</th>\n",
       "      <td>64</td>\n",
       "      <td>ae264e3637204a6fb9bb56bc8210ddfd</td>\n",
       "      <td>4b0da7e80e5945209a1fdddfe813dbe0</td>\n",
       "      <td>0.00</td>\n",
       "      <td>60 - 70</td>\n",
       "      <td>M</td>\n",
       "      <td>0</td>\n",
       "      <td>7</td>\n",
       "      <td>0.0</td>\n",
       "      <td>bogo</td>\n",
       "      <td>100000.0</td>\n",
       "    </tr>\n",
       "    <tr>\n",
       "      <th>1</th>\n",
       "      <td>64</td>\n",
       "      <td>0b1e1539f2cc45b7b9fa7c272da2e1d7</td>\n",
       "      <td>4b0da7e80e5945209a1fdddfe813dbe0</td>\n",
       "      <td>109.28</td>\n",
       "      <td>60 - 70</td>\n",
       "      <td>M</td>\n",
       "      <td>1</td>\n",
       "      <td>10</td>\n",
       "      <td>7.0</td>\n",
       "      <td>discount</td>\n",
       "      <td>100000.0</td>\n",
       "    </tr>\n",
       "    <tr>\n",
       "      <th>2</th>\n",
       "      <td>64</td>\n",
       "      <td>0b1e1539f2cc45b7b9fa7c272da2e1d7</td>\n",
       "      <td>4b0da7e80e5945209a1fdddfe813dbe0</td>\n",
       "      <td>61.05</td>\n",
       "      <td>60 - 70</td>\n",
       "      <td>M</td>\n",
       "      <td>1</td>\n",
       "      <td>10</td>\n",
       "      <td>14.0</td>\n",
       "      <td>discount</td>\n",
       "      <td>100000.0</td>\n",
       "    </tr>\n",
       "    <tr>\n",
       "      <th>3</th>\n",
       "      <td>64</td>\n",
       "      <td>3f207df678b143eea3cee63160fa8bed</td>\n",
       "      <td>4b0da7e80e5945209a1fdddfe813dbe0</td>\n",
       "      <td>30.00</td>\n",
       "      <td>60 - 70</td>\n",
       "      <td>M</td>\n",
       "      <td>1</td>\n",
       "      <td>4</td>\n",
       "      <td>17.0</td>\n",
       "      <td>informational</td>\n",
       "      <td>100000.0</td>\n",
       "    </tr>\n",
       "    <tr>\n",
       "      <th>4</th>\n",
       "      <td>64</td>\n",
       "      <td>ae264e3637204a6fb9bb56bc8210ddfd</td>\n",
       "      <td>4b0da7e80e5945209a1fdddfe813dbe0</td>\n",
       "      <td>31.05</td>\n",
       "      <td>60 - 70</td>\n",
       "      <td>M</td>\n",
       "      <td>1</td>\n",
       "      <td>7</td>\n",
       "      <td>21.0</td>\n",
       "      <td>bogo</td>\n",
       "      <td>100000.0</td>\n",
       "    </tr>\n",
       "  </tbody>\n",
       "</table>\n",
       "</div>"
      ],
      "text/plain": [
       "   age                          offer_id                       customer_id  \\\n",
       "0   64  ae264e3637204a6fb9bb56bc8210ddfd  4b0da7e80e5945209a1fdddfe813dbe0   \n",
       "1   64  0b1e1539f2cc45b7b9fa7c272da2e1d7  4b0da7e80e5945209a1fdddfe813dbe0   \n",
       "2   64  0b1e1539f2cc45b7b9fa7c272da2e1d7  4b0da7e80e5945209a1fdddfe813dbe0   \n",
       "3   64  3f207df678b143eea3cee63160fa8bed  4b0da7e80e5945209a1fdddfe813dbe0   \n",
       "4   64  ae264e3637204a6fb9bb56bc8210ddfd  4b0da7e80e5945209a1fdddfe813dbe0   \n",
       "\n",
       "   total_amount agerange gender  offer_successful  duration  time  \\\n",
       "0          0.00  60 - 70      M                 0         7   0.0   \n",
       "1        109.28  60 - 70      M                 1        10   7.0   \n",
       "2         61.05  60 - 70      M                 1        10  14.0   \n",
       "3         30.00  60 - 70      M                 1         4  17.0   \n",
       "4         31.05  60 - 70      M                 1         7  21.0   \n",
       "\n",
       "      offer_type    income  \n",
       "0           bogo  100000.0  \n",
       "1       discount  100000.0  \n",
       "2       discount  100000.0  \n",
       "3  informational  100000.0  \n",
       "4           bogo  100000.0  "
      ]
     },
     "execution_count": 105,
     "metadata": {},
     "output_type": "execute_result"
    }
   ],
   "source": [
    "# lets look at one record to see how it comes out\n",
    "data = combine_records(customerid_list[6],portfolio,profile,offers_data,transactions)\n",
    "clean_df = pd.DataFrame(data)\n",
    "clean_df[['age','offer_id','customer_id','total_amount','agerange','gender','offer_successful','duration','time','offer_type','income']]"
   ]
  },
  {
   "cell_type": "code",
   "execution_count": 106,
   "metadata": {},
   "outputs": [
    {
     "data": {
      "text/html": [
       "<div>\n",
       "<style scoped>\n",
       "    .dataframe tbody tr th:only-of-type {\n",
       "        vertical-align: middle;\n",
       "    }\n",
       "\n",
       "    .dataframe tbody tr th {\n",
       "        vertical-align: top;\n",
       "    }\n",
       "\n",
       "    .dataframe thead th {\n",
       "        text-align: right;\n",
       "    }\n",
       "</style>\n",
       "<table border=\"1\" class=\"dataframe\">\n",
       "  <thead>\n",
       "    <tr style=\"text-align: right;\">\n",
       "      <th></th>\n",
       "      <th>10 - 20</th>\n",
       "      <th>100 - 110</th>\n",
       "      <th>20 - 30</th>\n",
       "      <th>30 - 40</th>\n",
       "      <th>40 - 50</th>\n",
       "      <th>50 - 60</th>\n",
       "      <th>60 - 70</th>\n",
       "      <th>70 - 80</th>\n",
       "      <th>80 - 90</th>\n",
       "      <th>90 - 100</th>\n",
       "      <th>...</th>\n",
       "      <th>social</th>\n",
       "      <th>time</th>\n",
       "      <th>total_amount</th>\n",
       "      <th>web</th>\n",
       "      <th>2013</th>\n",
       "      <th>2014</th>\n",
       "      <th>2015</th>\n",
       "      <th>2016</th>\n",
       "      <th>2017</th>\n",
       "      <th>2018</th>\n",
       "    </tr>\n",
       "  </thead>\n",
       "  <tbody>\n",
       "    <tr>\n",
       "      <th>0</th>\n",
       "      <td>0</td>\n",
       "      <td>0</td>\n",
       "      <td>0</td>\n",
       "      <td>0</td>\n",
       "      <td>0</td>\n",
       "      <td>0</td>\n",
       "      <td>0</td>\n",
       "      <td>1</td>\n",
       "      <td>0</td>\n",
       "      <td>0</td>\n",
       "      <td>...</td>\n",
       "      <td>0</td>\n",
       "      <td>0.0</td>\n",
       "      <td>37.67</td>\n",
       "      <td>1</td>\n",
       "      <td>0</td>\n",
       "      <td>0</td>\n",
       "      <td>0</td>\n",
       "      <td>0</td>\n",
       "      <td>1</td>\n",
       "      <td>0</td>\n",
       "    </tr>\n",
       "    <tr>\n",
       "      <th>11262</th>\n",
       "      <td>0</td>\n",
       "      <td>0</td>\n",
       "      <td>0</td>\n",
       "      <td>0</td>\n",
       "      <td>0</td>\n",
       "      <td>1</td>\n",
       "      <td>0</td>\n",
       "      <td>0</td>\n",
       "      <td>0</td>\n",
       "      <td>0</td>\n",
       "      <td>...</td>\n",
       "      <td>1</td>\n",
       "      <td>0.0</td>\n",
       "      <td>48.31</td>\n",
       "      <td>1</td>\n",
       "      <td>0</td>\n",
       "      <td>0</td>\n",
       "      <td>1</td>\n",
       "      <td>0</td>\n",
       "      <td>0</td>\n",
       "      <td>0</td>\n",
       "    </tr>\n",
       "    <tr>\n",
       "      <th>35019</th>\n",
       "      <td>0</td>\n",
       "      <td>0</td>\n",
       "      <td>0</td>\n",
       "      <td>0</td>\n",
       "      <td>1</td>\n",
       "      <td>0</td>\n",
       "      <td>0</td>\n",
       "      <td>0</td>\n",
       "      <td>0</td>\n",
       "      <td>0</td>\n",
       "      <td>...</td>\n",
       "      <td>1</td>\n",
       "      <td>0.0</td>\n",
       "      <td>23.43</td>\n",
       "      <td>0</td>\n",
       "      <td>0</td>\n",
       "      <td>0</td>\n",
       "      <td>0</td>\n",
       "      <td>0</td>\n",
       "      <td>1</td>\n",
       "      <td>0</td>\n",
       "    </tr>\n",
       "    <tr>\n",
       "      <th>35016</th>\n",
       "      <td>0</td>\n",
       "      <td>0</td>\n",
       "      <td>0</td>\n",
       "      <td>0</td>\n",
       "      <td>0</td>\n",
       "      <td>0</td>\n",
       "      <td>0</td>\n",
       "      <td>1</td>\n",
       "      <td>0</td>\n",
       "      <td>0</td>\n",
       "      <td>...</td>\n",
       "      <td>0</td>\n",
       "      <td>0.0</td>\n",
       "      <td>52.24</td>\n",
       "      <td>1</td>\n",
       "      <td>0</td>\n",
       "      <td>0</td>\n",
       "      <td>0</td>\n",
       "      <td>1</td>\n",
       "      <td>0</td>\n",
       "      <td>0</td>\n",
       "    </tr>\n",
       "    <tr>\n",
       "      <th>11266</th>\n",
       "      <td>0</td>\n",
       "      <td>0</td>\n",
       "      <td>0</td>\n",
       "      <td>1</td>\n",
       "      <td>0</td>\n",
       "      <td>0</td>\n",
       "      <td>0</td>\n",
       "      <td>0</td>\n",
       "      <td>0</td>\n",
       "      <td>0</td>\n",
       "      <td>...</td>\n",
       "      <td>1</td>\n",
       "      <td>0.0</td>\n",
       "      <td>5.12</td>\n",
       "      <td>1</td>\n",
       "      <td>0</td>\n",
       "      <td>0</td>\n",
       "      <td>0</td>\n",
       "      <td>0</td>\n",
       "      <td>0</td>\n",
       "      <td>1</td>\n",
       "    </tr>\n",
       "  </tbody>\n",
       "</table>\n",
       "<p>5 rows × 40 columns</p>\n",
       "</div>"
      ],
      "text/plain": [
       "       10 - 20  100 - 110  20 - 30  30 - 40  40 - 50  50 - 60  60 - 70  \\\n",
       "0            0          0        0        0        0        0        0   \n",
       "11262        0          0        0        0        0        1        0   \n",
       "35019        0          0        0        0        1        0        0   \n",
       "35016        0          0        0        0        0        0        0   \n",
       "11266        0          0        0        1        0        0        0   \n",
       "\n",
       "       70 - 80  80 - 90  90 - 100  ...   social time total_amount  web 2013  \\\n",
       "0            1        0         0  ...        0  0.0        37.67    1    0   \n",
       "11262        0        0         0  ...        1  0.0        48.31    1    0   \n",
       "35019        0        0         0  ...        1  0.0        23.43    0    0   \n",
       "35016        1        0         0  ...        0  0.0        52.24    1    0   \n",
       "11266        0        0         0  ...        1  0.0         5.12    1    0   \n",
       "\n",
       "      2014  2015  2016  2017  2018  \n",
       "0        0     0     0     1     0  \n",
       "11262    0     1     0     0     0  \n",
       "35019    0     0     0     1     0  \n",
       "35016    0     0     1     0     0  \n",
       "11266    0     0     0     0     1  \n",
       "\n",
       "[5 rows x 40 columns]"
      ]
     },
     "execution_count": 106,
     "metadata": {},
     "output_type": "execute_result"
    }
   ],
   "source": [
    "clean_data = []\n",
    "customerid_list = offer_data['customer_id'].unique()\n",
    "\n",
    "for idx in range(len(customerid_list)):\n",
    "    clean_data.extend(combine_records(customerid_list[idx],portfolio,profile,offers_data,transactions))\n",
    "    \n",
    "clean_data = pd.DataFrame(clean_data)\n",
    "\n",
    "clean_data = clean_data.sort_values('time')\n",
    "clean_data.reset_index(drop=True)\n",
    "\n",
    "clean_data.head()"
   ]
  },
  {
   "cell_type": "code",
   "execution_count": 107,
   "metadata": {},
   "outputs": [],
   "source": [
    "clean_data.to_csv('cleaned_data.csv',index=False)"
   ]
  },
  {
   "cell_type": "markdown",
   "metadata": {},
   "source": [
    "**Now that we have the combined data frame, lets do some more EDA**"
   ]
  },
  {
   "cell_type": "code",
   "execution_count": 2,
   "metadata": {
    "scrolled": true
   },
   "outputs": [
    {
     "data": {
      "text/plain": [
       "Index(['10 - 20', '100 - 110', '20 - 30', '30 - 40', '40 - 50', '50 - 60',\n",
       "       '60 - 70', '70 - 80', '80 - 90', '90 - 100', 'age', 'agerange',\n",
       "       'became_member_on', 'bogo', 'channels', 'customer_id', 'difficulty',\n",
       "       'discount', 'duration', 'email', 'gender', 'gender_value', 'income',\n",
       "       'informational', 'membershipstart', 'mobile', 'offer_id',\n",
       "       'offer_successful', 'offer_type', 'reward', 'social', 'time',\n",
       "       'total_amount', 'web', '2013', '2014', '2015', '2016', '2017', '2018'],\n",
       "      dtype='object')"
      ]
     },
     "execution_count": 2,
     "metadata": {},
     "output_type": "execute_result"
    }
   ],
   "source": [
    "df = pd.read_csv('cleaned_data.csv')\n",
    "df.columns"
   ]
  },
  {
   "cell_type": "code",
   "execution_count": 4,
   "metadata": {},
   "outputs": [],
   "source": [
    "df1 = df.copy().drop(columns=['agerange','became_member_on', 'bogo', 'channels', 'customer_id','gender','membershipstart',\n",
    "                             'offer_id','offer_successful', 'offer_type','time','total_amount'])"
   ]
  },
  {
   "cell_type": "code",
   "execution_count": 7,
   "metadata": {},
   "outputs": [
    {
     "data": {
      "image/png": "[encoded data removed]",
      "text/plain": [
       "<matplotlib.figure.Figure at 0x7f39a8a530f0>"
      ]
     },
     "metadata": {
      "needs_background": "light"
     },
     "output_type": "display_data"
    }
   ],
   "source": [
    "# lets plot the correlation of different numerical features to the targe (offer_successful)\n",
    "df1.corrwith(df.offer_successful).plot.bar(figsize=(20,10),\n",
    "                        title='Correlation with Response Variable',\n",
    "                        fontsize=15, rot=45, grid=True);"
   ]
  },
  {
   "cell_type": "markdown",
   "metadata": {},
   "source": [
    "#### From the above chart we find that:\n",
    "  - difficulty, duration, discount, reard, income has positive corelation to the target\n",
    "  \n",
    "lets also plot histogram for some of the feature columns. \n",
    "I am gonna include difficulty, duration, discount, reard, income, age, gender_value for analysis"
   ]
  },
  {
   "cell_type": "code",
   "execution_count": 5,
   "metadata": {},
   "outputs": [],
   "source": [
    "# create a new data frame to plot the histograms\n",
    "df2 = df1.copy().drop(columns=['10 - 20', '100 - 110', '20 - 30', '30 - 40', '40 - 50', '50 - 60',\n",
    "       '60 - 70', '70 - 80', '80 - 90', '90 - 100','2013','2014','2015','2016','2017','2018','web',\n",
    "                               'social','mobile','email','informational'])\n"
   ]
  },
  {
   "cell_type": "code",
   "execution_count": 14,
   "metadata": {
    "scrolled": false
   },
   "outputs": [
    {
     "data": {
      "image/png": "[encoded data removed]",
      "text/plain": [
       "<matplotlib.figure.Figure at 0x7f39a5c6f7b8>"
      ]
     },
     "metadata": {},
     "output_type": "display_data"
    }
   ],
   "source": [
    "# lets also plot histogram for some of the feature columns.\n",
    "fig=plt.figure(figsize=(10, 30), facecolor='w', edgecolor='k')\n",
    "fig.suptitle(\"Histogram of Numerical Columns\", fontsize=20)\n",
    "for i in range(1, df2.shape[1] + 1):\n",
    "    plt.subplot(5, 2, i)\n",
    "    f = plt.gca()\n",
    "    f.set_title(df2.columns.values[i - 1])\n",
    "    \n",
    "    # get the binsize\n",
    "    vals = np.size(df2.iloc[:,i - 1].unique())\n",
    "    plt.hist(df2.iloc[:, i -1 ], bins=vals, color='#3F5D7D')"
   ]
  },
  {
   "cell_type": "markdown",
   "metadata": {},
   "source": [
    "**Some of the inferences from the histogram**\n",
    "  - seems to be more male customers compared to female customers\n",
    "  - rewards between 2 - 7 seems to be more popular\n",
    "  - offers with duration of 7 days seems to be more\n",
    "  - offers with diffficulty 5 - 10 seems to be more\n",
    "  - there is a spike in age around 60, otherwise it is evenly distributed\n",
    "  \n",
    "**Now lets look at successful offers (where offer_successful = 1)**"
   ]
  },
  {
   "cell_type": "code",
   "execution_count": 6,
   "metadata": {},
   "outputs": [
    {
     "data": {
      "text/plain": [
       "(30856, 40)"
      ]
     },
     "execution_count": 6,
     "metadata": {},
     "output_type": "execute_result"
    }
   ],
   "source": [
    "# create a new data frame with successful records\n",
    "df_success = df[ df.offer_successful == 1 ]\n",
    "df_success.shape"
   ]
  },
  {
   "cell_type": "code",
   "execution_count": 16,
   "metadata": {},
   "outputs": [
    {
     "data": {
      "text/plain": [
       "gender\n",
       "F    41.92908\n",
       "M    58.07092\n",
       "Name: customer_id, dtype: float64"
      ]
     },
     "execution_count": 16,
     "metadata": {},
     "output_type": "execute_result"
    }
   ],
   "source": [
    "# get the count of unique customers to compare the male vs female ratio\n",
    "custs_df = df [['customer_id','gender']]\n",
    "unique_custs = custs_df.drop_duplicates()\n",
    "unique_custs.groupby('gender')['customer_id'].count()/unique_custs.shape[0]*100"
   ]
  },
  {
   "cell_type": "code",
   "execution_count": 17,
   "metadata": {},
   "outputs": [
    {
     "data": {
      "image/png": "[encoded data removed]",
      "text/plain": [
       "<matplotlib.figure.Figure at 0x7f39a5e6c1d0>"
      ]
     },
     "metadata": {
      "needs_background": "light"
     },
     "output_type": "display_data"
    }
   ],
   "source": [
    "# lets plot the total amount spend by each gender\n",
    "df_success.groupby(['gender'],as_index=False)['total_amount'].sum().plot(x=\"gender\", y=[\"total_amount\"], \n",
    "                    kind=\"bar\", figsize=(8,6), \n",
    "                    title=\"Total Amount spend vs Gender\");"
   ]
  },
  {
   "cell_type": "markdown",
   "metadata": {},
   "source": [
    "**Nice observation :**\n",
    "  - 42% female customers\n",
    "  - 58% male customers\n",
    "  - The total amount spend by female customers are more than male customers\n",
    "\n",
    "Does that women they drink more coffee / tea? Not necessarily. Because starbucks has other offerings as well.\n",
    "So they could be spending more money on those. ***However it seems on average women spend more money at Starbucks.***"
   ]
  },
  {
   "cell_type": "code",
   "execution_count": 18,
   "metadata": {},
   "outputs": [
    {
     "data": {
      "image/png": "[encoded data removed]",
      "text/plain": [
       "<matplotlib.figure.Figure at 0x7f39a5ee36d8>"
      ]
     },
     "metadata": {
      "needs_background": "light"
     },
     "output_type": "display_data"
    }
   ],
   "source": [
    "# Lets look at the various age group for the female customers and how much they spend\n",
    "femme_df = df_success[ df_success.gender == 'F']\n",
    "femme_total_df = femme_df.groupby(['agerange'],as_index=False)['total_amount'].sum()\n",
    "femme_total_df.plot(x=\"agerange\", y=[\"total_amount\"], \n",
    "                    kind=\"bar\", figsize=(8,6), \n",
    "                    title=\"Total Amount Spend vs Age Range of Female Customers\", \n",
    "                    grid=True);"
   ]
  },
  {
   "cell_type": "code",
   "execution_count": 19,
   "metadata": {},
   "outputs": [
    {
     "data": {
      "image/png": "[encoded data removed]",
      "text/plain": [
       "<matplotlib.figure.Figure at 0x7f39a84e8e10>"
      ]
     },
     "metadata": {
      "needs_background": "light"
     },
     "output_type": "display_data"
    }
   ],
   "source": [
    "# Lets look at the various age group for the male customers and how much they spend\n",
    "homme_df = df_success[ df_success.gender == 'M']\n",
    "homme_total_df = homme_df.groupby(['agerange'],as_index=False)['total_amount'].sum()\n",
    "homme_total_df.plot(x=\"agerange\", y=[\"total_amount\"], \n",
    "                    kind=\"bar\", figsize=(8,6), \n",
    "                    title=\"Total Amount Spend vs Age Range of Male Customers\", \n",
    "                    grid=True);"
   ]
  },
  {
   "cell_type": "markdown",
   "metadata": {},
   "source": [
    "**Seems folks belonging to 50 - 60 age range in both groups (female , male) spend more money. 40 - 50 and 60 - 70 age groups also spend more money compared to other age groups**\n",
    "\n",
    "***If you are wondering what femme and homme is, those are french equivalent words for woman and man.***"
   ]
  },
  {
   "cell_type": "markdown",
   "metadata": {},
   "source": [
    "#### Duration, Discount and Reward\n",
    "Lets look the duration, discount and reward and how many offers were completed for each\n"
   ]
  },
  {
   "cell_type": "code",
   "execution_count": 20,
   "metadata": {},
   "outputs": [
    {
     "data": {
      "image/png": "[encoded data removed]",
      "text/plain": [
       "<matplotlib.figure.Figure at 0x7f39a5c976a0>"
      ]
     },
     "metadata": {
      "needs_background": "light"
     },
     "output_type": "display_data"
    }
   ],
   "source": [
    "# group by duration and plot\n",
    "df_success.groupby('duration')['time'].count().plot(x='duration',y='count',\n",
    "                                                    kind=\"bar\",title=\"Successful Offers Completed vs Duration\");"
   ]
  },
  {
   "cell_type": "code",
   "execution_count": 21,
   "metadata": {},
   "outputs": [
    {
     "data": {
      "image/png": "[encoded data removed]",
      "text/plain": [
       "<matplotlib.figure.Figure at 0x7f39a8a23908>"
      ]
     },
     "metadata": {
      "needs_background": "light"
     },
     "output_type": "display_data"
    }
   ],
   "source": [
    "# group by difficulty and plot\n",
    "df_success.groupby('difficulty')['time'].count().plot(x='difficulty',y='count',\n",
    "                                                    kind=\"bar\",title=\"Successful Offers Completed vs Duration\");"
   ]
  },
  {
   "cell_type": "code",
   "execution_count": 22,
   "metadata": {},
   "outputs": [
    {
     "data": {
      "image/png": "[encoded data removed]",
      "text/plain": [
       "<matplotlib.figure.Figure at 0x7f39a84fa390>"
      ]
     },
     "metadata": {
      "needs_background": "light"
     },
     "output_type": "display_data"
    }
   ],
   "source": [
    "# group by reward and plot\n",
    "df_success.groupby('reward')['time'].count().plot(x='reward',y='count',\n",
    "                                                    kind=\"bar\",title=\"Successful Offers Completed vs Duration\");"
   ]
  },
  {
   "cell_type": "markdown",
   "metadata": {},
   "source": [
    "**Duration and Successful Offers :**\n",
    "  - Offers with duration of 5, 7 and 10 has more successful offers\n",
    "  - the highest being offers with duration of 7 days\n",
    "\n",
    "**Difficulty and Successful Offers :**\n",
    "  - Offers with duration of 5, 7 and 10 has more successful offers\n",
    "  - the highest being offers with difficulty of 10 days\n",
    "  - this could be becuase more the difficulty more the duration and more the reward\n",
    "\n",
    "**Reward and Successful Offers :**\n",
    "  - Offers with reward of 2, 5 and 10 has more successful offers\n",
    "  - the highest being offers with a reward of 5\n"
   ]
  },
  {
   "cell_type": "markdown",
   "metadata": {},
   "source": [
    "### Train, Test and Evaluate Model\n",
    "We need to \n",
    "  - drop the below columns\n",
    "    - customer_id, offer_id, became_member_on, gender, age, agerange, channels, offert_type, time\n",
    "    membershipstart, total_amount\n",
    "  - perform a min max feature scaling on the below columns:\n",
    "    - difficulty, duration, reward, income\n",
    "  - create train and test data set\n",
    "  - train the model\n",
    "  - evauluate the results\n",
    "  - use grid search to find the best parameters\n",
    "  - improve the model"
   ]
  },
  {
   "cell_type": "code",
   "execution_count": 3,
   "metadata": {},
   "outputs": [
    {
     "data": {
      "text/plain": [
       "Index(['10 - 20', '100 - 110', '20 - 30', '30 - 40', '40 - 50', '50 - 60',\n",
       "       '60 - 70', '70 - 80', '80 - 90', '90 - 100', 'bogo', 'difficulty',\n",
       "       'discount', 'duration', 'email', 'gender_value', 'income',\n",
       "       'informational', 'mobile', 'offer_successful', 'reward', 'social',\n",
       "       'web', '2013', '2014', '2015', '2016', '2017', '2018'],\n",
       "      dtype='object')"
      ]
     },
     "execution_count": 3,
     "metadata": {},
     "output_type": "execute_result"
    }
   ],
   "source": [
    "dataset = df.copy().drop( columns = ['customer_id','offer_id','became_member_on','gender',\\\n",
    "                                     'channels','age','agerange','offer_type','membershipstart','total_amount','time'])\n",
    "dataset.columns"
   ]
  },
  {
   "cell_type": "code",
   "execution_count": 4,
   "metadata": {},
   "outputs": [],
   "source": [
    "# https://scikit-learn.org/stable/modules/generated/sklearn.preprocessing.MinMaxScaler.html\n",
    "scaler = MinMaxScaler()\n",
    "dataset[['difficulty', 'duration', 'reward', 'income']] = \\\n",
    "                        scaler.fit_transform(dataset[['difficulty', 'duration', 'reward', 'income']])"
   ]
  },
  {
   "cell_type": "code",
   "execution_count": 5,
   "metadata": {},
   "outputs": [
    {
     "data": {
      "text/html": [
       "<div>\n",
       "<style scoped>\n",
       "    .dataframe tbody tr th:only-of-type {\n",
       "        vertical-align: middle;\n",
       "    }\n",
       "\n",
       "    .dataframe tbody tr th {\n",
       "        vertical-align: top;\n",
       "    }\n",
       "\n",
       "    .dataframe thead th {\n",
       "        text-align: right;\n",
       "    }\n",
       "</style>\n",
       "<table border=\"1\" class=\"dataframe\">\n",
       "  <thead>\n",
       "    <tr style=\"text-align: right;\">\n",
       "      <th></th>\n",
       "      <th>difficulty</th>\n",
       "      <th>duration</th>\n",
       "      <th>reward</th>\n",
       "      <th>income</th>\n",
       "    </tr>\n",
       "  </thead>\n",
       "  <tbody>\n",
       "    <tr>\n",
       "      <th>0</th>\n",
       "      <td>0.25</td>\n",
       "      <td>0.571429</td>\n",
       "      <td>0.5</td>\n",
       "      <td>0.777778</td>\n",
       "    </tr>\n",
       "    <tr>\n",
       "      <th>1</th>\n",
       "      <td>0.50</td>\n",
       "      <td>0.285714</td>\n",
       "      <td>1.0</td>\n",
       "      <td>0.100000</td>\n",
       "    </tr>\n",
       "    <tr>\n",
       "      <th>2</th>\n",
       "      <td>0.00</td>\n",
       "      <td>0.000000</td>\n",
       "      <td>0.0</td>\n",
       "      <td>0.244444</td>\n",
       "    </tr>\n",
       "    <tr>\n",
       "      <th>3</th>\n",
       "      <td>0.25</td>\n",
       "      <td>0.571429</td>\n",
       "      <td>0.5</td>\n",
       "      <td>0.977778</td>\n",
       "    </tr>\n",
       "    <tr>\n",
       "      <th>4</th>\n",
       "      <td>0.50</td>\n",
       "      <td>1.000000</td>\n",
       "      <td>0.2</td>\n",
       "      <td>0.155556</td>\n",
       "    </tr>\n",
       "  </tbody>\n",
       "</table>\n",
       "</div>"
      ],
      "text/plain": [
       "   difficulty  duration  reward    income\n",
       "0        0.25  0.571429     0.5  0.777778\n",
       "1        0.50  0.285714     1.0  0.100000\n",
       "2        0.00  0.000000     0.0  0.244444\n",
       "3        0.25  0.571429     0.5  0.977778\n",
       "4        0.50  1.000000     0.2  0.155556"
      ]
     },
     "execution_count": 5,
     "metadata": {},
     "output_type": "execute_result"
    }
   ],
   "source": [
    "# Lets check out the data and it looks good.\n",
    "dataset[['difficulty', 'duration', 'reward', 'income']].head()"
   ]
  },
  {
   "cell_type": "code",
   "execution_count": 6,
   "metadata": {},
   "outputs": [
    {
     "data": {
      "text/plain": [
       "Index(['10 - 20', '100 - 110', '20 - 30', '30 - 40', '40 - 50', '50 - 60',\n",
       "       '60 - 70', '70 - 80', '80 - 90', '90 - 100', 'bogo', 'difficulty',\n",
       "       'discount', 'duration', 'email', 'gender_value', 'income',\n",
       "       'informational', 'mobile', 'offer_successful', 'reward', 'social',\n",
       "       'web', '2013', '2014', '2015', '2016', '2017', '2018'],\n",
       "      dtype='object')"
      ]
     },
     "execution_count": 6,
     "metadata": {},
     "output_type": "execute_result"
    }
   ],
   "source": [
    "# lets check out the columns\n",
    "dataset.columns"
   ]
  },
  {
   "cell_type": "code",
   "execution_count": 7,
   "metadata": {
    "scrolled": true
   },
   "outputs": [],
   "source": [
    "# Lets create test and train data\n",
    "X = dataset.copy().drop(columns=['offer_successful'])\n",
    "y = dataset['offer_successful']"
   ]
  },
  {
   "cell_type": "code",
   "execution_count": 14,
   "metadata": {},
   "outputs": [
    {
     "data": {
      "text/html": [
       "<div>\n",
       "<style scoped>\n",
       "    .dataframe tbody tr th:only-of-type {\n",
       "        vertical-align: middle;\n",
       "    }\n",
       "\n",
       "    .dataframe tbody tr th {\n",
       "        vertical-align: top;\n",
       "    }\n",
       "\n",
       "    .dataframe thead th {\n",
       "        text-align: right;\n",
       "    }\n",
       "</style>\n",
       "<table border=\"1\" class=\"dataframe\">\n",
       "  <thead>\n",
       "    <tr style=\"text-align: right;\">\n",
       "      <th></th>\n",
       "      <th>10 - 20</th>\n",
       "      <th>100 - 110</th>\n",
       "      <th>20 - 30</th>\n",
       "      <th>30 - 40</th>\n",
       "      <th>40 - 50</th>\n",
       "      <th>50 - 60</th>\n",
       "      <th>60 - 70</th>\n",
       "      <th>70 - 80</th>\n",
       "      <th>80 - 90</th>\n",
       "      <th>90 - 100</th>\n",
       "      <th>...</th>\n",
       "      <th>mobile</th>\n",
       "      <th>reward</th>\n",
       "      <th>social</th>\n",
       "      <th>web</th>\n",
       "      <th>2013</th>\n",
       "      <th>2014</th>\n",
       "      <th>2015</th>\n",
       "      <th>2016</th>\n",
       "      <th>2017</th>\n",
       "      <th>2018</th>\n",
       "    </tr>\n",
       "  </thead>\n",
       "  <tbody>\n",
       "    <tr>\n",
       "      <th>0</th>\n",
       "      <td>0</td>\n",
       "      <td>0</td>\n",
       "      <td>0</td>\n",
       "      <td>0</td>\n",
       "      <td>0</td>\n",
       "      <td>0</td>\n",
       "      <td>0</td>\n",
       "      <td>1</td>\n",
       "      <td>0</td>\n",
       "      <td>0</td>\n",
       "      <td>...</td>\n",
       "      <td>1</td>\n",
       "      <td>0.5</td>\n",
       "      <td>0</td>\n",
       "      <td>1</td>\n",
       "      <td>0</td>\n",
       "      <td>0</td>\n",
       "      <td>0</td>\n",
       "      <td>0</td>\n",
       "      <td>1</td>\n",
       "      <td>0</td>\n",
       "    </tr>\n",
       "    <tr>\n",
       "      <th>1</th>\n",
       "      <td>0</td>\n",
       "      <td>0</td>\n",
       "      <td>0</td>\n",
       "      <td>0</td>\n",
       "      <td>0</td>\n",
       "      <td>1</td>\n",
       "      <td>0</td>\n",
       "      <td>0</td>\n",
       "      <td>0</td>\n",
       "      <td>0</td>\n",
       "      <td>...</td>\n",
       "      <td>1</td>\n",
       "      <td>1.0</td>\n",
       "      <td>1</td>\n",
       "      <td>1</td>\n",
       "      <td>0</td>\n",
       "      <td>0</td>\n",
       "      <td>1</td>\n",
       "      <td>0</td>\n",
       "      <td>0</td>\n",
       "      <td>0</td>\n",
       "    </tr>\n",
       "    <tr>\n",
       "      <th>2</th>\n",
       "      <td>0</td>\n",
       "      <td>0</td>\n",
       "      <td>0</td>\n",
       "      <td>0</td>\n",
       "      <td>1</td>\n",
       "      <td>0</td>\n",
       "      <td>0</td>\n",
       "      <td>0</td>\n",
       "      <td>0</td>\n",
       "      <td>0</td>\n",
       "      <td>...</td>\n",
       "      <td>1</td>\n",
       "      <td>0.0</td>\n",
       "      <td>1</td>\n",
       "      <td>0</td>\n",
       "      <td>0</td>\n",
       "      <td>0</td>\n",
       "      <td>0</td>\n",
       "      <td>0</td>\n",
       "      <td>1</td>\n",
       "      <td>0</td>\n",
       "    </tr>\n",
       "    <tr>\n",
       "      <th>3</th>\n",
       "      <td>0</td>\n",
       "      <td>0</td>\n",
       "      <td>0</td>\n",
       "      <td>0</td>\n",
       "      <td>0</td>\n",
       "      <td>0</td>\n",
       "      <td>0</td>\n",
       "      <td>1</td>\n",
       "      <td>0</td>\n",
       "      <td>0</td>\n",
       "      <td>...</td>\n",
       "      <td>1</td>\n",
       "      <td>0.5</td>\n",
       "      <td>0</td>\n",
       "      <td>1</td>\n",
       "      <td>0</td>\n",
       "      <td>0</td>\n",
       "      <td>0</td>\n",
       "      <td>1</td>\n",
       "      <td>0</td>\n",
       "      <td>0</td>\n",
       "    </tr>\n",
       "    <tr>\n",
       "      <th>4</th>\n",
       "      <td>0</td>\n",
       "      <td>0</td>\n",
       "      <td>0</td>\n",
       "      <td>1</td>\n",
       "      <td>0</td>\n",
       "      <td>0</td>\n",
       "      <td>0</td>\n",
       "      <td>0</td>\n",
       "      <td>0</td>\n",
       "      <td>0</td>\n",
       "      <td>...</td>\n",
       "      <td>1</td>\n",
       "      <td>0.2</td>\n",
       "      <td>1</td>\n",
       "      <td>1</td>\n",
       "      <td>0</td>\n",
       "      <td>0</td>\n",
       "      <td>0</td>\n",
       "      <td>0</td>\n",
       "      <td>0</td>\n",
       "      <td>1</td>\n",
       "    </tr>\n",
       "  </tbody>\n",
       "</table>\n",
       "<p>5 rows × 28 columns</p>\n",
       "</div>"
      ],
      "text/plain": [
       "   10 - 20  100 - 110  20 - 30  30 - 40  40 - 50  50 - 60  60 - 70  70 - 80  \\\n",
       "0        0          0        0        0        0        0        0        1   \n",
       "1        0          0        0        0        0        1        0        0   \n",
       "2        0          0        0        0        1        0        0        0   \n",
       "3        0          0        0        0        0        0        0        1   \n",
       "4        0          0        0        1        0        0        0        0   \n",
       "\n",
       "   80 - 90  90 - 100  ...   mobile  reward  social  web  2013  2014  2015  \\\n",
       "0        0         0  ...        1     0.5       0    1     0     0     0   \n",
       "1        0         0  ...        1     1.0       1    1     0     0     1   \n",
       "2        0         0  ...        1     0.0       1    0     0     0     0   \n",
       "3        0         0  ...        1     0.5       0    1     0     0     0   \n",
       "4        0         0  ...        1     0.2       1    1     0     0     0   \n",
       "\n",
       "   2016  2017  2018  \n",
       "0     0     1     0  \n",
       "1     0     0     0  \n",
       "2     0     1     0  \n",
       "3     1     0     0  \n",
       "4     0     0     1  \n",
       "\n",
       "[5 rows x 28 columns]"
      ]
     },
     "execution_count": 14,
     "metadata": {},
     "output_type": "execute_result"
    }
   ],
   "source": [
    "X.head()"
   ]
  },
  {
   "cell_type": "code",
   "execution_count": 15,
   "metadata": {},
   "outputs": [
    {
     "data": {
      "text/plain": [
       "0    1\n",
       "1    1\n",
       "2    0\n",
       "3    0\n",
       "4    0\n",
       "Name: offer_successful, dtype: int64"
      ]
     },
     "execution_count": 15,
     "metadata": {},
     "output_type": "execute_result"
    }
   ],
   "source": [
    "y.head()"
   ]
  },
  {
   "cell_type": "markdown",
   "metadata": {},
   "source": [
    "#### Split the data into training and testing data"
   ]
  },
  {
   "cell_type": "code",
   "execution_count": 8,
   "metadata": {},
   "outputs": [],
   "source": [
    "# https://scikit-learn.org/stable/modules/generated/sklearn.model_selection.train_test_split.html\n",
    "random_state = 123456789\n",
    "\n",
    "(X_train,\n",
    " X_test,\n",
    " y_train,\n",
    " y_test) = train_test_split(X,\n",
    "                            y,\n",
    "                            test_size=0.2,\n",
    "                            random_state=random_state)\n"
   ]
  },
  {
   "cell_type": "code",
   "execution_count": 17,
   "metadata": {},
   "outputs": [
    {
     "name": "stdout",
     "output_type": "stream",
     "text": [
      "X_Train :  (52468, 28)\n",
      "X_Test :  (13117, 28)\n",
      "y_Train :  (52468,)\n",
      "y_Test :  (13117,)\n"
     ]
    }
   ],
   "source": [
    "print(\"X_Train : \",X_train.shape)\n",
    "print(\"X_Test : \",X_test.shape)\n",
    "print(\"y_Train : \",y_train.shape)\n",
    "print(\"y_Test : \",y_test.shape)"
   ]
  },
  {
   "cell_type": "markdown",
   "metadata": {},
   "source": [
    "### SVM Model\n",
    "\n",
    "[sklearn SVM](https://scikit-learn.org/stable/modules/generated/sklearn.svm.SVC.html)\n",
    "[Support Vector Machine](https://www.analyticsvidhya.com/blog/2017/09/understaing-support-vector-machine-example-code/)\n",
    "\n",
    "Common Parameters that can be changed to tune performance of the model\n",
    "  - C (the higher the C value the more time it takes to train the model)\n",
    "  - gamma (the higher the gamma value the more time it takes to train the model)\n",
    "  - kernel (‘linear’, ‘poly’, ‘rbf’, ‘sigmoid’, ‘precomputed’ or a callable). default is 'rbf'"
   ]
  },
  {
   "cell_type": "code",
   "execution_count": 9,
   "metadata": {},
   "outputs": [
    {
     "data": {
      "text/plain": [
       "SVC(C=1.0, cache_size=200, class_weight=None, coef0=0.0,\n",
       "  decision_function_shape='ovr', degree=3, gamma='auto', kernel='rbf',\n",
       "  max_iter=-1, probability=False, random_state=123456789, shrinking=True,\n",
       "  tol=0.001, verbose=False)"
      ]
     },
     "execution_count": 9,
     "metadata": {},
     "output_type": "execute_result"
    }
   ],
   "source": [
    "# Train using default parameters (C, gamma and use the default kernel \"rbf\")\n",
    "svc_model = SVC(random_state=random_state)\n",
    "svc_model.fit(X_train, y_train)"
   ]
  },
  {
   "cell_type": "code",
   "execution_count": 10,
   "metadata": {},
   "outputs": [
    {
     "name": "stdout",
     "output_type": "stream",
     "text": [
      "0.722421285355\n"
     ]
    }
   ],
   "source": [
    "#predict the accuracy\n",
    "y_pred = svc_model.predict(X_test)\n",
    "print(accuracy_score(y_test,y_pred))"
   ]
  },
  {
   "cell_type": "code",
   "execution_count": 11,
   "metadata": {},
   "outputs": [
    {
     "data": {
      "image/png": "[encoded data removed]",
      "text/plain": [
       "<matplotlib.figure.Figure at 0x7fc91c3859b0>"
      ]
     },
     "metadata": {
      "needs_background": "light"
     },
     "output_type": "display_data"
    }
   ],
   "source": [
    "cm = confusion_matrix( y_test, y_pred)\n",
    "sns.heatmap(cm, annot=True);"
   ]
  },
  {
   "cell_type": "code",
   "execution_count": 12,
   "metadata": {},
   "outputs": [
    {
     "name": "stdout",
     "output_type": "stream",
     "text": [
      "             precision    recall  f1-score   support\n",
      "\n",
      "          0       0.74      0.73      0.74      6937\n",
      "          1       0.70      0.71      0.71      6180\n",
      "\n",
      "avg / total       0.72      0.72      0.72     13117\n",
      "\n"
     ]
    }
   ],
   "source": [
    "print(classification_report(y_test,y_pred))"
   ]
  },
  {
   "cell_type": "markdown",
   "metadata": {},
   "source": [
    "Even for such a small data set SVM model took lot of time to train the model. We could try tuning the C and gamma variables and try to fine tune the model. The higher the C and gamma values, the more it is going to take to train the model.\n",
    "\n",
    "So let's try out few other algorithms like Logistic Regression and Random Forest Classifier."
   ]
  },
  {
   "cell_type": "markdown",
   "metadata": {},
   "source": [
    "#### Logistic Regression model\n",
    "\n",
    "[sklearn Logistic Regression](https://scikit-learn.org/stable/modules/generated/sklearn.linear_model.LogisticRegression.html)\n",
    "\n",
    "We will try the following parameters to tune the model:\n",
    "  - penalty: Used to specify the norm used in the penalization.\n",
    "  - solver: We will choose 'liblinear' as the sovler since this is not a big data set\n",
    "  - C: Inverse of regularization strength; must be a positive float.\n",
    "\n",
    "  - Perform random search of model hyperparameter space\n",
    "    - Accuracy :  0.718\n",
    "    - F1-score :  0.712"
   ]
  },
  {
   "cell_type": "code",
   "execution_count": 36,
   "metadata": {},
   "outputs": [
    {
     "data": {
      "text/plain": [
       "LogisticRegression(C=1.0, class_weight=None, dual=False, fit_intercept=True,\n",
       "          intercept_scaling=1, max_iter=100, multi_class='ovr', n_jobs=1,\n",
       "          penalty='l2', random_state=123456789, solver='liblinear',\n",
       "          tol=0.0001, verbose=0, warm_start=False)"
      ]
     },
     "execution_count": 36,
     "metadata": {},
     "output_type": "execute_result"
    }
   ],
   "source": [
    "lr_model = LogisticRegression(random_state=random_state,\n",
    "                            solver='liblinear')\n",
    "lr_model.fit(X_train, y_train)"
   ]
  },
  {
   "cell_type": "code",
   "execution_count": 37,
   "metadata": {},
   "outputs": [
    {
     "name": "stdout",
     "output_type": "stream",
     "text": [
      "0.725547000076\n"
     ]
    }
   ],
   "source": [
    "#predict the accuracy\n",
    "y_lr_pred = lr_model.predict(X_test)\n",
    "print(accuracy_score(y_test,y_lr_pred))"
   ]
  },
  {
   "cell_type": "code",
   "execution_count": 38,
   "metadata": {},
   "outputs": [
    {
     "data": {
      "image/png": "[encoded data removed]",
      "text/plain": [
       "<matplotlib.figure.Figure at 0x7f585d199278>"
      ]
     },
     "metadata": {
      "needs_background": "light"
     },
     "output_type": "display_data"
    }
   ],
   "source": [
    "cm = confusion_matrix( y_test, y_lr_pred)\n",
    "sns.heatmap(cm, annot=True);"
   ]
  },
  {
   "cell_type": "code",
   "execution_count": 39,
   "metadata": {},
   "outputs": [
    {
     "name": "stdout",
     "output_type": "stream",
     "text": [
      "             precision    recall  f1-score   support\n",
      "\n",
      "          0       0.76      0.71      0.73      6937\n",
      "          1       0.69      0.75      0.72      6180\n",
      "\n",
      "avg / total       0.73      0.73      0.73     13117\n",
      "\n"
     ]
    }
   ],
   "source": [
    "print(classification_report(y_test,y_lr_pred))"
   ]
  },
  {
   "cell_type": "markdown",
   "metadata": {},
   "source": [
    "#### Tune Parameters to improve model performance\n",
    "  - We will use Grid Search to find the relatiely best values for the different parameters\n",
    "  - We will use the following\n",
    "    - penalty\n",
    "    - solver\n",
    "    - C\n",
    "    - max_iter"
   ]
  },
  {
   "cell_type": "code",
   "execution_count": 20,
   "metadata": {},
   "outputs": [],
   "source": [
    "lr_param_grid = {'penalty':['l1','l2'] ,'C':[0.1, 1, 10,100], 'solver':['liblinear'],'max_iter':[100,200,300] }\n",
    "lr_grid = GridSearchCV(LogisticRegression(random_state= random_state), lr_param_grid, refit = True, verbose = 4)"
   ]
  },
  {
   "cell_type": "code",
   "execution_count": 21,
   "metadata": {
    "scrolled": true
   },
   "outputs": [
    {
     "name": "stdout",
     "output_type": "stream",
     "text": [
      "Fitting 3 folds for each of 24 candidates, totalling 72 fits\n",
      "[CV] C=0.1, max_iter=100, penalty=l1, solver=liblinear ...............\n",
      "[CV]  C=0.1, max_iter=100, penalty=l1, solver=liblinear, score=0.717095483133219, total=   0.8s\n",
      "[CV] C=0.1, max_iter=100, penalty=l1, solver=liblinear ...............\n"
     ]
    },
    {
     "name": "stderr",
     "output_type": "stream",
     "text": [
      "[Parallel(n_jobs=1)]: Done   1 out of   1 | elapsed:    0.8s remaining:    0.0s\n"
     ]
    },
    {
     "name": "stdout",
     "output_type": "stream",
     "text": [
      "[CV]  C=0.1, max_iter=100, penalty=l1, solver=liblinear, score=0.7192521013208303, total=   2.3s\n",
      "[CV] C=0.1, max_iter=100, penalty=l1, solver=liblinear ...............\n"
     ]
    },
    {
     "name": "stderr",
     "output_type": "stream",
     "text": [
      "[Parallel(n_jobs=1)]: Done   2 out of   2 | elapsed:    3.1s remaining:    0.0s\n"
     ]
    },
    {
     "name": "stdout",
     "output_type": "stream",
     "text": [
      "[CV]  C=0.1, max_iter=100, penalty=l1, solver=liblinear, score=0.7275430270455715, total=   1.4s\n",
      "[CV] C=0.1, max_iter=100, penalty=l2, solver=liblinear ...............\n"
     ]
    },
    {
     "name": "stderr",
     "output_type": "stream",
     "text": [
      "[Parallel(n_jobs=1)]: Done   3 out of   3 | elapsed:    4.5s remaining:    0.0s\n"
     ]
    },
    {
     "name": "stdout",
     "output_type": "stream",
     "text": [
      "[CV]  C=0.1, max_iter=100, penalty=l2, solver=liblinear, score=0.7167524299599771, total=   0.3s\n",
      "[CV] C=0.1, max_iter=100, penalty=l2, solver=liblinear ...............\n",
      "[CV]  C=0.1, max_iter=100, penalty=l2, solver=liblinear, score=0.7183944193493053, total=   0.3s\n",
      "[CV] C=0.1, max_iter=100, penalty=l2, solver=liblinear ...............\n",
      "[CV]  C=0.1, max_iter=100, penalty=l2, solver=liblinear, score=0.7277717422379781, total=   0.3s\n",
      "[CV] C=0.1, max_iter=200, penalty=l1, solver=liblinear ...............\n",
      "[CV]  C=0.1, max_iter=200, penalty=l1, solver=liblinear, score=0.717095483133219, total=   0.8s\n",
      "[CV] C=0.1, max_iter=200, penalty=l1, solver=liblinear ...............\n",
      "[CV]  C=0.1, max_iter=200, penalty=l1, solver=liblinear, score=0.7192521013208303, total=   1.8s\n",
      "[CV] C=0.1, max_iter=200, penalty=l1, solver=liblinear ...............\n",
      "[CV]  C=0.1, max_iter=200, penalty=l1, solver=liblinear, score=0.7275430270455715, total=   1.4s\n",
      "[CV] C=0.1, max_iter=200, penalty=l2, solver=liblinear ...............\n",
      "[CV]  C=0.1, max_iter=200, penalty=l2, solver=liblinear, score=0.7167524299599771, total=   0.3s\n",
      "[CV] C=0.1, max_iter=200, penalty=l2, solver=liblinear ...............\n",
      "[CV]  C=0.1, max_iter=200, penalty=l2, solver=liblinear, score=0.7183944193493053, total=   0.3s\n",
      "[CV] C=0.1, max_iter=200, penalty=l2, solver=liblinear ...............\n",
      "[CV]  C=0.1, max_iter=200, penalty=l2, solver=liblinear, score=0.7277717422379781, total=   0.3s\n",
      "[CV] C=0.1, max_iter=300, penalty=l1, solver=liblinear ...............\n",
      "[CV]  C=0.1, max_iter=300, penalty=l1, solver=liblinear, score=0.717095483133219, total=   0.8s\n",
      "[CV] C=0.1, max_iter=300, penalty=l1, solver=liblinear ...............\n",
      "[CV]  C=0.1, max_iter=300, penalty=l1, solver=liblinear, score=0.7192521013208303, total=   1.7s\n",
      "[CV] C=0.1, max_iter=300, penalty=l1, solver=liblinear ...............\n",
      "[CV]  C=0.1, max_iter=300, penalty=l1, solver=liblinear, score=0.7275430270455715, total=   1.4s\n",
      "[CV] C=0.1, max_iter=300, penalty=l2, solver=liblinear ...............\n",
      "[CV]  C=0.1, max_iter=300, penalty=l2, solver=liblinear, score=0.7167524299599771, total=   0.3s\n",
      "[CV] C=0.1, max_iter=300, penalty=l2, solver=liblinear ...............\n",
      "[CV]  C=0.1, max_iter=300, penalty=l2, solver=liblinear, score=0.7183944193493053, total=   0.3s\n",
      "[CV] C=0.1, max_iter=300, penalty=l2, solver=liblinear ...............\n",
      "[CV]  C=0.1, max_iter=300, penalty=l2, solver=liblinear, score=0.7277717422379781, total=   0.3s\n",
      "[CV] C=1, max_iter=100, penalty=l1, solver=liblinear .................\n",
      "[CV]  C=1, max_iter=100, penalty=l1, solver=liblinear, score=0.717095483133219, total=   2.8s\n",
      "[CV] C=1, max_iter=100, penalty=l1, solver=liblinear .................\n",
      "[CV]  C=1, max_iter=100, penalty=l1, solver=liblinear, score=0.7182228829550003, total=   2.3s\n",
      "[CV] C=1, max_iter=100, penalty=l1, solver=liblinear .................\n",
      "[CV]  C=1, max_iter=100, penalty=l1, solver=liblinear, score=0.7276002058436731, total=   3.1s\n",
      "[CV] C=1, max_iter=100, penalty=l2, solver=liblinear .................\n",
      "[CV]  C=1, max_iter=100, penalty=l2, solver=liblinear, score=0.717095483133219, total=   0.3s\n",
      "[CV] C=1, max_iter=100, penalty=l2, solver=liblinear .................\n",
      "[CV]  C=1, max_iter=100, penalty=l2, solver=liblinear, score=0.7183372405512036, total=   0.3s\n",
      "[CV] C=1, max_iter=100, penalty=l2, solver=liblinear .................\n",
      "[CV]  C=1, max_iter=100, penalty=l2, solver=liblinear, score=0.7273714906512665, total=   0.3s\n",
      "[CV] C=1, max_iter=200, penalty=l1, solver=liblinear .................\n",
      "[CV]  C=1, max_iter=200, penalty=l1, solver=liblinear, score=0.717095483133219, total=   2.8s\n",
      "[CV] C=1, max_iter=200, penalty=l1, solver=liblinear .................\n",
      "[CV]  C=1, max_iter=200, penalty=l1, solver=liblinear, score=0.7182228829550003, total=   2.3s\n",
      "[CV] C=1, max_iter=200, penalty=l1, solver=liblinear .................\n",
      "[CV]  C=1, max_iter=200, penalty=l1, solver=liblinear, score=0.7276002058436731, total=   3.2s\n",
      "[CV] C=1, max_iter=200, penalty=l2, solver=liblinear .................\n",
      "[CV]  C=1, max_iter=200, penalty=l2, solver=liblinear, score=0.717095483133219, total=   0.3s\n",
      "[CV] C=1, max_iter=200, penalty=l2, solver=liblinear .................\n",
      "[CV]  C=1, max_iter=200, penalty=l2, solver=liblinear, score=0.7183372405512036, total=   0.3s\n",
      "[CV] C=1, max_iter=200, penalty=l2, solver=liblinear .................\n",
      "[CV]  C=1, max_iter=200, penalty=l2, solver=liblinear, score=0.7273714906512665, total=   0.3s\n",
      "[CV] C=1, max_iter=300, penalty=l1, solver=liblinear .................\n",
      "[CV]  C=1, max_iter=300, penalty=l1, solver=liblinear, score=0.717095483133219, total=   2.9s\n",
      "[CV] C=1, max_iter=300, penalty=l1, solver=liblinear .................\n",
      "[CV]  C=1, max_iter=300, penalty=l1, solver=liblinear, score=0.7182228829550003, total=   2.3s\n",
      "[CV] C=1, max_iter=300, penalty=l1, solver=liblinear .................\n",
      "[CV]  C=1, max_iter=300, penalty=l1, solver=liblinear, score=0.7276002058436731, total=   3.1s\n",
      "[CV] C=1, max_iter=300, penalty=l2, solver=liblinear .................\n",
      "[CV]  C=1, max_iter=300, penalty=l2, solver=liblinear, score=0.717095483133219, total=   0.8s\n",
      "[CV] C=1, max_iter=300, penalty=l2, solver=liblinear .................\n",
      "[CV]  C=1, max_iter=300, penalty=l2, solver=liblinear, score=0.7183372405512036, total=   0.3s\n",
      "[CV] C=1, max_iter=300, penalty=l2, solver=liblinear .................\n",
      "[CV]  C=1, max_iter=300, penalty=l2, solver=liblinear, score=0.7273714906512665, total=   0.3s\n",
      "[CV] C=10, max_iter=100, penalty=l1, solver=liblinear ................\n",
      "[CV]  C=10, max_iter=100, penalty=l1, solver=liblinear, score=0.7176672384219555, total=   4.2s\n",
      "[CV] C=10, max_iter=100, penalty=l1, solver=liblinear ................\n",
      "[CV]  C=10, max_iter=100, penalty=l1, solver=liblinear, score=0.7188518497341186, total=   3.9s\n",
      "[CV] C=10, max_iter=100, penalty=l1, solver=liblinear ................\n",
      "[CV]  C=10, max_iter=100, penalty=l1, solver=liblinear, score=0.7277717422379781, total=   4.5s\n",
      "[CV] C=10, max_iter=100, penalty=l2, solver=liblinear ................\n",
      "[CV]  C=10, max_iter=100, penalty=l2, solver=liblinear, score=0.7176100628930817, total=   0.3s\n",
      "[CV] C=10, max_iter=100, penalty=l2, solver=liblinear ................\n",
      "[CV]  C=10, max_iter=100, penalty=l2, solver=liblinear, score=0.7188518497341186, total=   0.3s\n",
      "[CV] C=10, max_iter=100, penalty=l2, solver=liblinear ................\n",
      "[CV]  C=10, max_iter=100, penalty=l2, solver=liblinear, score=0.7277717422379781, total=   0.3s\n",
      "[CV] C=10, max_iter=200, penalty=l1, solver=liblinear ................\n",
      "[CV]  C=10, max_iter=200, penalty=l1, solver=liblinear, score=0.7176672384219555, total=   4.1s\n",
      "[CV] C=10, max_iter=200, penalty=l1, solver=liblinear ................\n",
      "[CV]  C=10, max_iter=200, penalty=l1, solver=liblinear, score=0.7188518497341186, total=   4.0s\n",
      "[CV] C=10, max_iter=200, penalty=l1, solver=liblinear ................\n",
      "[CV]  C=10, max_iter=200, penalty=l1, solver=liblinear, score=0.7277717422379781, total=   4.6s\n",
      "[CV] C=10, max_iter=200, penalty=l2, solver=liblinear ................\n",
      "[CV]  C=10, max_iter=200, penalty=l2, solver=liblinear, score=0.7176100628930817, total=   0.3s\n",
      "[CV] C=10, max_iter=200, penalty=l2, solver=liblinear ................\n",
      "[CV]  C=10, max_iter=200, penalty=l2, solver=liblinear, score=0.7188518497341186, total=   0.3s\n",
      "[CV] C=10, max_iter=200, penalty=l2, solver=liblinear ................\n",
      "[CV]  C=10, max_iter=200, penalty=l2, solver=liblinear, score=0.7277717422379781, total=   0.3s\n",
      "[CV] C=10, max_iter=300, penalty=l1, solver=liblinear ................\n",
      "[CV]  C=10, max_iter=300, penalty=l1, solver=liblinear, score=0.7176672384219555, total=   4.1s\n",
      "[CV] C=10, max_iter=300, penalty=l1, solver=liblinear ................\n",
      "[CV]  C=10, max_iter=300, penalty=l1, solver=liblinear, score=0.7188518497341186, total=   4.0s\n",
      "[CV] C=10, max_iter=300, penalty=l1, solver=liblinear ................\n",
      "[CV]  C=10, max_iter=300, penalty=l1, solver=liblinear, score=0.7277717422379781, total=   5.2s\n",
      "[CV] C=10, max_iter=300, penalty=l2, solver=liblinear ................\n",
      "[CV]  C=10, max_iter=300, penalty=l2, solver=liblinear, score=0.7176100628930817, total=   0.3s\n",
      "[CV] C=10, max_iter=300, penalty=l2, solver=liblinear ................\n",
      "[CV]  C=10, max_iter=300, penalty=l2, solver=liblinear, score=0.7188518497341186, total=   0.3s\n",
      "[CV] C=10, max_iter=300, penalty=l2, solver=liblinear ................\n",
      "[CV]  C=10, max_iter=300, penalty=l2, solver=liblinear, score=0.7277717422379781, total=   0.3s\n",
      "[CV] C=100, max_iter=100, penalty=l1, solver=liblinear ...............\n",
      "[CV]  C=100, max_iter=100, penalty=l1, solver=liblinear, score=0.7176672384219555, total=   2.4s\n",
      "[CV] C=100, max_iter=100, penalty=l1, solver=liblinear ...............\n",
      "[CV]  C=100, max_iter=100, penalty=l1, solver=liblinear, score=0.7186803133398136, total=   2.4s\n",
      "[CV] C=100, max_iter=100, penalty=l1, solver=liblinear ...............\n",
      "[CV]  C=100, max_iter=100, penalty=l1, solver=liblinear, score=0.7277717422379781, total=   2.4s\n",
      "[CV] C=100, max_iter=100, penalty=l2, solver=liblinear ...............\n",
      "[CV]  C=100, max_iter=100, penalty=l2, solver=liblinear, score=0.7176672384219555, total=   0.3s\n",
      "[CV] C=100, max_iter=100, penalty=l2, solver=liblinear ...............\n",
      "[CV]  C=100, max_iter=100, penalty=l2, solver=liblinear, score=0.7189090285322203, total=   0.3s\n",
      "[CV] C=100, max_iter=100, penalty=l2, solver=liblinear ...............\n",
      "[CV]  C=100, max_iter=100, penalty=l2, solver=liblinear, score=0.7277717422379781, total=   0.3s\n",
      "[CV] C=100, max_iter=200, penalty=l1, solver=liblinear ...............\n",
      "[CV]  C=100, max_iter=200, penalty=l1, solver=liblinear, score=0.7176672384219555, total=   2.4s\n",
      "[CV] C=100, max_iter=200, penalty=l1, solver=liblinear ...............\n",
      "[CV]  C=100, max_iter=200, penalty=l1, solver=liblinear, score=0.7186803133398136, total=   2.4s\n",
      "[CV] C=100, max_iter=200, penalty=l1, solver=liblinear ...............\n",
      "[CV]  C=100, max_iter=200, penalty=l1, solver=liblinear, score=0.7277717422379781, total=   2.4s\n",
      "[CV] C=100, max_iter=200, penalty=l2, solver=liblinear ...............\n",
      "[CV]  C=100, max_iter=200, penalty=l2, solver=liblinear, score=0.7176672384219555, total=   0.3s\n",
      "[CV] C=100, max_iter=200, penalty=l2, solver=liblinear ...............\n",
      "[CV]  C=100, max_iter=200, penalty=l2, solver=liblinear, score=0.7189090285322203, total=   0.3s\n",
      "[CV] C=100, max_iter=200, penalty=l2, solver=liblinear ...............\n",
      "[CV]  C=100, max_iter=200, penalty=l2, solver=liblinear, score=0.7277717422379781, total=   0.3s\n",
      "[CV] C=100, max_iter=300, penalty=l1, solver=liblinear ...............\n",
      "[CV]  C=100, max_iter=300, penalty=l1, solver=liblinear, score=0.7176672384219555, total=   2.3s\n",
      "[CV] C=100, max_iter=300, penalty=l1, solver=liblinear ...............\n",
      "[CV]  C=100, max_iter=300, penalty=l1, solver=liblinear, score=0.7186803133398136, total=   2.5s\n",
      "[CV] C=100, max_iter=300, penalty=l1, solver=liblinear ...............\n",
      "[CV]  C=100, max_iter=300, penalty=l1, solver=liblinear, score=0.7277717422379781, total=   2.5s\n",
      "[CV] C=100, max_iter=300, penalty=l2, solver=liblinear ...............\n",
      "[CV]  C=100, max_iter=300, penalty=l2, solver=liblinear, score=0.7176672384219555, total=   0.3s\n",
      "[CV] C=100, max_iter=300, penalty=l2, solver=liblinear ...............\n",
      "[CV]  C=100, max_iter=300, penalty=l2, solver=liblinear, score=0.7189090285322203, total=   0.3s\n",
      "[CV] C=100, max_iter=300, penalty=l2, solver=liblinear ...............\n",
      "[CV]  C=100, max_iter=300, penalty=l2, solver=liblinear, score=0.7277717422379781, total=   0.3s\n"
     ]
    },
    {
     "name": "stderr",
     "output_type": "stream",
     "text": [
      "[Parallel(n_jobs=1)]: Done  72 out of  72 | elapsed:  1.8min finished\n"
     ]
    },
    {
     "data": {
      "text/plain": [
       "GridSearchCV(cv=None, error_score='raise',\n",
       "       estimator=LogisticRegression(C=1.0, class_weight=None, dual=False, fit_intercept=True,\n",
       "          intercept_scaling=1, max_iter=100, multi_class='ovr', n_jobs=1,\n",
       "          penalty='l2', random_state=123456789, solver='liblinear',\n",
       "          tol=0.0001, verbose=0, warm_start=False),\n",
       "       fit_params=None, iid=True, n_jobs=1,\n",
       "       param_grid={'penalty': ['l1', 'l2'], 'C': [0.1, 1, 10, 100], 'solver': ['liblinear'], 'max_iter': [100, 200, 300]},\n",
       "       pre_dispatch='2*n_jobs', refit=True, return_train_score='warn',\n",
       "       scoring=None, verbose=4)"
      ]
     },
     "execution_count": 21,
     "metadata": {},
     "output_type": "execute_result"
    }
   ],
   "source": [
    "lr_grid.fit(X_train, y_train)"
   ]
  },
  {
   "cell_type": "code",
   "execution_count": 22,
   "metadata": {},
   "outputs": [
    {
     "data": {
      "text/plain": [
       "{'C': 100, 'max_iter': 100, 'penalty': 'l2', 'solver': 'liblinear'}"
      ]
     },
     "execution_count": 22,
     "metadata": {},
     "output_type": "execute_result"
    }
   ],
   "source": [
    "lr_grid.best_params_"
   ]
  },
  {
   "cell_type": "code",
   "execution_count": 23,
   "metadata": {},
   "outputs": [
    {
     "name": "stdout",
     "output_type": "stream",
     "text": [
      "0.725242052299\n"
     ]
    },
    {
     "data": {
      "image/png": "[encoded data removed]",
      "text/plain": [
       "<matplotlib.figure.Figure at 0x7fc91bef61d0>"
      ]
     },
     "metadata": {
      "needs_background": "light"
     },
     "output_type": "display_data"
    }
   ],
   "source": [
    "lr_opt_y_pred = lr_grid.predict(X_test)\n",
    "\n",
    "print(accuracy_score(y_test,lr_opt_y_pred))\n",
    "\n",
    "lr_cm1 = confusion_matrix( y_test, lr_opt_y_pred)\n",
    "sns.heatmap(lr_cm1, annot=True);"
   ]
  },
  {
   "cell_type": "code",
   "execution_count": 24,
   "metadata": {},
   "outputs": [
    {
     "name": "stdout",
     "output_type": "stream",
     "text": [
      "             precision    recall  f1-score   support\n",
      "\n",
      "          0       0.76      0.70      0.73      6937\n",
      "          1       0.69      0.75      0.72      6180\n",
      "\n",
      "avg / total       0.73      0.73      0.73     13117\n",
      "\n"
     ]
    }
   ],
   "source": [
    "print(classification_report(y_test,lr_opt_y_pred))"
   ]
  },
  {
   "cell_type": "markdown",
   "metadata": {},
   "source": [
    "**Even after tuning the selected parameters, we dont see much of improvement in the precision.**. There are other parameters that we can try."
   ]
  },
  {
   "cell_type": "markdown",
   "metadata": {},
   "source": [
    "#### Construct Random Forest Model\n",
    "\n",
    "[sklearn Random Forest Classifier](https://scikit-learn.org/stable/modules/generated/sklearn.ensemble.RandomForestClassifier.html)\n",
    "\n",
    "[Random Forest Blog](https://medium.com/machine-learning-101/chapter-5-random-forest-classifier-56dc7425c3e1)\n",
    "\n",
    "We will try the below parameters:\n",
    "  - n_estimators : The number of trees in the forest.\n",
    "  - criterion : The function to measure the quality of a split.\n",
    "  - min_samples_split : The minimum number of samples required to split an internal node\n",
    "  - min_samples_leaf : The minimum number of samples required to be at a leaf node. \n",
    " \n",
    "  - Perform random search of model hyperparameter space\n",
    "    - Accuracy : 0.742\n",
    "    - F1-score : 0.735"
   ]
  },
  {
   "cell_type": "code",
   "execution_count": 25,
   "metadata": {},
   "outputs": [],
   "source": [
    "rf_model = RandomForestClassifier(random_state=random_state)"
   ]
  },
  {
   "cell_type": "code",
   "execution_count": 26,
   "metadata": {},
   "outputs": [
    {
     "data": {
      "text/plain": [
       "RandomForestClassifier(bootstrap=True, class_weight=None, criterion='gini',\n",
       "            max_depth=None, max_features='auto', max_leaf_nodes=None,\n",
       "            min_impurity_decrease=0.0, min_impurity_split=None,\n",
       "            min_samples_leaf=1, min_samples_split=2,\n",
       "            min_weight_fraction_leaf=0.0, n_estimators=10, n_jobs=1,\n",
       "            oob_score=False, random_state=123456789, verbose=0,\n",
       "            warm_start=False)"
      ]
     },
     "execution_count": 26,
     "metadata": {},
     "output_type": "execute_result"
    }
   ],
   "source": [
    "rf_model.fit(X_train, y_train)"
   ]
  },
  {
   "cell_type": "code",
   "execution_count": 27,
   "metadata": {},
   "outputs": [
    {
     "name": "stdout",
     "output_type": "stream",
     "text": [
      "0.692460166197\n"
     ]
    }
   ],
   "source": [
    "y_rf_pred = rf_model.predict(X_test)\n",
    "print(accuracy_score(y_test,y_rf_pred))"
   ]
  },
  {
   "cell_type": "code",
   "execution_count": 28,
   "metadata": {},
   "outputs": [
    {
     "data": {
      "image/png": "[encoded data removed]",
      "text/plain": [
       "<matplotlib.figure.Figure at 0x7fc91be11ef0>"
      ]
     },
     "metadata": {
      "needs_background": "light"
     },
     "output_type": "display_data"
    }
   ],
   "source": [
    "rf_cm = confusion_matrix( y_test, y_rf_pred)\n",
    "sns.heatmap(rf_cm, annot=True);"
   ]
  },
  {
   "cell_type": "code",
   "execution_count": 29,
   "metadata": {},
   "outputs": [
    {
     "name": "stdout",
     "output_type": "stream",
     "text": [
      "             precision    recall  f1-score   support\n",
      "\n",
      "          0       0.71      0.71      0.71      6937\n",
      "          1       0.68      0.67      0.67      6180\n",
      "\n",
      "avg / total       0.69      0.69      0.69     13117\n",
      "\n"
     ]
    }
   ],
   "source": [
    "print(classification_report(y_test,y_rf_pred))"
   ]
  },
  {
   "cell_type": "code",
   "execution_count": 30,
   "metadata": {
    "scrolled": true
   },
   "outputs": [
    {
     "name": "stdout",
     "output_type": "stream",
     "text": [
      "Fitting 3 folds for each of 108 candidates, totalling 324 fits\n",
      "[CV] max_depth=5, min_samples_leaf=2, min_samples_split=2, n_estimators=100 \n",
      "[CV] max_depth=5, min_samples_leaf=2, min_samples_split=2, n_estimators=100 \n",
      "[CV] max_depth=5, min_samples_leaf=2, min_samples_split=2, n_estimators=100 \n",
      "[CV]  max_depth=5, min_samples_leaf=2, min_samples_split=2, n_estimators=100, total=   6.6s\n",
      "[CV] max_depth=5, min_samples_leaf=2, min_samples_split=2, n_estimators=200 \n",
      "[CV]  max_depth=5, min_samples_leaf=2, min_samples_split=2, n_estimators=100, total=   6.5s\n",
      "[CV] max_depth=5, min_samples_leaf=2, min_samples_split=2, n_estimators=200 \n",
      "[CV]  max_depth=5, min_samples_leaf=2, min_samples_split=2, n_estimators=100, total=   6.7s\n",
      "[CV] max_depth=5, min_samples_leaf=2, min_samples_split=2, n_estimators=200 \n",
      "[CV]  max_depth=5, min_samples_leaf=2, min_samples_split=2, n_estimators=200, total=  12.4s\n",
      "[CV] max_depth=5, min_samples_leaf=2, min_samples_split=2, n_estimators=300 \n",
      "[CV]  max_depth=5, min_samples_leaf=2, min_samples_split=2, n_estimators=200, total=  12.4s\n",
      "[CV] max_depth=5, min_samples_leaf=2, min_samples_split=2, n_estimators=300 \n",
      "[CV]  max_depth=5, min_samples_leaf=2, min_samples_split=2, n_estimators=200, total=  12.5s\n",
      "[CV] max_depth=5, min_samples_leaf=2, min_samples_split=2, n_estimators=300 \n",
      "[CV]  max_depth=5, min_samples_leaf=2, min_samples_split=2, n_estimators=300, total=  18.4s\n",
      "[CV]  max_depth=5, min_samples_leaf=2, min_samples_split=2, n_estimators=300, total=  18.4s\n",
      "[CV] max_depth=5, min_samples_leaf=2, min_samples_split=4, n_estimators=100 \n",
      "[CV] max_depth=5, min_samples_leaf=2, min_samples_split=4, n_estimators=100 \n",
      "[CV]  max_depth=5, min_samples_leaf=2, min_samples_split=2, n_estimators=300, total=  18.6s\n",
      "[CV] max_depth=5, min_samples_leaf=2, min_samples_split=4, n_estimators=100 \n",
      "[CV]  max_depth=5, min_samples_leaf=2, min_samples_split=4, n_estimators=100, total=   6.4s\n",
      "[CV] max_depth=5, min_samples_leaf=2, min_samples_split=4, n_estimators=200 \n",
      "[CV]  max_depth=5, min_samples_leaf=2, min_samples_split=4, n_estimators=100, total=   6.4s\n",
      "[CV] max_depth=5, min_samples_leaf=2, min_samples_split=4, n_estimators=200 \n",
      "[CV]  max_depth=5, min_samples_leaf=2, min_samples_split=4, n_estimators=100, total=   6.4s\n",
      "[CV] max_depth=5, min_samples_leaf=2, min_samples_split=4, n_estimators=200 \n",
      "[CV]  max_depth=5, min_samples_leaf=2, min_samples_split=4, n_estimators=200, total=  12.7s\n",
      "[CV]  max_depth=5, min_samples_leaf=2, min_samples_split=4, n_estimators=200, total=  12.6s\n",
      "[CV] max_depth=5, min_samples_leaf=2, min_samples_split=4, n_estimators=300 \n",
      "[CV] max_depth=5, min_samples_leaf=2, min_samples_split=4, n_estimators=300 \n",
      "[CV]  max_depth=5, min_samples_leaf=2, min_samples_split=4, n_estimators=200, total=  12.7s\n",
      "[CV] max_depth=5, min_samples_leaf=2, min_samples_split=4, n_estimators=300 \n",
      "[CV]  max_depth=5, min_samples_leaf=2, min_samples_split=4, n_estimators=300, total=  18.2s\n",
      "[CV]  max_depth=5, min_samples_leaf=2, min_samples_split=4, n_estimators=300, total=  18.1s\n",
      "[CV] max_depth=5, min_samples_leaf=2, min_samples_split=6, n_estimators=100 \n",
      "[CV] max_depth=5, min_samples_leaf=2, min_samples_split=6, n_estimators=100 \n",
      "[CV]  max_depth=5, min_samples_leaf=2, min_samples_split=4, n_estimators=300, total=  18.4s\n",
      "[CV] max_depth=5, min_samples_leaf=2, min_samples_split=6, n_estimators=100 \n",
      "[CV]  max_depth=5, min_samples_leaf=2, min_samples_split=6, n_estimators=100, total=   6.4s\n",
      "[CV] max_depth=5, min_samples_leaf=2, min_samples_split=6, n_estimators=200 \n",
      "[CV]  max_depth=5, min_samples_leaf=2, min_samples_split=6, n_estimators=100, total=   6.3s\n",
      "[CV] max_depth=5, min_samples_leaf=2, min_samples_split=6, n_estimators=200 \n",
      "[CV]  max_depth=5, min_samples_leaf=2, min_samples_split=6, n_estimators=100, total=   6.4s\n",
      "[CV] max_depth=5, min_samples_leaf=2, min_samples_split=6, n_estimators=200 \n",
      "[CV]  max_depth=5, min_samples_leaf=2, min_samples_split=6, n_estimators=200, total=  12.4s\n",
      "[CV] max_depth=5, min_samples_leaf=2, min_samples_split=6, n_estimators=300 \n",
      "[CV]  max_depth=5, min_samples_leaf=2, min_samples_split=6, n_estimators=200, total=  12.4s\n",
      "[CV] max_depth=5, min_samples_leaf=2, min_samples_split=6, n_estimators=300 \n",
      "[CV]  max_depth=5, min_samples_leaf=2, min_samples_split=6, n_estimators=200, total=  12.6s\n",
      "[CV] max_depth=5, min_samples_leaf=2, min_samples_split=6, n_estimators=300 \n",
      "[CV]  max_depth=5, min_samples_leaf=2, min_samples_split=6, n_estimators=300, total=  18.1s\n",
      "[CV] max_depth=5, min_samples_leaf=4, min_samples_split=2, n_estimators=100 \n",
      "[CV]  max_depth=5, min_samples_leaf=2, min_samples_split=6, n_estimators=300, total=  18.1s\n",
      "[CV] max_depth=5, min_samples_leaf=4, min_samples_split=2, n_estimators=100 \n",
      "[CV]  max_depth=5, min_samples_leaf=2, min_samples_split=6, n_estimators=300, total=  18.4s\n",
      "[CV] max_depth=5, min_samples_leaf=4, min_samples_split=2, n_estimators=100 \n",
      "[CV]  max_depth=5, min_samples_leaf=4, min_samples_split=2, n_estimators=100, total=   6.2s\n",
      "[CV] max_depth=5, min_samples_leaf=4, min_samples_split=2, n_estimators=200 \n",
      "[CV]  max_depth=5, min_samples_leaf=4, min_samples_split=2, n_estimators=100, total=   6.2s\n",
      "[CV] max_depth=5, min_samples_leaf=4, min_samples_split=2, n_estimators=200 \n",
      "[CV]  max_depth=5, min_samples_leaf=4, min_samples_split=2, n_estimators=100, total=   6.3s\n",
      "[CV] max_depth=5, min_samples_leaf=4, min_samples_split=2, n_estimators=200 \n",
      "[CV]  max_depth=5, min_samples_leaf=4, min_samples_split=2, n_estimators=200, total=  12.3s\n",
      "[CV] max_depth=5, min_samples_leaf=4, min_samples_split=2, n_estimators=300 \n",
      "[CV]  max_depth=5, min_samples_leaf=4, min_samples_split=2, n_estimators=200, total=  12.3s\n",
      "[CV] max_depth=5, min_samples_leaf=4, min_samples_split=2, n_estimators=300 \n",
      "[CV]  max_depth=5, min_samples_leaf=4, min_samples_split=2, n_estimators=200, total=  12.4s\n",
      "[CV] max_depth=5, min_samples_leaf=4, min_samples_split=2, n_estimators=300 \n",
      "[CV]  max_depth=5, min_samples_leaf=4, min_samples_split=2, n_estimators=300, total=  18.5s\n",
      "[CV] max_depth=5, min_samples_leaf=4, min_samples_split=4, n_estimators=100 \n",
      "[CV]  max_depth=5, min_samples_leaf=4, min_samples_split=2, n_estimators=300, total=  18.4s\n",
      "[CV] max_depth=5, min_samples_leaf=4, min_samples_split=4, n_estimators=100 \n"
     ]
    },
    {
     "name": "stderr",
     "output_type": "stream",
     "text": [
      "[Parallel(n_jobs=3)]: Done  35 tasks      | elapsed:  2.8min\n"
     ]
    },
    {
     "name": "stdout",
     "output_type": "stream",
     "text": [
      "[CV]  max_depth=5, min_samples_leaf=4, min_samples_split=2, n_estimators=300, total=  18.8s\n",
      "[CV] max_depth=5, min_samples_leaf=4, min_samples_split=4, n_estimators=100 \n",
      "[CV]  max_depth=5, min_samples_leaf=4, min_samples_split=4, n_estimators=100, total=   6.3s\n",
      "[CV] max_depth=5, min_samples_leaf=4, min_samples_split=4, n_estimators=200 \n",
      "[CV]  max_depth=5, min_samples_leaf=4, min_samples_split=4, n_estimators=100, total=   6.2s\n",
      "[CV] max_depth=5, min_samples_leaf=4, min_samples_split=4, n_estimators=200 \n",
      "[CV]  max_depth=5, min_samples_leaf=4, min_samples_split=4, n_estimators=100, total=   6.3s\n",
      "[CV] max_depth=5, min_samples_leaf=4, min_samples_split=4, n_estimators=200 \n",
      "[CV]  max_depth=5, min_samples_leaf=4, min_samples_split=4, n_estimators=200, total=  12.3s\n",
      "[CV] max_depth=5, min_samples_leaf=4, min_samples_split=4, n_estimators=300 \n",
      "[CV]  max_depth=5, min_samples_leaf=4, min_samples_split=4, n_estimators=200, total=  12.3s\n",
      "[CV] max_depth=5, min_samples_leaf=4, min_samples_split=4, n_estimators=300 \n",
      "[CV]  max_depth=5, min_samples_leaf=4, min_samples_split=4, n_estimators=200, total=  12.3s\n",
      "[CV] max_depth=5, min_samples_leaf=4, min_samples_split=4, n_estimators=300 \n",
      "[CV]  max_depth=5, min_samples_leaf=4, min_samples_split=4, n_estimators=300, total=  18.6s\n",
      "[CV]  max_depth=5, min_samples_leaf=4, min_samples_split=4, n_estimators=300, total=  18.4s\n",
      "[CV] max_depth=5, min_samples_leaf=4, min_samples_split=6, n_estimators=100 \n",
      "[CV] max_depth=5, min_samples_leaf=4, min_samples_split=6, n_estimators=100 \n",
      "[CV]  max_depth=5, min_samples_leaf=4, min_samples_split=4, n_estimators=300, total=  18.8s\n",
      "[CV] max_depth=5, min_samples_leaf=4, min_samples_split=6, n_estimators=100 \n",
      "[CV]  max_depth=5, min_samples_leaf=4, min_samples_split=6, n_estimators=100, total=   6.1s\n",
      "[CV] max_depth=5, min_samples_leaf=4, min_samples_split=6, n_estimators=200 \n",
      "[CV]  max_depth=5, min_samples_leaf=4, min_samples_split=6, n_estimators=100, total=   6.1s\n",
      "[CV] max_depth=5, min_samples_leaf=4, min_samples_split=6, n_estimators=200 \n",
      "[CV]  max_depth=5, min_samples_leaf=4, min_samples_split=6, n_estimators=100, total=   6.3s\n",
      "[CV] max_depth=5, min_samples_leaf=4, min_samples_split=6, n_estimators=200 \n",
      "[CV]  max_depth=5, min_samples_leaf=4, min_samples_split=6, n_estimators=200, total=  12.5s\n",
      "[CV] max_depth=5, min_samples_leaf=4, min_samples_split=6, n_estimators=300 \n",
      "[CV]  max_depth=5, min_samples_leaf=4, min_samples_split=6, n_estimators=200, total=  12.4s\n",
      "[CV] max_depth=5, min_samples_leaf=4, min_samples_split=6, n_estimators=300 \n",
      "[CV]  max_depth=5, min_samples_leaf=4, min_samples_split=6, n_estimators=200, total=  12.6s\n",
      "[CV] max_depth=5, min_samples_leaf=4, min_samples_split=6, n_estimators=300 \n",
      "[CV]  max_depth=5, min_samples_leaf=4, min_samples_split=6, n_estimators=300, total=  18.8s\n",
      "[CV]  max_depth=5, min_samples_leaf=4, min_samples_split=6, n_estimators=300, total=  18.7s\n",
      "[CV] max_depth=6, min_samples_leaf=2, min_samples_split=2, n_estimators=100 \n",
      "[CV] max_depth=6, min_samples_leaf=2, min_samples_split=2, n_estimators=100 \n",
      "[CV]  max_depth=5, min_samples_leaf=4, min_samples_split=6, n_estimators=300, total=  19.1s\n",
      "[CV] max_depth=6, min_samples_leaf=2, min_samples_split=2, n_estimators=100 \n",
      "[CV]  max_depth=6, min_samples_leaf=2, min_samples_split=2, n_estimators=100, total=   7.0s\n",
      "[CV] max_depth=6, min_samples_leaf=2, min_samples_split=2, n_estimators=200 \n",
      "[CV]  max_depth=6, min_samples_leaf=2, min_samples_split=2, n_estimators=100, total=   7.0s\n",
      "[CV] max_depth=6, min_samples_leaf=2, min_samples_split=2, n_estimators=200 \n",
      "[CV]  max_depth=6, min_samples_leaf=2, min_samples_split=2, n_estimators=100, total=   7.2s\n",
      "[CV] max_depth=6, min_samples_leaf=2, min_samples_split=2, n_estimators=200 \n",
      "[CV]  max_depth=6, min_samples_leaf=2, min_samples_split=2, n_estimators=200, total=  14.0s\n",
      "[CV] max_depth=6, min_samples_leaf=2, min_samples_split=2, n_estimators=300 \n",
      "[CV]  max_depth=6, min_samples_leaf=2, min_samples_split=2, n_estimators=200, total=  14.0s\n",
      "[CV] max_depth=6, min_samples_leaf=2, min_samples_split=2, n_estimators=300 \n",
      "[CV]  max_depth=6, min_samples_leaf=2, min_samples_split=2, n_estimators=200, total=  14.2s\n",
      "[CV] max_depth=6, min_samples_leaf=2, min_samples_split=2, n_estimators=300 \n",
      "[CV]  max_depth=6, min_samples_leaf=2, min_samples_split=2, n_estimators=300, total=  20.5s\n",
      "[CV] max_depth=6, min_samples_leaf=2, min_samples_split=4, n_estimators=100 \n",
      "[CV]  max_depth=6, min_samples_leaf=2, min_samples_split=2, n_estimators=300, total=  20.3s\n",
      "[CV] max_depth=6, min_samples_leaf=2, min_samples_split=4, n_estimators=100 \n",
      "[CV]  max_depth=6, min_samples_leaf=2, min_samples_split=2, n_estimators=300, total=  21.1s\n",
      "[CV] max_depth=6, min_samples_leaf=2, min_samples_split=4, n_estimators=100 \n",
      "[CV]  max_depth=6, min_samples_leaf=2, min_samples_split=4, n_estimators=100, total=   7.3s\n",
      "[CV] max_depth=6, min_samples_leaf=2, min_samples_split=4, n_estimators=200 \n",
      "[CV]  max_depth=6, min_samples_leaf=2, min_samples_split=4, n_estimators=100, total=   7.4s\n",
      "[CV] max_depth=6, min_samples_leaf=2, min_samples_split=4, n_estimators=200 \n",
      "[CV]  max_depth=6, min_samples_leaf=2, min_samples_split=4, n_estimators=100, total=   7.1s\n",
      "[CV] max_depth=6, min_samples_leaf=2, min_samples_split=4, n_estimators=200 \n",
      "[CV]  max_depth=6, min_samples_leaf=2, min_samples_split=4, n_estimators=200, total=  14.4s\n",
      "[CV] max_depth=6, min_samples_leaf=2, min_samples_split=4, n_estimators=300 \n",
      "[CV]  max_depth=6, min_samples_leaf=2, min_samples_split=4, n_estimators=200, total=  14.3s\n",
      "[CV] max_depth=6, min_samples_leaf=2, min_samples_split=4, n_estimators=300 \n",
      "[CV]  max_depth=6, min_samples_leaf=2, min_samples_split=4, n_estimators=200, total=  14.6s\n",
      "[CV] max_depth=6, min_samples_leaf=2, min_samples_split=4, n_estimators=300 \n",
      "[CV]  max_depth=6, min_samples_leaf=2, min_samples_split=4, n_estimators=300, total=  21.8s\n",
      "[CV] max_depth=6, min_samples_leaf=2, min_samples_split=6, n_estimators=100 \n",
      "[CV]  max_depth=6, min_samples_leaf=2, min_samples_split=4, n_estimators=300, total=  21.8s\n",
      "[CV] max_depth=6, min_samples_leaf=2, min_samples_split=6, n_estimators=100 \n",
      "[CV]  max_depth=6, min_samples_leaf=2, min_samples_split=4, n_estimators=300, total=  22.0s\n",
      "[CV] max_depth=6, min_samples_leaf=2, min_samples_split=6, n_estimators=100 \n",
      "[CV]  max_depth=6, min_samples_leaf=2, min_samples_split=6, n_estimators=100, total=   7.1s\n",
      "[CV] max_depth=6, min_samples_leaf=2, min_samples_split=6, n_estimators=200 \n",
      "[CV]  max_depth=6, min_samples_leaf=2, min_samples_split=6, n_estimators=100, total=   7.3s\n",
      "[CV] max_depth=6, min_samples_leaf=2, min_samples_split=6, n_estimators=200 \n",
      "[CV]  max_depth=6, min_samples_leaf=2, min_samples_split=6, n_estimators=100, total=   7.2s\n",
      "[CV] max_depth=6, min_samples_leaf=2, min_samples_split=6, n_estimators=200 \n",
      "[CV]  max_depth=6, min_samples_leaf=2, min_samples_split=6, n_estimators=200, total=  14.4s\n",
      "[CV] max_depth=6, min_samples_leaf=2, min_samples_split=6, n_estimators=300 \n",
      "[CV]  max_depth=6, min_samples_leaf=2, min_samples_split=6, n_estimators=200, total=  14.3s\n",
      "[CV] max_depth=6, min_samples_leaf=2, min_samples_split=6, n_estimators=300 \n",
      "[CV]  max_depth=6, min_samples_leaf=2, min_samples_split=6, n_estimators=200, total=  14.1s\n",
      "[CV] max_depth=6, min_samples_leaf=2, min_samples_split=6, n_estimators=300 \n",
      "[CV]  max_depth=6, min_samples_leaf=2, min_samples_split=6, n_estimators=300, total=  20.8s\n",
      "[CV] max_depth=6, min_samples_leaf=4, min_samples_split=2, n_estimators=100 \n",
      "[CV]  max_depth=6, min_samples_leaf=2, min_samples_split=6, n_estimators=300, total=  20.8s\n",
      "[CV] max_depth=6, min_samples_leaf=4, min_samples_split=2, n_estimators=100 \n",
      "[CV]  max_depth=6, min_samples_leaf=2, min_samples_split=6, n_estimators=300, total=  21.1s\n",
      "[CV] max_depth=6, min_samples_leaf=4, min_samples_split=2, n_estimators=100 \n",
      "[CV]  max_depth=6, min_samples_leaf=4, min_samples_split=2, n_estimators=100, total=   7.3s\n",
      "[CV] max_depth=6, min_samples_leaf=4, min_samples_split=2, n_estimators=200 \n",
      "[CV]  max_depth=6, min_samples_leaf=4, min_samples_split=2, n_estimators=100, total=   7.2s\n",
      "[CV] max_depth=6, min_samples_leaf=4, min_samples_split=2, n_estimators=200 \n",
      "[CV]  max_depth=6, min_samples_leaf=4, min_samples_split=2, n_estimators=100, total=   7.2s\n",
      "[CV] max_depth=6, min_samples_leaf=4, min_samples_split=2, n_estimators=200 \n",
      "[CV]  max_depth=6, min_samples_leaf=4, min_samples_split=2, n_estimators=200, total=  14.1s\n",
      "[CV] max_depth=6, min_samples_leaf=4, min_samples_split=2, n_estimators=300 \n",
      "[CV]  max_depth=6, min_samples_leaf=4, min_samples_split=2, n_estimators=200, total=  14.3s\n",
      "[CV] max_depth=6, min_samples_leaf=4, min_samples_split=2, n_estimators=300 \n",
      "[CV]  max_depth=6, min_samples_leaf=4, min_samples_split=2, n_estimators=200, total=  14.3s\n",
      "[CV] max_depth=6, min_samples_leaf=4, min_samples_split=2, n_estimators=300 \n",
      "[CV]  max_depth=6, min_samples_leaf=4, min_samples_split=2, n_estimators=300, total=  20.9s\n",
      "[CV] max_depth=6, min_samples_leaf=4, min_samples_split=4, n_estimators=100 \n",
      "[CV]  max_depth=6, min_samples_leaf=4, min_samples_split=2, n_estimators=300, total=  21.0s\n",
      "[CV] max_depth=6, min_samples_leaf=4, min_samples_split=4, n_estimators=100 \n",
      "[CV]  max_depth=6, min_samples_leaf=4, min_samples_split=2, n_estimators=300, total=  21.2s\n",
      "[CV] max_depth=6, min_samples_leaf=4, min_samples_split=4, n_estimators=100 \n",
      "[CV]  max_depth=6, min_samples_leaf=4, min_samples_split=4, n_estimators=100, total=   7.2s\n",
      "[CV] max_depth=6, min_samples_leaf=4, min_samples_split=4, n_estimators=200 \n",
      "[CV]  max_depth=6, min_samples_leaf=4, min_samples_split=4, n_estimators=100, total=   7.3s\n",
      "[CV] max_depth=6, min_samples_leaf=4, min_samples_split=4, n_estimators=200 \n",
      "[CV]  max_depth=6, min_samples_leaf=4, min_samples_split=4, n_estimators=100, total=   7.2s\n",
      "[CV] max_depth=6, min_samples_leaf=4, min_samples_split=4, n_estimators=200 \n",
      "[CV]  max_depth=6, min_samples_leaf=4, min_samples_split=4, n_estimators=200, total=  14.0s\n",
      "[CV] max_depth=6, min_samples_leaf=4, min_samples_split=4, n_estimators=300 \n",
      "[CV]  max_depth=6, min_samples_leaf=4, min_samples_split=4, n_estimators=200, total=  13.8s\n",
      "[CV] max_depth=6, min_samples_leaf=4, min_samples_split=4, n_estimators=300 \n",
      "[CV]  max_depth=6, min_samples_leaf=4, min_samples_split=4, n_estimators=200, total=  14.0s\n",
      "[CV] max_depth=6, min_samples_leaf=4, min_samples_split=4, n_estimators=300 \n",
      "[CV]  max_depth=6, min_samples_leaf=4, min_samples_split=4, n_estimators=300, total=  20.6s\n",
      "[CV]  max_depth=6, min_samples_leaf=4, min_samples_split=4, n_estimators=300, total=  20.4s\n",
      "[CV] max_depth=6, min_samples_leaf=4, min_samples_split=6, n_estimators=100 \n",
      "[CV] max_depth=6, min_samples_leaf=4, min_samples_split=6, n_estimators=100 \n",
      "[CV]  max_depth=6, min_samples_leaf=4, min_samples_split=4, n_estimators=300, total=  21.0s\n",
      "[CV] max_depth=6, min_samples_leaf=4, min_samples_split=6, n_estimators=100 \n",
      "[CV]  max_depth=6, min_samples_leaf=4, min_samples_split=6, n_estimators=100, total=   7.3s\n",
      "[CV] max_depth=6, min_samples_leaf=4, min_samples_split=6, n_estimators=200 \n",
      "[CV]  max_depth=6, min_samples_leaf=4, min_samples_split=6, n_estimators=100, total=   7.3s\n",
      "[CV] max_depth=6, min_samples_leaf=4, min_samples_split=6, n_estimators=200 \n",
      "[CV]  max_depth=6, min_samples_leaf=4, min_samples_split=6, n_estimators=100, total=   7.2s\n",
      "[CV] max_depth=6, min_samples_leaf=4, min_samples_split=6, n_estimators=200 \n",
      "[CV]  max_depth=6, min_samples_leaf=4, min_samples_split=6, n_estimators=200, total=  14.1s\n",
      "[CV]  max_depth=6, min_samples_leaf=4, min_samples_split=6, n_estimators=200, total=  14.1s\n",
      "[CV] max_depth=6, min_samples_leaf=4, min_samples_split=6, n_estimators=300 \n",
      "[CV] max_depth=6, min_samples_leaf=4, min_samples_split=6, n_estimators=300 \n",
      "[CV]  max_depth=6, min_samples_leaf=4, min_samples_split=6, n_estimators=200, total=  14.3s\n",
      "[CV] max_depth=6, min_samples_leaf=4, min_samples_split=6, n_estimators=300 \n",
      "[CV]  max_depth=6, min_samples_leaf=4, min_samples_split=6, n_estimators=300, total=  21.4s\n",
      "[CV] max_depth=7, min_samples_leaf=2, min_samples_split=2, n_estimators=100 \n",
      "[CV]  max_depth=6, min_samples_leaf=4, min_samples_split=6, n_estimators=300, total=  21.6s\n",
      "[CV] max_depth=7, min_samples_leaf=2, min_samples_split=2, n_estimators=100 \n",
      "[CV]  max_depth=6, min_samples_leaf=4, min_samples_split=6, n_estimators=300, total=  21.7s\n",
      "[CV] max_depth=7, min_samples_leaf=2, min_samples_split=2, n_estimators=100 \n",
      "[CV]  max_depth=7, min_samples_leaf=2, min_samples_split=2, n_estimators=100, total=   8.4s\n",
      "[CV] max_depth=7, min_samples_leaf=2, min_samples_split=2, n_estimators=200 \n",
      "[CV]  max_depth=7, min_samples_leaf=2, min_samples_split=2, n_estimators=100, total=   8.5s\n",
      "[CV] max_depth=7, min_samples_leaf=2, min_samples_split=2, n_estimators=200 \n",
      "[CV]  max_depth=7, min_samples_leaf=2, min_samples_split=2, n_estimators=100, total=   7.8s\n",
      "[CV] max_depth=7, min_samples_leaf=2, min_samples_split=2, n_estimators=200 \n",
      "[CV]  max_depth=7, min_samples_leaf=2, min_samples_split=2, n_estimators=200, total=  15.4s\n",
      "[CV] max_depth=7, min_samples_leaf=2, min_samples_split=2, n_estimators=300 \n",
      "[CV]  max_depth=7, min_samples_leaf=2, min_samples_split=2, n_estimators=200, total=  15.4s\n",
      "[CV] max_depth=7, min_samples_leaf=2, min_samples_split=2, n_estimators=300 \n",
      "[CV]  max_depth=7, min_samples_leaf=2, min_samples_split=2, n_estimators=200, total=  15.9s\n",
      "[CV] max_depth=7, min_samples_leaf=2, min_samples_split=2, n_estimators=300 \n",
      "[CV]  max_depth=7, min_samples_leaf=2, min_samples_split=2, n_estimators=300, total=  23.2s\n",
      "[CV] max_depth=7, min_samples_leaf=2, min_samples_split=4, n_estimators=100 \n",
      "[CV]  max_depth=7, min_samples_leaf=2, min_samples_split=2, n_estimators=300, total=  23.1s\n",
      "[CV] max_depth=7, min_samples_leaf=2, min_samples_split=4, n_estimators=100 \n",
      "[CV]  max_depth=7, min_samples_leaf=2, min_samples_split=2, n_estimators=300, total=  23.7s\n",
      "[CV] max_depth=7, min_samples_leaf=2, min_samples_split=4, n_estimators=100 \n",
      "[CV]  max_depth=7, min_samples_leaf=2, min_samples_split=4, n_estimators=100, total=   8.1s\n",
      "[CV] max_depth=7, min_samples_leaf=2, min_samples_split=4, n_estimators=200 \n",
      "[CV]  max_depth=7, min_samples_leaf=2, min_samples_split=4, n_estimators=100, total=   8.1s\n",
      "[CV] max_depth=7, min_samples_leaf=2, min_samples_split=4, n_estimators=200 \n",
      "[CV]  max_depth=7, min_samples_leaf=2, min_samples_split=4, n_estimators=100, total=   8.1s\n",
      "[CV] max_depth=7, min_samples_leaf=2, min_samples_split=4, n_estimators=200 \n",
      "[CV]  max_depth=7, min_samples_leaf=2, min_samples_split=4, n_estimators=200, total=  15.5s\n",
      "[CV] max_depth=7, min_samples_leaf=2, min_samples_split=4, n_estimators=300 \n",
      "[CV]  max_depth=7, min_samples_leaf=2, min_samples_split=4, n_estimators=200, total=  15.4s\n",
      "[CV] max_depth=7, min_samples_leaf=2, min_samples_split=4, n_estimators=300 \n",
      "[CV]  max_depth=7, min_samples_leaf=2, min_samples_split=4, n_estimators=200, total=  15.4s\n",
      "[CV] max_depth=7, min_samples_leaf=2, min_samples_split=4, n_estimators=300 \n",
      "[CV]  max_depth=7, min_samples_leaf=2, min_samples_split=4, n_estimators=300, total=  23.1s\n",
      "[CV] max_depth=7, min_samples_leaf=2, min_samples_split=6, n_estimators=100 \n",
      "[CV]  max_depth=7, min_samples_leaf=2, min_samples_split=4, n_estimators=300, total=  23.3s\n",
      "[CV] max_depth=7, min_samples_leaf=2, min_samples_split=6, n_estimators=100 \n",
      "[CV]  max_depth=7, min_samples_leaf=2, min_samples_split=4, n_estimators=300, total=  24.3s\n",
      "[CV] max_depth=7, min_samples_leaf=2, min_samples_split=6, n_estimators=100 \n",
      "[CV]  max_depth=7, min_samples_leaf=2, min_samples_split=6, n_estimators=100, total=   8.0s\n",
      "[CV]  max_depth=7, min_samples_leaf=2, min_samples_split=6, n_estimators=100, total=   8.1s\n",
      "[CV] max_depth=7, min_samples_leaf=2, min_samples_split=6, n_estimators=200 \n",
      "[CV] max_depth=7, min_samples_leaf=2, min_samples_split=6, n_estimators=200 \n",
      "[CV]  max_depth=7, min_samples_leaf=2, min_samples_split=6, n_estimators=100, total=   7.9s\n",
      "[CV] max_depth=7, min_samples_leaf=2, min_samples_split=6, n_estimators=200 \n",
      "[CV]  max_depth=7, min_samples_leaf=2, min_samples_split=6, n_estimators=200, total=  15.6s\n",
      "[CV] max_depth=7, min_samples_leaf=2, min_samples_split=6, n_estimators=300 \n",
      "[CV]  max_depth=7, min_samples_leaf=2, min_samples_split=6, n_estimators=200, total=  15.6s\n",
      "[CV] max_depth=7, min_samples_leaf=2, min_samples_split=6, n_estimators=300 \n",
      "[CV]  max_depth=7, min_samples_leaf=2, min_samples_split=6, n_estimators=200, total=  15.9s\n",
      "[CV] max_depth=7, min_samples_leaf=2, min_samples_split=6, n_estimators=300 \n",
      "[CV]  max_depth=7, min_samples_leaf=2, min_samples_split=6, n_estimators=300, total=  24.3s\n",
      "[CV] max_depth=7, min_samples_leaf=4, min_samples_split=2, n_estimators=100 \n",
      "[CV]  max_depth=7, min_samples_leaf=2, min_samples_split=6, n_estimators=300, total=  24.2s\n",
      "[CV] max_depth=7, min_samples_leaf=4, min_samples_split=2, n_estimators=100 \n",
      "[CV]  max_depth=7, min_samples_leaf=4, min_samples_split=2, n_estimators=100, total=   7.7s\n",
      "[CV] max_depth=7, min_samples_leaf=4, min_samples_split=2, n_estimators=100 \n",
      "[CV]  max_depth=7, min_samples_leaf=4, min_samples_split=2, n_estimators=100, total=   7.6s\n",
      "[CV] max_depth=7, min_samples_leaf=4, min_samples_split=2, n_estimators=200 \n",
      "[CV]  max_depth=7, min_samples_leaf=2, min_samples_split=6, n_estimators=300, total=  24.4s\n",
      "[CV] max_depth=7, min_samples_leaf=4, min_samples_split=2, n_estimators=200 \n",
      "[CV]  max_depth=7, min_samples_leaf=4, min_samples_split=2, n_estimators=100, total=   8.2s\n",
      "[CV] max_depth=7, min_samples_leaf=4, min_samples_split=2, n_estimators=200 \n",
      "[CV]  max_depth=7, min_samples_leaf=4, min_samples_split=2, n_estimators=200, total=  16.0s\n",
      "[CV]  max_depth=7, min_samples_leaf=4, min_samples_split=2, n_estimators=200, total=  15.9s\n",
      "[CV] max_depth=7, min_samples_leaf=4, min_samples_split=2, n_estimators=300 \n",
      "[CV] max_depth=7, min_samples_leaf=4, min_samples_split=2, n_estimators=300 \n",
      "[CV]  max_depth=7, min_samples_leaf=4, min_samples_split=2, n_estimators=200, total=  15.6s\n",
      "[CV] max_depth=7, min_samples_leaf=4, min_samples_split=2, n_estimators=300 \n",
      "[CV]  max_depth=7, min_samples_leaf=4, min_samples_split=2, n_estimators=300, total=  23.7s\n",
      "[CV] max_depth=7, min_samples_leaf=4, min_samples_split=4, n_estimators=100 \n",
      "[CV]  max_depth=7, min_samples_leaf=4, min_samples_split=2, n_estimators=300, total=  23.7s\n",
      "[CV] max_depth=7, min_samples_leaf=4, min_samples_split=4, n_estimators=100 \n",
      "[CV]  max_depth=7, min_samples_leaf=4, min_samples_split=4, n_estimators=100, total=   8.2s\n",
      "[CV]  max_depth=7, min_samples_leaf=4, min_samples_split=2, n_estimators=300, total=  24.3s\n",
      "[CV] max_depth=7, min_samples_leaf=4, min_samples_split=4, n_estimators=100 \n",
      "[CV] max_depth=7, min_samples_leaf=4, min_samples_split=4, n_estimators=200 \n",
      "[CV]  max_depth=7, min_samples_leaf=4, min_samples_split=4, n_estimators=100, total=   8.1s\n",
      "[CV] max_depth=7, min_samples_leaf=4, min_samples_split=4, n_estimators=200 \n",
      "[CV]  max_depth=7, min_samples_leaf=4, min_samples_split=4, n_estimators=100, total=   7.7s\n",
      "[CV] max_depth=7, min_samples_leaf=4, min_samples_split=4, n_estimators=200 \n",
      "[CV]  max_depth=7, min_samples_leaf=4, min_samples_split=4, n_estimators=200, total=  15.5s\n",
      "[CV] max_depth=7, min_samples_leaf=4, min_samples_split=4, n_estimators=300 \n",
      "[CV]  max_depth=7, min_samples_leaf=4, min_samples_split=4, n_estimators=200, total=  15.5s\n",
      "[CV] max_depth=7, min_samples_leaf=4, min_samples_split=4, n_estimators=300 \n",
      "[CV]  max_depth=7, min_samples_leaf=4, min_samples_split=4, n_estimators=200, total=  15.5s\n",
      "[CV] max_depth=7, min_samples_leaf=4, min_samples_split=4, n_estimators=300 \n",
      "[CV]  max_depth=7, min_samples_leaf=4, min_samples_split=4, n_estimators=300, total=  24.0s\n",
      "[CV]  max_depth=7, min_samples_leaf=4, min_samples_split=4, n_estimators=300, total=  23.8s\n",
      "[CV] max_depth=7, min_samples_leaf=4, min_samples_split=6, n_estimators=100 \n",
      "[CV] max_depth=7, min_samples_leaf=4, min_samples_split=6, n_estimators=100 \n",
      "[CV]  max_depth=7, min_samples_leaf=4, min_samples_split=4, n_estimators=300, total=  23.8s\n",
      "[CV] max_depth=7, min_samples_leaf=4, min_samples_split=6, n_estimators=100 \n",
      "[CV]  max_depth=7, min_samples_leaf=4, min_samples_split=6, n_estimators=100, total=   8.2s\n",
      "[CV]  max_depth=7, min_samples_leaf=4, min_samples_split=6, n_estimators=100, total=   8.2s\n",
      "[CV] max_depth=7, min_samples_leaf=4, min_samples_split=6, n_estimators=200 \n",
      "[CV] max_depth=7, min_samples_leaf=4, min_samples_split=6, n_estimators=200 \n",
      "[CV]  max_depth=7, min_samples_leaf=4, min_samples_split=6, n_estimators=100, total=   8.1s\n",
      "[CV] max_depth=7, min_samples_leaf=4, min_samples_split=6, n_estimators=200 \n"
     ]
    },
    {
     "name": "stderr",
     "output_type": "stream",
     "text": [
      "[Parallel(n_jobs=3)]: Done 156 tasks      | elapsed: 14.0min\n"
     ]
    },
    {
     "name": "stdout",
     "output_type": "stream",
     "text": [
      "[CV]  max_depth=7, min_samples_leaf=4, min_samples_split=6, n_estimators=200, total=  16.3s\n",
      "[CV]  max_depth=7, min_samples_leaf=4, min_samples_split=6, n_estimators=200, total=  16.2s\n",
      "[CV] max_depth=7, min_samples_leaf=4, min_samples_split=6, n_estimators=300 \n",
      "[CV] max_depth=7, min_samples_leaf=4, min_samples_split=6, n_estimators=300 \n",
      "[CV]  max_depth=7, min_samples_leaf=4, min_samples_split=6, n_estimators=200, total=  16.5s\n",
      "[CV] max_depth=7, min_samples_leaf=4, min_samples_split=6, n_estimators=300 \n",
      "[CV]  max_depth=7, min_samples_leaf=4, min_samples_split=6, n_estimators=300, total=  24.5s\n",
      "[CV] max_depth=8, min_samples_leaf=2, min_samples_split=2, n_estimators=100 \n",
      "[CV]  max_depth=7, min_samples_leaf=4, min_samples_split=6, n_estimators=300, total=  24.5s\n",
      "[CV] max_depth=8, min_samples_leaf=2, min_samples_split=2, n_estimators=100 \n",
      "[CV]  max_depth=7, min_samples_leaf=4, min_samples_split=6, n_estimators=300, total=  24.0s\n",
      "[CV] max_depth=8, min_samples_leaf=2, min_samples_split=2, n_estimators=100 \n",
      "[CV]  max_depth=8, min_samples_leaf=2, min_samples_split=2, n_estimators=100, total=   8.5s\n",
      "[CV] max_depth=8, min_samples_leaf=2, min_samples_split=2, n_estimators=200 \n",
      "[CV]  max_depth=8, min_samples_leaf=2, min_samples_split=2, n_estimators=100, total=   8.7s\n",
      "[CV] max_depth=8, min_samples_leaf=2, min_samples_split=2, n_estimators=200 \n",
      "[CV]  max_depth=8, min_samples_leaf=2, min_samples_split=2, n_estimators=100, total=   8.7s\n",
      "[CV] max_depth=8, min_samples_leaf=2, min_samples_split=2, n_estimators=200 \n",
      "[CV]  max_depth=8, min_samples_leaf=2, min_samples_split=2, n_estimators=200, total=  17.5s\n",
      "[CV] max_depth=8, min_samples_leaf=2, min_samples_split=2, n_estimators=300 \n",
      "[CV]  max_depth=8, min_samples_leaf=2, min_samples_split=2, n_estimators=200, total=  17.5s\n",
      "[CV] max_depth=8, min_samples_leaf=2, min_samples_split=2, n_estimators=300 \n",
      "[CV]  max_depth=8, min_samples_leaf=2, min_samples_split=2, n_estimators=200, total=  18.1s\n",
      "[CV] max_depth=8, min_samples_leaf=2, min_samples_split=2, n_estimators=300 \n",
      "[CV]  max_depth=8, min_samples_leaf=2, min_samples_split=2, n_estimators=300, total=  25.7s\n",
      "[CV] max_depth=8, min_samples_leaf=2, min_samples_split=4, n_estimators=100 \n",
      "[CV]  max_depth=8, min_samples_leaf=2, min_samples_split=2, n_estimators=300, total=  26.0s\n",
      "[CV] max_depth=8, min_samples_leaf=2, min_samples_split=4, n_estimators=100 \n",
      "[CV]  max_depth=8, min_samples_leaf=2, min_samples_split=2, n_estimators=300, total=  26.2s\n",
      "[CV] max_depth=8, min_samples_leaf=2, min_samples_split=4, n_estimators=100 \n",
      "[CV]  max_depth=8, min_samples_leaf=2, min_samples_split=4, n_estimators=100, total=   9.0s\n",
      "[CV] max_depth=8, min_samples_leaf=2, min_samples_split=4, n_estimators=200 \n",
      "[CV]  max_depth=8, min_samples_leaf=2, min_samples_split=4, n_estimators=100, total=   8.9s\n",
      "[CV] max_depth=8, min_samples_leaf=2, min_samples_split=4, n_estimators=200 \n",
      "[CV]  max_depth=8, min_samples_leaf=2, min_samples_split=4, n_estimators=100, total=   8.7s\n",
      "[CV] max_depth=8, min_samples_leaf=2, min_samples_split=4, n_estimators=200 \n",
      "[CV]  max_depth=8, min_samples_leaf=2, min_samples_split=4, n_estimators=200, total=  17.5s\n",
      "[CV] max_depth=8, min_samples_leaf=2, min_samples_split=4, n_estimators=300 \n",
      "[CV]  max_depth=8, min_samples_leaf=2, min_samples_split=4, n_estimators=200, total=  17.5s\n",
      "[CV] max_depth=8, min_samples_leaf=2, min_samples_split=4, n_estimators=300 \n",
      "[CV]  max_depth=8, min_samples_leaf=2, min_samples_split=4, n_estimators=200, total=  16.8s\n",
      "[CV] max_depth=8, min_samples_leaf=2, min_samples_split=4, n_estimators=300 \n",
      "[CV]  max_depth=8, min_samples_leaf=2, min_samples_split=4, n_estimators=300, total=  25.9s\n",
      "[CV] max_depth=8, min_samples_leaf=2, min_samples_split=6, n_estimators=100 \n",
      "[CV]  max_depth=8, min_samples_leaf=2, min_samples_split=4, n_estimators=300, total=  26.1s\n",
      "[CV] max_depth=8, min_samples_leaf=2, min_samples_split=6, n_estimators=100 \n",
      "[CV]  max_depth=8, min_samples_leaf=2, min_samples_split=4, n_estimators=300, total=  26.0s\n",
      "[CV] max_depth=8, min_samples_leaf=2, min_samples_split=6, n_estimators=100 \n",
      "[CV]  max_depth=8, min_samples_leaf=2, min_samples_split=6, n_estimators=100, total=   9.5s\n",
      "[CV]  max_depth=8, min_samples_leaf=2, min_samples_split=6, n_estimators=100, total=   9.3s\n",
      "[CV] max_depth=8, min_samples_leaf=2, min_samples_split=6, n_estimators=200 \n",
      "[CV] max_depth=8, min_samples_leaf=2, min_samples_split=6, n_estimators=200 \n",
      "[CV]  max_depth=8, min_samples_leaf=2, min_samples_split=6, n_estimators=100, total=   8.9s\n",
      "[CV] max_depth=8, min_samples_leaf=2, min_samples_split=6, n_estimators=200 \n",
      "[CV]  max_depth=8, min_samples_leaf=2, min_samples_split=6, n_estimators=200, total=  17.7s\n",
      "[CV] max_depth=8, min_samples_leaf=2, min_samples_split=6, n_estimators=300 \n",
      "[CV]  max_depth=8, min_samples_leaf=2, min_samples_split=6, n_estimators=200, total=  17.6s\n",
      "[CV] max_depth=8, min_samples_leaf=2, min_samples_split=6, n_estimators=300 \n",
      "[CV]  max_depth=8, min_samples_leaf=2, min_samples_split=6, n_estimators=200, total=  17.7s\n",
      "[CV] max_depth=8, min_samples_leaf=2, min_samples_split=6, n_estimators=300 \n",
      "[CV]  max_depth=8, min_samples_leaf=2, min_samples_split=6, n_estimators=300, total=  25.7s\n",
      "[CV] max_depth=8, min_samples_leaf=4, min_samples_split=2, n_estimators=100 \n",
      "[CV]  max_depth=8, min_samples_leaf=2, min_samples_split=6, n_estimators=300, total=  26.2s\n",
      "[CV] max_depth=8, min_samples_leaf=4, min_samples_split=2, n_estimators=100 \n",
      "[CV]  max_depth=8, min_samples_leaf=2, min_samples_split=6, n_estimators=300, total=  26.2s\n",
      "[CV] max_depth=8, min_samples_leaf=4, min_samples_split=2, n_estimators=100 \n",
      "[CV]  max_depth=8, min_samples_leaf=4, min_samples_split=2, n_estimators=100, total=   8.8s\n",
      "[CV] max_depth=8, min_samples_leaf=4, min_samples_split=2, n_estimators=200 \n",
      "[CV]  max_depth=8, min_samples_leaf=4, min_samples_split=2, n_estimators=100, total=   8.8s\n",
      "[CV] max_depth=8, min_samples_leaf=4, min_samples_split=2, n_estimators=200 \n",
      "[CV]  max_depth=8, min_samples_leaf=4, min_samples_split=2, n_estimators=100, total=   8.5s\n",
      "[CV] max_depth=8, min_samples_leaf=4, min_samples_split=2, n_estimators=200 \n",
      "[CV]  max_depth=8, min_samples_leaf=4, min_samples_split=2, n_estimators=200, total=  17.0s\n",
      "[CV] max_depth=8, min_samples_leaf=4, min_samples_split=2, n_estimators=300 \n",
      "[CV]  max_depth=8, min_samples_leaf=4, min_samples_split=2, n_estimators=200, total=  17.0s\n",
      "[CV] max_depth=8, min_samples_leaf=4, min_samples_split=2, n_estimators=300 \n",
      "[CV]  max_depth=8, min_samples_leaf=4, min_samples_split=2, n_estimators=200, total=  17.4s\n",
      "[CV] max_depth=8, min_samples_leaf=4, min_samples_split=2, n_estimators=300 \n",
      "[CV]  max_depth=8, min_samples_leaf=4, min_samples_split=2, n_estimators=300, total=  26.1s\n",
      "[CV] max_depth=8, min_samples_leaf=4, min_samples_split=4, n_estimators=100 \n",
      "[CV]  max_depth=8, min_samples_leaf=4, min_samples_split=2, n_estimators=300, total=  26.0s\n",
      "[CV] max_depth=8, min_samples_leaf=4, min_samples_split=4, n_estimators=100 \n",
      "[CV]  max_depth=8, min_samples_leaf=4, min_samples_split=2, n_estimators=300, total=  25.9s\n",
      "[CV] max_depth=8, min_samples_leaf=4, min_samples_split=4, n_estimators=100 \n",
      "[CV]  max_depth=8, min_samples_leaf=4, min_samples_split=4, n_estimators=100, total=   8.4s\n",
      "[CV] max_depth=8, min_samples_leaf=4, min_samples_split=4, n_estimators=200 \n",
      "[CV]  max_depth=8, min_samples_leaf=4, min_samples_split=4, n_estimators=100, total=   8.5s\n",
      "[CV] max_depth=8, min_samples_leaf=4, min_samples_split=4, n_estimators=200 \n",
      "[CV]  max_depth=8, min_samples_leaf=4, min_samples_split=4, n_estimators=100, total=   8.6s\n",
      "[CV] max_depth=8, min_samples_leaf=4, min_samples_split=4, n_estimators=200 \n",
      "[CV]  max_depth=8, min_samples_leaf=4, min_samples_split=4, n_estimators=200, total=  17.2s\n",
      "[CV] max_depth=8, min_samples_leaf=4, min_samples_split=4, n_estimators=300 \n",
      "[CV]  max_depth=8, min_samples_leaf=4, min_samples_split=4, n_estimators=200, total=  17.3s\n",
      "[CV] max_depth=8, min_samples_leaf=4, min_samples_split=4, n_estimators=300 \n",
      "[CV]  max_depth=8, min_samples_leaf=4, min_samples_split=4, n_estimators=200, total=  17.8s\n",
      "[CV] max_depth=8, min_samples_leaf=4, min_samples_split=4, n_estimators=300 \n",
      "[CV]  max_depth=8, min_samples_leaf=4, min_samples_split=4, n_estimators=300, total=  27.1s\n",
      "[CV] max_depth=8, min_samples_leaf=4, min_samples_split=6, n_estimators=100 \n",
      "[CV]  max_depth=8, min_samples_leaf=4, min_samples_split=4, n_estimators=300, total=  26.8s\n",
      "[CV] max_depth=8, min_samples_leaf=4, min_samples_split=6, n_estimators=100 \n",
      "[CV]  max_depth=8, min_samples_leaf=4, min_samples_split=4, n_estimators=300, total=  26.4s\n",
      "[CV] max_depth=8, min_samples_leaf=4, min_samples_split=6, n_estimators=100 \n",
      "[CV]  max_depth=8, min_samples_leaf=4, min_samples_split=6, n_estimators=100, total=   8.7s\n",
      "[CV] max_depth=8, min_samples_leaf=4, min_samples_split=6, n_estimators=200 \n",
      "[CV]  max_depth=8, min_samples_leaf=4, min_samples_split=6, n_estimators=100, total=   8.7s\n",
      "[CV] max_depth=8, min_samples_leaf=4, min_samples_split=6, n_estimators=200 \n",
      "[CV]  max_depth=8, min_samples_leaf=4, min_samples_split=6, n_estimators=100, total=   8.7s\n",
      "[CV] max_depth=8, min_samples_leaf=4, min_samples_split=6, n_estimators=200 \n",
      "[CV]  max_depth=8, min_samples_leaf=4, min_samples_split=6, n_estimators=200, total=  17.1s\n",
      "[CV] max_depth=8, min_samples_leaf=4, min_samples_split=6, n_estimators=300 \n",
      "[CV]  max_depth=8, min_samples_leaf=4, min_samples_split=6, n_estimators=200, total=  17.2s\n",
      "[CV] max_depth=8, min_samples_leaf=4, min_samples_split=6, n_estimators=300 \n",
      "[CV]  max_depth=8, min_samples_leaf=4, min_samples_split=6, n_estimators=200, total=  17.4s\n",
      "[CV] max_depth=8, min_samples_leaf=4, min_samples_split=6, n_estimators=300 \n",
      "[CV]  max_depth=8, min_samples_leaf=4, min_samples_split=6, n_estimators=300, total=  26.3s\n",
      "[CV] max_depth=9, min_samples_leaf=2, min_samples_split=2, n_estimators=100 \n",
      "[CV]  max_depth=8, min_samples_leaf=4, min_samples_split=6, n_estimators=300, total=  26.6s\n",
      "[CV] max_depth=9, min_samples_leaf=2, min_samples_split=2, n_estimators=100 \n",
      "[CV]  max_depth=8, min_samples_leaf=4, min_samples_split=6, n_estimators=300, total=  26.5s\n",
      "[CV] max_depth=9, min_samples_leaf=2, min_samples_split=2, n_estimators=100 \n",
      "[CV]  max_depth=9, min_samples_leaf=2, min_samples_split=2, n_estimators=100, total=   9.7s\n",
      "[CV] max_depth=9, min_samples_leaf=2, min_samples_split=2, n_estimators=200 \n",
      "[CV]  max_depth=9, min_samples_leaf=2, min_samples_split=2, n_estimators=100, total=   9.5s\n",
      "[CV] max_depth=9, min_samples_leaf=2, min_samples_split=2, n_estimators=200 \n",
      "[CV]  max_depth=9, min_samples_leaf=2, min_samples_split=2, n_estimators=100, total=   9.9s\n",
      "[CV] max_depth=9, min_samples_leaf=2, min_samples_split=2, n_estimators=200 \n",
      "[CV]  max_depth=9, min_samples_leaf=2, min_samples_split=2, n_estimators=200, total=  19.4s\n",
      "[CV]  max_depth=9, min_samples_leaf=2, min_samples_split=2, n_estimators=200, total=  19.3s\n",
      "[CV] max_depth=9, min_samples_leaf=2, min_samples_split=2, n_estimators=300 \n",
      "[CV] max_depth=9, min_samples_leaf=2, min_samples_split=2, n_estimators=300 \n",
      "[CV]  max_depth=9, min_samples_leaf=2, min_samples_split=2, n_estimators=200, total=  19.0s\n",
      "[CV] max_depth=9, min_samples_leaf=2, min_samples_split=2, n_estimators=300 \n",
      "[CV]  max_depth=9, min_samples_leaf=2, min_samples_split=2, n_estimators=300, total=  28.3s\n",
      "[CV] max_depth=9, min_samples_leaf=2, min_samples_split=4, n_estimators=100 \n",
      "[CV]  max_depth=9, min_samples_leaf=2, min_samples_split=2, n_estimators=300, total=  28.6s\n",
      "[CV] max_depth=9, min_samples_leaf=2, min_samples_split=4, n_estimators=100 \n",
      "[CV]  max_depth=9, min_samples_leaf=2, min_samples_split=2, n_estimators=300, total=  28.9s\n",
      "[CV] max_depth=9, min_samples_leaf=2, min_samples_split=4, n_estimators=100 \n",
      "[CV]  max_depth=9, min_samples_leaf=2, min_samples_split=4, n_estimators=100, total=   9.9s\n",
      "[CV] max_depth=9, min_samples_leaf=2, min_samples_split=4, n_estimators=200 \n",
      "[CV]  max_depth=9, min_samples_leaf=2, min_samples_split=4, n_estimators=100, total=   9.8s\n",
      "[CV] max_depth=9, min_samples_leaf=2, min_samples_split=4, n_estimators=200 \n",
      "[CV]  max_depth=9, min_samples_leaf=2, min_samples_split=4, n_estimators=100, total=   9.3s\n",
      "[CV] max_depth=9, min_samples_leaf=2, min_samples_split=4, n_estimators=200 \n",
      "[CV]  max_depth=9, min_samples_leaf=2, min_samples_split=4, n_estimators=200, total=  19.0s\n",
      "[CV] max_depth=9, min_samples_leaf=2, min_samples_split=4, n_estimators=300 \n",
      "[CV]  max_depth=9, min_samples_leaf=2, min_samples_split=4, n_estimators=200, total=  18.9s\n",
      "[CV] max_depth=9, min_samples_leaf=2, min_samples_split=4, n_estimators=300 \n",
      "[CV]  max_depth=9, min_samples_leaf=2, min_samples_split=4, n_estimators=200, total=  19.2s\n",
      "[CV] max_depth=9, min_samples_leaf=2, min_samples_split=4, n_estimators=300 \n",
      "[CV]  max_depth=9, min_samples_leaf=2, min_samples_split=4, n_estimators=300, total=  28.4s\n",
      "[CV] max_depth=9, min_samples_leaf=2, min_samples_split=6, n_estimators=100 \n",
      "[CV]  max_depth=9, min_samples_leaf=2, min_samples_split=4, n_estimators=300, total=  28.8s\n",
      "[CV] max_depth=9, min_samples_leaf=2, min_samples_split=6, n_estimators=100 \n",
      "[CV]  max_depth=9, min_samples_leaf=2, min_samples_split=4, n_estimators=300, total=  28.6s\n",
      "[CV] max_depth=9, min_samples_leaf=2, min_samples_split=6, n_estimators=100 \n",
      "[CV]  max_depth=9, min_samples_leaf=2, min_samples_split=6, n_estimators=100, total=  10.0s\n",
      "[CV] max_depth=9, min_samples_leaf=2, min_samples_split=6, n_estimators=200 \n",
      "[CV]  max_depth=9, min_samples_leaf=2, min_samples_split=6, n_estimators=100, total=   9.9s\n",
      "[CV] max_depth=9, min_samples_leaf=2, min_samples_split=6, n_estimators=200 \n",
      "[CV]  max_depth=9, min_samples_leaf=2, min_samples_split=6, n_estimators=100, total=   9.9s\n",
      "[CV] max_depth=9, min_samples_leaf=2, min_samples_split=6, n_estimators=200 \n",
      "[CV]  max_depth=9, min_samples_leaf=2, min_samples_split=6, n_estimators=200, total=  19.3s\n",
      "[CV] max_depth=9, min_samples_leaf=2, min_samples_split=6, n_estimators=300 \n",
      "[CV]  max_depth=9, min_samples_leaf=2, min_samples_split=6, n_estimators=200, total=  19.4s\n",
      "[CV] max_depth=9, min_samples_leaf=2, min_samples_split=6, n_estimators=300 \n",
      "[CV]  max_depth=9, min_samples_leaf=2, min_samples_split=6, n_estimators=200, total=  19.0s\n",
      "[CV] max_depth=9, min_samples_leaf=2, min_samples_split=6, n_estimators=300 \n",
      "[CV]  max_depth=9, min_samples_leaf=2, min_samples_split=6, n_estimators=300, total=  28.5s\n",
      "[CV]  max_depth=9, min_samples_leaf=2, min_samples_split=6, n_estimators=300, total=  28.8s\n",
      "[CV] max_depth=9, min_samples_leaf=4, min_samples_split=2, n_estimators=100 \n",
      "[CV] max_depth=9, min_samples_leaf=4, min_samples_split=2, n_estimators=100 \n",
      "[CV]  max_depth=9, min_samples_leaf=2, min_samples_split=6, n_estimators=300, total=  28.5s\n",
      "[CV] max_depth=9, min_samples_leaf=4, min_samples_split=2, n_estimators=100 \n",
      "[CV]  max_depth=9, min_samples_leaf=4, min_samples_split=2, n_estimators=100, total=   9.6s\n",
      "[CV] max_depth=9, min_samples_leaf=4, min_samples_split=2, n_estimators=200 \n",
      "[CV]  max_depth=9, min_samples_leaf=4, min_samples_split=2, n_estimators=100, total=   9.7s\n",
      "[CV] max_depth=9, min_samples_leaf=4, min_samples_split=2, n_estimators=200 \n",
      "[CV]  max_depth=9, min_samples_leaf=4, min_samples_split=2, n_estimators=100, total=  10.3s\n",
      "[CV] max_depth=9, min_samples_leaf=4, min_samples_split=2, n_estimators=200 \n",
      "[CV]  max_depth=9, min_samples_leaf=4, min_samples_split=2, n_estimators=200, total=  19.7s\n",
      "[CV] max_depth=9, min_samples_leaf=4, min_samples_split=2, n_estimators=300 \n",
      "[CV]  max_depth=9, min_samples_leaf=4, min_samples_split=2, n_estimators=200, total=  19.6s\n",
      "[CV] max_depth=9, min_samples_leaf=4, min_samples_split=2, n_estimators=300 \n",
      "[CV]  max_depth=9, min_samples_leaf=4, min_samples_split=2, n_estimators=200, total=  19.3s\n",
      "[CV] max_depth=9, min_samples_leaf=4, min_samples_split=2, n_estimators=300 \n",
      "[CV]  max_depth=9, min_samples_leaf=4, min_samples_split=2, n_estimators=300, total=  28.8s\n",
      "[CV] max_depth=9, min_samples_leaf=4, min_samples_split=4, n_estimators=100 \n",
      "[CV]  max_depth=9, min_samples_leaf=4, min_samples_split=2, n_estimators=300, total=  29.0s\n",
      "[CV] max_depth=9, min_samples_leaf=4, min_samples_split=4, n_estimators=100 \n",
      "[CV]  max_depth=9, min_samples_leaf=4, min_samples_split=2, n_estimators=300, total=  28.7s\n",
      "[CV] max_depth=9, min_samples_leaf=4, min_samples_split=4, n_estimators=100 \n",
      "[CV]  max_depth=9, min_samples_leaf=4, min_samples_split=4, n_estimators=100, total=   9.7s\n",
      "[CV] max_depth=9, min_samples_leaf=4, min_samples_split=4, n_estimators=200 \n",
      "[CV]  max_depth=9, min_samples_leaf=4, min_samples_split=4, n_estimators=100, total=   9.8s\n",
      "[CV] max_depth=9, min_samples_leaf=4, min_samples_split=4, n_estimators=200 \n",
      "[CV]  max_depth=9, min_samples_leaf=4, min_samples_split=4, n_estimators=100, total=   9.3s\n",
      "[CV] max_depth=9, min_samples_leaf=4, min_samples_split=4, n_estimators=200 \n",
      "[CV]  max_depth=9, min_samples_leaf=4, min_samples_split=4, n_estimators=200, total=  18.9s\n",
      "[CV] max_depth=9, min_samples_leaf=4, min_samples_split=4, n_estimators=300 \n",
      "[CV]  max_depth=9, min_samples_leaf=4, min_samples_split=4, n_estimators=200, total=  18.8s\n",
      "[CV] max_depth=9, min_samples_leaf=4, min_samples_split=4, n_estimators=300 \n",
      "[CV]  max_depth=9, min_samples_leaf=4, min_samples_split=4, n_estimators=200, total=  18.5s\n",
      "[CV] max_depth=9, min_samples_leaf=4, min_samples_split=4, n_estimators=300 \n",
      "[CV]  max_depth=9, min_samples_leaf=4, min_samples_split=4, n_estimators=300, total=  28.0s\n",
      "[CV] max_depth=9, min_samples_leaf=4, min_samples_split=6, n_estimators=100 \n",
      "[CV]  max_depth=9, min_samples_leaf=4, min_samples_split=4, n_estimators=300, total=  28.3s\n",
      "[CV] max_depth=9, min_samples_leaf=4, min_samples_split=6, n_estimators=100 \n",
      "[CV]  max_depth=9, min_samples_leaf=4, min_samples_split=4, n_estimators=300, total=  27.8s\n",
      "[CV] max_depth=9, min_samples_leaf=4, min_samples_split=6, n_estimators=100 \n",
      "[CV]  max_depth=9, min_samples_leaf=4, min_samples_split=6, n_estimators=100, total=   9.5s\n",
      "[CV] max_depth=9, min_samples_leaf=4, min_samples_split=6, n_estimators=200 \n",
      "[CV]  max_depth=9, min_samples_leaf=4, min_samples_split=6, n_estimators=100, total=   9.6s\n",
      "[CV] max_depth=9, min_samples_leaf=4, min_samples_split=6, n_estimators=200 \n",
      "[CV]  max_depth=9, min_samples_leaf=4, min_samples_split=6, n_estimators=100, total=   9.4s\n",
      "[CV] max_depth=9, min_samples_leaf=4, min_samples_split=6, n_estimators=200 \n",
      "[CV]  max_depth=9, min_samples_leaf=4, min_samples_split=6, n_estimators=200, total=  18.9s\n",
      "[CV] max_depth=9, min_samples_leaf=4, min_samples_split=6, n_estimators=300 \n",
      "[CV]  max_depth=9, min_samples_leaf=4, min_samples_split=6, n_estimators=200, total=  18.9s\n",
      "[CV] max_depth=9, min_samples_leaf=4, min_samples_split=6, n_estimators=300 \n",
      "[CV]  max_depth=9, min_samples_leaf=4, min_samples_split=6, n_estimators=200, total=  19.2s\n",
      "[CV] max_depth=9, min_samples_leaf=4, min_samples_split=6, n_estimators=300 \n",
      "[CV]  max_depth=9, min_samples_leaf=4, min_samples_split=6, n_estimators=300, total=  28.8s\n",
      "[CV] max_depth=10, min_samples_leaf=2, min_samples_split=2, n_estimators=100 \n",
      "[CV]  max_depth=9, min_samples_leaf=4, min_samples_split=6, n_estimators=300, total=  29.3s\n",
      "[CV] max_depth=10, min_samples_leaf=2, min_samples_split=2, n_estimators=100 \n",
      "[CV]  max_depth=9, min_samples_leaf=4, min_samples_split=6, n_estimators=300, total=  28.7s\n",
      "[CV] max_depth=10, min_samples_leaf=2, min_samples_split=2, n_estimators=100 \n",
      "[CV]  max_depth=10, min_samples_leaf=2, min_samples_split=2, n_estimators=100, total=  10.6s\n",
      "[CV] max_depth=10, min_samples_leaf=2, min_samples_split=2, n_estimators=200 \n",
      "[CV]  max_depth=10, min_samples_leaf=2, min_samples_split=2, n_estimators=100, total=  10.5s\n",
      "[CV] max_depth=10, min_samples_leaf=2, min_samples_split=2, n_estimators=200 \n",
      "[CV]  max_depth=10, min_samples_leaf=2, min_samples_split=2, n_estimators=100, total=  10.4s\n",
      "[CV] max_depth=10, min_samples_leaf=2, min_samples_split=2, n_estimators=200 \n",
      "[CV]  max_depth=10, min_samples_leaf=2, min_samples_split=2, n_estimators=200, total=  20.6s\n",
      "[CV] max_depth=10, min_samples_leaf=2, min_samples_split=2, n_estimators=300 \n",
      "[CV]  max_depth=10, min_samples_leaf=2, min_samples_split=2, n_estimators=200, total=  20.7s\n",
      "[CV] max_depth=10, min_samples_leaf=2, min_samples_split=2, n_estimators=300 \n",
      "[CV]  max_depth=10, min_samples_leaf=2, min_samples_split=2, n_estimators=200, total=  20.4s\n",
      "[CV] max_depth=10, min_samples_leaf=2, min_samples_split=2, n_estimators=300 \n",
      "[CV]  max_depth=10, min_samples_leaf=2, min_samples_split=2, n_estimators=300, total=  30.8s\n",
      "[CV] max_depth=10, min_samples_leaf=2, min_samples_split=4, n_estimators=100 \n",
      "[CV]  max_depth=10, min_samples_leaf=2, min_samples_split=2, n_estimators=300, total=  30.7s\n",
      "[CV] max_depth=10, min_samples_leaf=2, min_samples_split=4, n_estimators=100 \n",
      "[CV]  max_depth=10, min_samples_leaf=2, min_samples_split=2, n_estimators=300, total=  31.5s\n",
      "[CV] max_depth=10, min_samples_leaf=2, min_samples_split=4, n_estimators=100 \n",
      "[CV]  max_depth=10, min_samples_leaf=2, min_samples_split=4, n_estimators=100, total=  10.7s\n",
      "[CV] max_depth=10, min_samples_leaf=2, min_samples_split=4, n_estimators=200 \n",
      "[CV]  max_depth=10, min_samples_leaf=2, min_samples_split=4, n_estimators=100, total=  10.6s\n",
      "[CV] max_depth=10, min_samples_leaf=2, min_samples_split=4, n_estimators=200 \n",
      "[CV]  max_depth=10, min_samples_leaf=2, min_samples_split=4, n_estimators=100, total=  10.8s\n",
      "[CV] max_depth=10, min_samples_leaf=2, min_samples_split=4, n_estimators=200 \n",
      "[CV]  max_depth=10, min_samples_leaf=2, min_samples_split=4, n_estimators=200, total=  20.8s\n",
      "[CV] max_depth=10, min_samples_leaf=2, min_samples_split=4, n_estimators=300 \n",
      "[CV]  max_depth=10, min_samples_leaf=2, min_samples_split=4, n_estimators=200, total=  20.8s\n",
      "[CV] max_depth=10, min_samples_leaf=2, min_samples_split=4, n_estimators=300 \n",
      "[CV]  max_depth=10, min_samples_leaf=2, min_samples_split=4, n_estimators=200, total=  20.7s\n",
      "[CV] max_depth=10, min_samples_leaf=2, min_samples_split=4, n_estimators=300 \n",
      "[CV]  max_depth=10, min_samples_leaf=2, min_samples_split=4, n_estimators=300, total=  30.8s\n",
      "[CV] max_depth=10, min_samples_leaf=2, min_samples_split=6, n_estimators=100 \n",
      "[CV]  max_depth=10, min_samples_leaf=2, min_samples_split=4, n_estimators=300, total=  30.8s\n",
      "[CV] max_depth=10, min_samples_leaf=2, min_samples_split=6, n_estimators=100 \n",
      "[CV]  max_depth=10, min_samples_leaf=2, min_samples_split=4, n_estimators=300, total=  31.2s\n",
      "[CV] max_depth=10, min_samples_leaf=2, min_samples_split=6, n_estimators=100 \n",
      "[CV]  max_depth=10, min_samples_leaf=2, min_samples_split=6, n_estimators=100, total=  10.3s\n",
      "[CV] max_depth=10, min_samples_leaf=2, min_samples_split=6, n_estimators=200 \n",
      "[CV]  max_depth=10, min_samples_leaf=2, min_samples_split=6, n_estimators=100, total=  10.2s\n",
      "[CV] max_depth=10, min_samples_leaf=2, min_samples_split=6, n_estimators=200 \n",
      "[CV]  max_depth=10, min_samples_leaf=2, min_samples_split=6, n_estimators=100, total=  10.6s\n",
      "[CV] max_depth=10, min_samples_leaf=2, min_samples_split=6, n_estimators=200 \n",
      "[CV]  max_depth=10, min_samples_leaf=2, min_samples_split=6, n_estimators=200, total=  21.5s\n",
      "[CV] max_depth=10, min_samples_leaf=2, min_samples_split=6, n_estimators=300 \n",
      "[CV]  max_depth=10, min_samples_leaf=2, min_samples_split=6, n_estimators=200, total=  21.3s\n",
      "[CV] max_depth=10, min_samples_leaf=2, min_samples_split=6, n_estimators=300 \n",
      "[CV]  max_depth=10, min_samples_leaf=2, min_samples_split=6, n_estimators=200, total=  21.3s\n",
      "[CV] max_depth=10, min_samples_leaf=2, min_samples_split=6, n_estimators=300 \n",
      "[CV]  max_depth=10, min_samples_leaf=2, min_samples_split=6, n_estimators=300, total=  31.0s\n",
      "[CV]  max_depth=10, min_samples_leaf=2, min_samples_split=6, n_estimators=300, total=  31.0s\n",
      "[CV] max_depth=10, min_samples_leaf=4, min_samples_split=2, n_estimators=100 \n",
      "[CV] max_depth=10, min_samples_leaf=4, min_samples_split=2, n_estimators=100 \n",
      "[CV]  max_depth=10, min_samples_leaf=2, min_samples_split=6, n_estimators=300, total=  30.7s\n",
      "[CV] max_depth=10, min_samples_leaf=4, min_samples_split=2, n_estimators=100 \n",
      "[CV]  max_depth=10, min_samples_leaf=4, min_samples_split=2, n_estimators=100, total=  10.5s\n",
      "[CV] max_depth=10, min_samples_leaf=4, min_samples_split=2, n_estimators=200 \n",
      "[CV]  max_depth=10, min_samples_leaf=4, min_samples_split=2, n_estimators=100, total=  10.5s\n",
      "[CV] max_depth=10, min_samples_leaf=4, min_samples_split=2, n_estimators=200 \n",
      "[CV]  max_depth=10, min_samples_leaf=4, min_samples_split=2, n_estimators=100, total=  10.2s\n",
      "[CV] max_depth=10, min_samples_leaf=4, min_samples_split=2, n_estimators=200 \n",
      "[CV]  max_depth=10, min_samples_leaf=4, min_samples_split=2, n_estimators=200, total=  20.2s\n",
      "[CV] max_depth=10, min_samples_leaf=4, min_samples_split=2, n_estimators=300 \n",
      "[CV]  max_depth=10, min_samples_leaf=4, min_samples_split=2, n_estimators=200, total=  20.1s\n",
      "[CV] max_depth=10, min_samples_leaf=4, min_samples_split=2, n_estimators=300 \n",
      "[CV]  max_depth=10, min_samples_leaf=4, min_samples_split=2, n_estimators=200, total=  19.7s\n",
      "[CV] max_depth=10, min_samples_leaf=4, min_samples_split=2, n_estimators=300 \n",
      "[CV]  max_depth=10, min_samples_leaf=4, min_samples_split=2, n_estimators=300, total=  30.4s\n",
      "[CV] max_depth=10, min_samples_leaf=4, min_samples_split=4, n_estimators=100 \n",
      "[CV]  max_depth=10, min_samples_leaf=4, min_samples_split=2, n_estimators=300, total=  30.6s\n",
      "[CV] max_depth=10, min_samples_leaf=4, min_samples_split=4, n_estimators=100 \n",
      "[CV]  max_depth=10, min_samples_leaf=4, min_samples_split=2, n_estimators=300, total=  30.5s\n",
      "[CV] max_depth=10, min_samples_leaf=4, min_samples_split=4, n_estimators=100 \n",
      "[CV]  max_depth=10, min_samples_leaf=4, min_samples_split=4, n_estimators=100, total=  10.2s\n",
      "[CV] max_depth=10, min_samples_leaf=4, min_samples_split=4, n_estimators=200 \n",
      "[CV]  max_depth=10, min_samples_leaf=4, min_samples_split=4, n_estimators=100, total=  10.2s\n",
      "[CV] max_depth=10, min_samples_leaf=4, min_samples_split=4, n_estimators=200 \n",
      "[CV]  max_depth=10, min_samples_leaf=4, min_samples_split=4, n_estimators=100, total=  10.2s\n",
      "[CV] max_depth=10, min_samples_leaf=4, min_samples_split=4, n_estimators=200 \n",
      "[CV]  max_depth=10, min_samples_leaf=4, min_samples_split=4, n_estimators=200, total=  20.4s\n",
      "[CV] max_depth=10, min_samples_leaf=4, min_samples_split=4, n_estimators=300 \n",
      "[CV]  max_depth=10, min_samples_leaf=4, min_samples_split=4, n_estimators=200, total=  20.3s\n",
      "[CV] max_depth=10, min_samples_leaf=4, min_samples_split=4, n_estimators=300 \n",
      "[CV]  max_depth=10, min_samples_leaf=4, min_samples_split=4, n_estimators=200, total=  20.5s\n",
      "[CV] max_depth=10, min_samples_leaf=4, min_samples_split=4, n_estimators=300 \n",
      "[CV]  max_depth=10, min_samples_leaf=4, min_samples_split=4, n_estimators=300, total=  31.1s\n",
      "[CV] max_depth=10, min_samples_leaf=4, min_samples_split=6, n_estimators=100 \n",
      "[CV]  max_depth=10, min_samples_leaf=4, min_samples_split=4, n_estimators=300, total=  30.6s\n",
      "[CV] max_depth=10, min_samples_leaf=4, min_samples_split=6, n_estimators=100 \n",
      "[CV]  max_depth=10, min_samples_leaf=4, min_samples_split=4, n_estimators=300, total=  30.4s\n",
      "[CV] max_depth=10, min_samples_leaf=4, min_samples_split=6, n_estimators=100 \n",
      "[CV]  max_depth=10, min_samples_leaf=4, min_samples_split=6, n_estimators=100, total=  10.4s\n",
      "[CV] max_depth=10, min_samples_leaf=4, min_samples_split=6, n_estimators=200 \n",
      "[CV]  max_depth=10, min_samples_leaf=4, min_samples_split=6, n_estimators=100, total=  10.3s\n",
      "[CV] max_depth=10, min_samples_leaf=4, min_samples_split=6, n_estimators=200 \n",
      "[CV]  max_depth=10, min_samples_leaf=4, min_samples_split=6, n_estimators=100, total=  10.2s\n",
      "[CV] max_depth=10, min_samples_leaf=4, min_samples_split=6, n_estimators=200 \n",
      "[CV]  max_depth=10, min_samples_leaf=4, min_samples_split=6, n_estimators=200, total=  20.4s\n",
      "[CV] max_depth=10, min_samples_leaf=4, min_samples_split=6, n_estimators=300 \n",
      "[CV]  max_depth=10, min_samples_leaf=4, min_samples_split=6, n_estimators=200, total=  20.4s\n",
      "[CV] max_depth=10, min_samples_leaf=4, min_samples_split=6, n_estimators=300 \n",
      "[CV]  max_depth=10, min_samples_leaf=4, min_samples_split=6, n_estimators=200, total=  20.2s\n",
      "[CV] max_depth=10, min_samples_leaf=4, min_samples_split=6, n_estimators=300 \n",
      "[CV]  max_depth=10, min_samples_leaf=4, min_samples_split=6, n_estimators=300, total=  29.7s\n",
      "[CV]  max_depth=10, min_samples_leaf=4, min_samples_split=6, n_estimators=300, total=  30.3s\n",
      "[CV]  max_depth=10, min_samples_leaf=4, min_samples_split=6, n_estimators=300, total=  29.4s\n"
     ]
    },
    {
     "name": "stderr",
     "output_type": "stream",
     "text": [
      "[Parallel(n_jobs=3)]: Done 324 out of 324 | elapsed: 34.4min finished\n"
     ]
    },
    {
     "data": {
      "text/plain": [
       "GridSearchCV(cv=3, error_score='raise',\n",
       "       estimator=RandomForestClassifier(bootstrap=True, class_weight=None, criterion='gini',\n",
       "            max_depth=None, max_features='auto', max_leaf_nodes=None,\n",
       "            min_impurity_decrease=0.0, min_impurity_split=None,\n",
       "            min_samples_leaf=1, min_samples_split=2,\n",
       "            min_weight_fraction_leaf=0.0, n_estimators=10, n_jobs=1,\n",
       "            oob_score=False, random_state=123456789, verbose=0,\n",
       "            warm_start=False),\n",
       "       fit_params=None, iid=True, n_jobs=3,\n",
       "       param_grid={'n_estimators': [100, 200, 300], 'max_depth': [5, 6, 7, 8, 9, 10], 'min_samples_split': [2, 4, 6], 'min_samples_leaf': [2, 4]},\n",
       "       pre_dispatch='2*n_jobs', refit=True, return_train_score='warn',\n",
       "       scoring=None, verbose=2)"
      ]
     },
     "execution_count": 30,
     "metadata": {},
     "output_type": "execute_result"
    }
   ],
   "source": [
    "rf_clf = RandomForestClassifier(random_state=random_state)\n",
    "\n",
    "# Number of trees in random forest\n",
    "n_estimators = [100, 200, 300]\n",
    "\n",
    "# Maximum number of levels in tree\n",
    "max_depth = [int(x) for x in range(5, 11)]\n",
    "\n",
    "# Minimum number of samples required to split a node\n",
    "min_samples_split = [2, 4, 6]\n",
    "\n",
    "# Minimum number of samples required at each leaf node\n",
    "min_samples_leaf = [ 2, 4]\n",
    "\n",
    "# Create the random grid\n",
    "random_grid = {'n_estimators': n_estimators,\n",
    "               'max_depth': max_depth,\n",
    "               'min_samples_split': min_samples_split,\n",
    "               'min_samples_leaf': min_samples_leaf}\n",
    "\n",
    "randf = GridSearchCV(estimator = rf_clf,\n",
    "                               param_grid  = random_grid,\n",
    "                               cv = 3,\n",
    "                               verbose=2,\n",
    "                               n_jobs = 3)\n",
    "\n",
    "randf.fit(X_train, y_train)"
   ]
  },
  {
   "cell_type": "code",
   "execution_count": 31,
   "metadata": {
    "scrolled": true
   },
   "outputs": [
    {
     "name": "stdout",
     "output_type": "stream",
     "text": [
      "0.735838987573\n"
     ]
    }
   ],
   "source": [
    "y_rf_opt_pred = randf.best_estimator_.predict(X_test)\n",
    "print(accuracy_score(y_test,y_rf_opt_pred))"
   ]
  },
  {
   "cell_type": "code",
   "execution_count": 32,
   "metadata": {},
   "outputs": [
    {
     "data": {
      "image/png": "[encoded data removed]",
      "text/plain": [
       "<matplotlib.figure.Figure at 0x7fc91bebee80>"
      ]
     },
     "metadata": {
      "needs_background": "light"
     },
     "output_type": "display_data"
    }
   ],
   "source": [
    "rf_cm1 = confusion_matrix( y_test, y_rf_opt_pred)\n",
    "sns.heatmap(rf_cm1, annot=True);"
   ]
  },
  {
   "cell_type": "code",
   "execution_count": 33,
   "metadata": {},
   "outputs": [
    {
     "name": "stdout",
     "output_type": "stream",
     "text": [
      "             precision    recall  f1-score   support\n",
      "\n",
      "          0       0.77      0.72      0.74      6937\n",
      "          1       0.70      0.76      0.73      6180\n",
      "\n",
      "avg / total       0.74      0.74      0.74     13117\n",
      "\n"
     ]
    }
   ],
   "source": [
    "print(classification_report(y_test, y_rf_opt_pred))"
   ]
  },
  {
   "cell_type": "markdown",
   "metadata": {},
   "source": [
    "#### Random Forest Classifier\n",
    "  - We use grid search to find the best parameter values\n",
    "  - there was 5% improvement in the precision, which is good\n",
    "  - GridSearch took more time to evaluate the optimal parameter combinations\n",
    "  - As an improvement we could user RandomSearchCV instead of GridSearchCV\n",
    "  \n",
    "Random Forest Classifier performs feature importance and selection internally while constructing the model. The model can also report on the variable importance determined during the model preparation process. Now lets check out the Feature importance. "
   ]
  },
  {
   "cell_type": "code",
   "execution_count": 36,
   "metadata": {},
   "outputs": [
    {
     "data": {
      "text/plain": [
       "Index(['10 - 20', '100 - 110', '20 - 30', '30 - 40', '40 - 50', '50 - 60',\n",
       "       '60 - 70', '70 - 80', '80 - 90', '90 - 100', 'bogo', 'difficulty',\n",
       "       'discount', 'duration', 'email', 'gender_value', 'income',\n",
       "       'informational', 'mobile', 'reward', 'social', 'web', '2013', '2014',\n",
       "       '2015', '2016', '2017', '2018'],\n",
       "      dtype='object')"
      ]
     },
     "execution_count": 36,
     "metadata": {},
     "output_type": "execute_result"
    }
   ],
   "source": [
    "variable_names = X_train.columns\n",
    "variable_names"
   ]
  },
  {
   "cell_type": "markdown",
   "metadata": {},
   "source": [
    "#### Plot Estimated Feature Importance\n",
    "\n",
    "The top features for this problem are:\n",
    "  - Offer difficulty (how much money a customer must spend to complete an offer. this is dependent on reward and duration as well. Even if the difficulty is more, if the offer is valid for a longer time period and if the reward is higher, there is a higher chance that offer will be completed by customers)\n",
    "  - Offer reward (more the reward the better the probability of customer completing an offer)\n",
    "  - Offer duration (more the duration the better the probability of customer completing an offer\n",
    "  - Customer income \n",
    "  - 2018 (Year when the user created the account)\n",
    "  - social (whether the offers area available through social media. this make sense as more and more people are using social media like instagra, twitter, FB, Snapchat etc)\n",
    "  - informational (the offer was informational message. This could mean that if it is informational people generally may not complete the offer. and could be a major feature in identifying what type of offer is more effective)\n",
    "  \n",
    "**I am surprised that bogo and discount are not in the top 5 features.**"
   ]
  },
  {
   "cell_type": "code",
   "execution_count": 37,
   "metadata": {},
   "outputs": [
    {
     "data": {
      "text/plain": [
       "Text(0.5,1,'Random Forest Estimated Feature Importance')"
      ]
     },
     "execution_count": 37,
     "metadata": {},
     "output_type": "execute_result"
    },
    {
     "data": {
      "image/png": "[encoded data removed]",
      "text/plain": [
       "<matplotlib.figure.Figure at 0x7fc91bee1eb8>"
      ]
     },
     "metadata": {
      "needs_background": "light"
     },
     "output_type": "display_data"
    }
   ],
   "source": [
    "relative_importance = randf.best_estimator_.feature_importances_\n",
    "relative_importance = relative_importance / np.sum(relative_importance)\n",
    "\n",
    "feature_importance =\\\n",
    "    pd.DataFrame(list(zip(variable_names,\n",
    "                          relative_importance)),\n",
    "                 columns=['feature', 'relativeimportance'])\n",
    "\n",
    "feature_importance = feature_importance.sort_values('relativeimportance',\n",
    "                                                    ascending=False)\n",
    "\n",
    "feature_importance = feature_importance.reset_index(drop=True)\n",
    "\n",
    "palette = sns.color_palette(\"Blues_r\", feature_importance.shape[0])\n",
    "\n",
    "plt.figure(figsize=(8, 8))\n",
    "sns.barplot(x='relativeimportance',\n",
    "            y='feature',\n",
    "            data=feature_importance,\n",
    "            palette=palette)\n",
    "plt.xlabel('Relative Importance')\n",
    "plt.ylabel('Feature')\n",
    "plt.title('Random Forest Estimated Feature Importance')"
   ]
  },
  {
   "cell_type": "code",
   "execution_count": 38,
   "metadata": {},
   "outputs": [
    {
     "data": {
      "text/html": [
       "<div>\n",
       "<style scoped>\n",
       "    .dataframe tbody tr th:only-of-type {\n",
       "        vertical-align: middle;\n",
       "    }\n",
       "\n",
       "    .dataframe tbody tr th {\n",
       "        vertical-align: top;\n",
       "    }\n",
       "\n",
       "    .dataframe thead th {\n",
       "        text-align: right;\n",
       "    }\n",
       "</style>\n",
       "<table border=\"1\" class=\"dataframe\">\n",
       "  <thead>\n",
       "    <tr style=\"text-align: right;\">\n",
       "      <th></th>\n",
       "      <th>feature</th>\n",
       "      <th>relativeimportance</th>\n",
       "    </tr>\n",
       "  </thead>\n",
       "  <tbody>\n",
       "    <tr>\n",
       "      <th>0</th>\n",
       "      <td>reward</td>\n",
       "      <td>0.182462</td>\n",
       "    </tr>\n",
       "    <tr>\n",
       "      <th>1</th>\n",
       "      <td>duration</td>\n",
       "      <td>0.150666</td>\n",
       "    </tr>\n",
       "    <tr>\n",
       "      <th>2</th>\n",
       "      <td>difficulty</td>\n",
       "      <td>0.125439</td>\n",
       "    </tr>\n",
       "    <tr>\n",
       "      <th>3</th>\n",
       "      <td>informational</td>\n",
       "      <td>0.108255</td>\n",
       "    </tr>\n",
       "    <tr>\n",
       "      <th>4</th>\n",
       "      <td>2018</td>\n",
       "      <td>0.089817</td>\n",
       "    </tr>\n",
       "    <tr>\n",
       "      <th>5</th>\n",
       "      <td>income</td>\n",
       "      <td>0.087475</td>\n",
       "    </tr>\n",
       "    <tr>\n",
       "      <th>6</th>\n",
       "      <td>social</td>\n",
       "      <td>0.054444</td>\n",
       "    </tr>\n",
       "    <tr>\n",
       "      <th>7</th>\n",
       "      <td>2016</td>\n",
       "      <td>0.050291</td>\n",
       "    </tr>\n",
       "    <tr>\n",
       "      <th>8</th>\n",
       "      <td>discount</td>\n",
       "      <td>0.030711</td>\n",
       "    </tr>\n",
       "    <tr>\n",
       "      <th>9</th>\n",
       "      <td>gender_value</td>\n",
       "      <td>0.027704</td>\n",
       "    </tr>\n",
       "  </tbody>\n",
       "</table>\n",
       "</div>"
      ],
      "text/plain": [
       "         feature  relativeimportance\n",
       "0         reward            0.182462\n",
       "1       duration            0.150666\n",
       "2     difficulty            0.125439\n",
       "3  informational            0.108255\n",
       "4           2018            0.089817\n",
       "5         income            0.087475\n",
       "6         social            0.054444\n",
       "7           2016            0.050291\n",
       "8       discount            0.030711\n",
       "9   gender_value            0.027704"
      ]
     },
     "execution_count": 38,
     "metadata": {},
     "output_type": "execute_result"
    }
   ],
   "source": [
    "feature_importance.head(n=10)"
   ]
  },
  {
   "cell_type": "markdown",
   "metadata": {},
   "source": [
    "### Conclusion\n",
    "\n",
    "The problem that I chose to solve was to build a model that, given a set of features of predicts the chances of an offer being successful or not. My strategy for solving this problem has four steps. \n",
    "  - First i cleaned up the data sets\n",
    "  - Second, I combined offer portfolio, customer profile, and transaction data into one data frame and this was the fun part. \n",
    "  - In the next step I some more analysis of the dataset to check the following:\n",
    "    - Correlation of Income to offer being successful\n",
    "    - Who spens more money (Women or Men)\n",
    "    - How reward affects the success of the offer\n",
    "    - How difficutly affects the success of the offer\n",
    "    - How duration affects the success of the offer\n",
    "  - In the last step, I created 3 models and evaluated the results\n",
    "    - SVM\n",
    "    - Logistic Regression (I tried it with default parameter values and then used Grid Search to fine tune the parameters)\n",
    "    - Ramdon Forest Classifer (I tried it with default parameter values and then used Grid Search to fine tune the parameters)\n",
    "    \n",
    "I compared the performance of logistic regression, svm and random forest models. This analysis suggests that a random forest model has the best training data accuracy and F1-score. The same is the case for test data, random forest seems to do better.\n",
    "\n",
    "Feature importance refers to a numerical value that describes a feature's contribution to building a model that maximizes its evaluation metric. A random forest classifier is an example of a model that estimates feature importance during training. The below are the top features:\n",
    "\n",
    "  - Offer difficulty (how much money a customer must spend to complete an offer)\n",
    "  - Offer reward\n",
    "  - Offer duration\n",
    "  - Customer income\n",
    "  - 2018 (Year when the user created the account)\n",
    "  - social (whether the offers are available through social media) \n",
    "  - informational\n",
    "\n",
    "##### Improvements\n",
    "  - We can refine random forest model hyperparameters using more parameters. The new model parameters may yield us better results.\n",
    "  - we could also try other models and then compare the accuracy of all the models to find the best one.\n",
    "\n",
    "For this project the most important point was the data cleansing activities and combining the data sets into one data set. Feature engineering is very important and here is a [great article on the same](https://machinelearningmastery.com/discover-feature-engineering-how-to-engineer-features-and-how-to-get-good-at-it/)."
   ]
  }
 ],
 "metadata": {
  "kernelspec": {
   "display_name": "Python 3",
   "language": "python",
   "name": "python3"
  },
  "language_info": {
   "codemirror_mode": {
    "name": "ipython",
    "version": 3
   },
   "file_extension": ".py",
   "mimetype": "text/x-python",
   "name": "python",
   "nbconvert_exporter": "python",
   "pygments_lexer": "ipython3",
   "version": "3.6.3"
  }
 },
 "nbformat": 4,
 "nbformat_minor": 2
}
